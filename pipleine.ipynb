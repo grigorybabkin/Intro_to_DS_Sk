{
 "cells": [
  {
   "cell_type": "markdown",
   "id": "alUJ17IYo8Zy",
   "metadata": {
    "id": "alUJ17IYo8Zy"
   },
   "source": [
    "# Expresso Churn Prediction.\n",
    "\n",
    "In this dataset our team tried to use machine learning algorithms in order to predict whether client left the company or remained and for this task we used dataset from Expresso competition. In order to deliver better results, we followed machine learning lifecycle. For machine learning algorithm, we tried two types of ensembling methods with Gradient Boosting Machine from Scikit-learn as well as XGBoost classifier from XGBoost."
   ]
  },
  {
   "cell_type": "markdown",
   "id": "j6TtIdCFqS7S",
   "metadata": {
    "id": "j6TtIdCFqS7S"
   },
   "source": [
    "## 1. Basics."
   ]
  },
  {
   "cell_type": "code",
   "execution_count": 1,
   "id": "f1ede500",
   "metadata": {
    "id": "f1ede500"
   },
   "outputs": [],
   "source": [
    "# import basic packets\n",
    "\n",
    "import pandas as pd\n",
    "import numpy as np\n",
    "import matplotlib.pyplot as plt\n",
    "%matplotlib inline\n",
    "import seaborn as sns\n",
    "sns.set()"
   ]
  },
  {
   "cell_type": "code",
   "execution_count": 2,
   "id": "42532040",
   "metadata": {
    "id": "42532040"
   },
   "outputs": [],
   "source": [
    "df=pd.read_csv('Train.csv')"
   ]
  },
  {
   "cell_type": "code",
   "execution_count": 3,
   "id": "b248a85d",
   "metadata": {
    "id": "b248a85d",
    "outputId": "988b3838-88f6-4aba-d090-b5ed81023792"
   },
   "outputs": [
    {
     "data": {
      "text/html": [
       "<div>\n",
       "<style scoped>\n",
       "    .dataframe tbody tr th:only-of-type {\n",
       "        vertical-align: middle;\n",
       "    }\n",
       "\n",
       "    .dataframe tbody tr th {\n",
       "        vertical-align: top;\n",
       "    }\n",
       "\n",
       "    .dataframe thead th {\n",
       "        text-align: right;\n",
       "    }\n",
       "</style>\n",
       "<table border=\"1\" class=\"dataframe\">\n",
       "  <thead>\n",
       "    <tr style=\"text-align: right;\">\n",
       "      <th></th>\n",
       "      <th>Variable Definitions</th>\n",
       "      <th>Unnamed: 1</th>\n",
       "      <th>Unnamed: 2</th>\n",
       "    </tr>\n",
       "  </thead>\n",
       "  <tbody>\n",
       "    <tr>\n",
       "      <th>0</th>\n",
       "      <td>NaN</td>\n",
       "      <td>French</td>\n",
       "      <td>English</td>\n",
       "    </tr>\n",
       "    <tr>\n",
       "      <th>1</th>\n",
       "      <td>NaN</td>\n",
       "      <td>Le dataset churn comprend 19 variables dont 15...</td>\n",
       "      <td>The churn dataset includes 19 variables includ...</td>\n",
       "    </tr>\n",
       "    <tr>\n",
       "      <th>2</th>\n",
       "      <td>user_id</td>\n",
       "      <td>NaN</td>\n",
       "      <td>NaN</td>\n",
       "    </tr>\n",
       "    <tr>\n",
       "      <th>3</th>\n",
       "      <td>REGION</td>\n",
       "      <td>la localité de chaque client</td>\n",
       "      <td>the location of each client</td>\n",
       "    </tr>\n",
       "    <tr>\n",
       "      <th>4</th>\n",
       "      <td>TENURE</td>\n",
       "      <td>la durée dans le reseau</td>\n",
       "      <td>duration in the network</td>\n",
       "    </tr>\n",
       "    <tr>\n",
       "      <th>5</th>\n",
       "      <td>MONTANT</td>\n",
       "      <td>montant de recharge</td>\n",
       "      <td>top-up amount</td>\n",
       "    </tr>\n",
       "    <tr>\n",
       "      <th>6</th>\n",
       "      <td>FREQUENCE_RECH</td>\n",
       "      <td>nombre de fois que le client a fait une recharge</td>\n",
       "      <td>number of times the customer refilled</td>\n",
       "    </tr>\n",
       "    <tr>\n",
       "      <th>7</th>\n",
       "      <td>REVENUE</td>\n",
       "      <td>revenu mensuel de chaque client</td>\n",
       "      <td>monthly income of each client</td>\n",
       "    </tr>\n",
       "    <tr>\n",
       "      <th>8</th>\n",
       "      <td>ARPU_SEGMENT</td>\n",
       "      <td>revenu sur 90 jours/3</td>\n",
       "      <td>income over 90 days / 3</td>\n",
       "    </tr>\n",
       "    <tr>\n",
       "      <th>9</th>\n",
       "      <td>FREQUENCE</td>\n",
       "      <td>nombre de fois que client à fait un revenu</td>\n",
       "      <td>number of times the client has made an income</td>\n",
       "    </tr>\n",
       "    <tr>\n",
       "      <th>10</th>\n",
       "      <td>DATA_VOLUME</td>\n",
       "      <td>nombre de connexions</td>\n",
       "      <td>number of connections</td>\n",
       "    </tr>\n",
       "    <tr>\n",
       "      <th>11</th>\n",
       "      <td>ON_NET</td>\n",
       "      <td>appel inter expresso</td>\n",
       "      <td>inter expresso call</td>\n",
       "    </tr>\n",
       "    <tr>\n",
       "      <th>12</th>\n",
       "      <td>ORANGE</td>\n",
       "      <td>appel vers orange</td>\n",
       "      <td>call to orange</td>\n",
       "    </tr>\n",
       "    <tr>\n",
       "      <th>13</th>\n",
       "      <td>TIGO</td>\n",
       "      <td>appel vers Tigo</td>\n",
       "      <td>call to Tigo</td>\n",
       "    </tr>\n",
       "    <tr>\n",
       "      <th>14</th>\n",
       "      <td>ZONE1</td>\n",
       "      <td>appel vers les zone1</td>\n",
       "      <td>call to zones1</td>\n",
       "    </tr>\n",
       "    <tr>\n",
       "      <th>15</th>\n",
       "      <td>ZONE2</td>\n",
       "      <td>appel vers les zone2</td>\n",
       "      <td>call to zones2</td>\n",
       "    </tr>\n",
       "    <tr>\n",
       "      <th>16</th>\n",
       "      <td>MRG</td>\n",
       "      <td>un client qui fait du vas</td>\n",
       "      <td>a client who is going</td>\n",
       "    </tr>\n",
       "    <tr>\n",
       "      <th>17</th>\n",
       "      <td>REGULARITY</td>\n",
       "      <td>nombre de fois que le client est actif pendant...</td>\n",
       "      <td>number of times the client is active for 90 days</td>\n",
       "    </tr>\n",
       "    <tr>\n",
       "      <th>18</th>\n",
       "      <td>TOP_PACK</td>\n",
       "      <td>les pack les plus activés</td>\n",
       "      <td>the most active packs</td>\n",
       "    </tr>\n",
       "    <tr>\n",
       "      <th>19</th>\n",
       "      <td>FREQ_TOP_PACK</td>\n",
       "      <td>nombre de fois que le client a activé les pack...</td>\n",
       "      <td>number of times the client has activated the t...</td>\n",
       "    </tr>\n",
       "    <tr>\n",
       "      <th>20</th>\n",
       "      <td>CHURN</td>\n",
       "      <td>variable à predire - Target</td>\n",
       "      <td>variable to predict - Target</td>\n",
       "    </tr>\n",
       "  </tbody>\n",
       "</table>\n",
       "</div>"
      ],
      "text/plain": [
       "   Variable Definitions                                         Unnamed: 1  \\\n",
       "0                   NaN                                             French   \n",
       "1                   NaN  Le dataset churn comprend 19 variables dont 15...   \n",
       "2               user_id                                                NaN   \n",
       "3                REGION                       la localité de chaque client   \n",
       "4                TENURE                            la durée dans le reseau   \n",
       "5               MONTANT                                montant de recharge   \n",
       "6        FREQUENCE_RECH   nombre de fois que le client a fait une recharge   \n",
       "7               REVENUE                    revenu mensuel de chaque client   \n",
       "8          ARPU_SEGMENT                              revenu sur 90 jours/3   \n",
       "9             FREQUENCE         nombre de fois que client à fait un revenu   \n",
       "10          DATA_VOLUME                               nombre de connexions   \n",
       "11               ON_NET                               appel inter expresso   \n",
       "12               ORANGE                                  appel vers orange   \n",
       "13                 TIGO                                    appel vers Tigo   \n",
       "14                ZONE1                               appel vers les zone1   \n",
       "15                ZONE2                               appel vers les zone2   \n",
       "16                  MRG                          un client qui fait du vas   \n",
       "17           REGULARITY  nombre de fois que le client est actif pendant...   \n",
       "18             TOP_PACK                          les pack les plus activés   \n",
       "19        FREQ_TOP_PACK  nombre de fois que le client a activé les pack...   \n",
       "20                CHURN                        variable à predire - Target   \n",
       "\n",
       "                                           Unnamed: 2  \n",
       "0                                             English  \n",
       "1   The churn dataset includes 19 variables includ...  \n",
       "2                                                 NaN  \n",
       "3                         the location of each client  \n",
       "4                             duration in the network  \n",
       "5                                       top-up amount  \n",
       "6               number of times the customer refilled  \n",
       "7                       monthly income of each client  \n",
       "8                             income over 90 days / 3  \n",
       "9       number of times the client has made an income  \n",
       "10                              number of connections  \n",
       "11                                inter expresso call  \n",
       "12                                     call to orange  \n",
       "13                                       call to Tigo  \n",
       "14                                     call to zones1  \n",
       "15                                     call to zones2  \n",
       "16                              a client who is going  \n",
       "17   number of times the client is active for 90 days  \n",
       "18                              the most active packs  \n",
       "19  number of times the client has activated the t...  \n",
       "20                       variable to predict - Target  "
      ]
     },
     "execution_count": 3,
     "metadata": {},
     "output_type": "execute_result"
    }
   ],
   "source": [
    "metadata = pd.read_csv('VariableDefinitions.csv')\n",
    "metadata"
   ]
  },
  {
   "cell_type": "code",
   "execution_count": 4,
   "id": "439e3e38",
   "metadata": {
    "id": "439e3e38",
    "outputId": "104d5c55-f147-4017-f124-03f1fbebf94a"
   },
   "outputs": [
    {
     "name": "stdout",
     "output_type": "stream",
     "text": [
      "<class 'pandas.core.frame.DataFrame'>\n",
      "RangeIndex: 2154048 entries, 0 to 2154047\n",
      "Data columns (total 19 columns):\n",
      " #   Column          Dtype  \n",
      "---  ------          -----  \n",
      " 0   user_id         object \n",
      " 1   REGION          object \n",
      " 2   TENURE          object \n",
      " 3   MONTANT         float64\n",
      " 4   FREQUENCE_RECH  float64\n",
      " 5   REVENUE         float64\n",
      " 6   ARPU_SEGMENT    float64\n",
      " 7   FREQUENCE       float64\n",
      " 8   DATA_VOLUME     float64\n",
      " 9   ON_NET          float64\n",
      " 10  ORANGE          float64\n",
      " 11  TIGO            float64\n",
      " 12  ZONE1           float64\n",
      " 13  ZONE2           float64\n",
      " 14  MRG             object \n",
      " 15  REGULARITY      int64  \n",
      " 16  TOP_PACK        object \n",
      " 17  FREQ_TOP_PACK   float64\n",
      " 18  CHURN           int64  \n",
      "dtypes: float64(12), int64(2), object(5)\n",
      "memory usage: 312.2+ MB\n"
     ]
    }
   ],
   "source": [
    "df.info()"
   ]
  },
  {
   "cell_type": "code",
   "execution_count": 5,
   "id": "3e988ca1",
   "metadata": {
    "id": "3e988ca1",
    "outputId": "f320a8ca-4eb4-4794-8630-4d0d7993fdf5"
   },
   "outputs": [
    {
     "data": {
      "text/plain": [
       "(2154048, 19)"
      ]
     },
     "execution_count": 5,
     "metadata": {},
     "output_type": "execute_result"
    }
   ],
   "source": [
    "df.shape"
   ]
  },
  {
   "cell_type": "markdown",
   "id": "99N7xZEaqc-d",
   "metadata": {
    "id": "99N7xZEaqc-d"
   },
   "source": [
    "### Observation.\n",
    "\n",
    "We have 2,154,048 rows of data with 18 features and 1 target. More than half of features are float, while rest of them are objects or integers values."
   ]
  },
  {
   "cell_type": "code",
   "execution_count": 6,
   "id": "47Qzw9vqrBGc",
   "metadata": {
    "id": "47Qzw9vqrBGc"
   },
   "outputs": [
    {
     "data": {
      "text/html": [
       "<div>\n",
       "<style scoped>\n",
       "    .dataframe tbody tr th:only-of-type {\n",
       "        vertical-align: middle;\n",
       "    }\n",
       "\n",
       "    .dataframe tbody tr th {\n",
       "        vertical-align: top;\n",
       "    }\n",
       "\n",
       "    .dataframe thead th {\n",
       "        text-align: right;\n",
       "    }\n",
       "</style>\n",
       "<table border=\"1\" class=\"dataframe\">\n",
       "  <thead>\n",
       "    <tr style=\"text-align: right;\">\n",
       "      <th></th>\n",
       "      <th>user_id</th>\n",
       "      <th>REGION</th>\n",
       "      <th>TENURE</th>\n",
       "      <th>MONTANT</th>\n",
       "      <th>FREQUENCE_RECH</th>\n",
       "      <th>REVENUE</th>\n",
       "      <th>ARPU_SEGMENT</th>\n",
       "      <th>FREQUENCE</th>\n",
       "      <th>DATA_VOLUME</th>\n",
       "      <th>ON_NET</th>\n",
       "      <th>ORANGE</th>\n",
       "      <th>TIGO</th>\n",
       "      <th>ZONE1</th>\n",
       "      <th>ZONE2</th>\n",
       "      <th>MRG</th>\n",
       "      <th>REGULARITY</th>\n",
       "      <th>TOP_PACK</th>\n",
       "      <th>FREQ_TOP_PACK</th>\n",
       "      <th>CHURN</th>\n",
       "    </tr>\n",
       "  </thead>\n",
       "  <tbody>\n",
       "    <tr>\n",
       "      <th>0</th>\n",
       "      <td>00000bfd7d50f01092811bc0c8d7b0d6fe7c3596</td>\n",
       "      <td>FATICK</td>\n",
       "      <td>K &gt; 24 month</td>\n",
       "      <td>4250.0</td>\n",
       "      <td>15.0</td>\n",
       "      <td>4251.0</td>\n",
       "      <td>1417.0</td>\n",
       "      <td>17.0</td>\n",
       "      <td>4.0</td>\n",
       "      <td>388.0</td>\n",
       "      <td>46.0</td>\n",
       "      <td>1.0</td>\n",
       "      <td>1.0</td>\n",
       "      <td>2.0</td>\n",
       "      <td>NO</td>\n",
       "      <td>54</td>\n",
       "      <td>On net 200F=Unlimited _call24H</td>\n",
       "      <td>8.0</td>\n",
       "      <td>0</td>\n",
       "    </tr>\n",
       "    <tr>\n",
       "      <th>1</th>\n",
       "      <td>00000cb4a5d760de88fecb38e2f71b7bec52e834</td>\n",
       "      <td>NaN</td>\n",
       "      <td>I 18-21 month</td>\n",
       "      <td>NaN</td>\n",
       "      <td>NaN</td>\n",
       "      <td>NaN</td>\n",
       "      <td>NaN</td>\n",
       "      <td>NaN</td>\n",
       "      <td>NaN</td>\n",
       "      <td>NaN</td>\n",
       "      <td>NaN</td>\n",
       "      <td>NaN</td>\n",
       "      <td>NaN</td>\n",
       "      <td>NaN</td>\n",
       "      <td>NO</td>\n",
       "      <td>4</td>\n",
       "      <td>NaN</td>\n",
       "      <td>NaN</td>\n",
       "      <td>1</td>\n",
       "    </tr>\n",
       "    <tr>\n",
       "      <th>2</th>\n",
       "      <td>00001654a9d9f96303d9969d0a4a851714a4bb57</td>\n",
       "      <td>NaN</td>\n",
       "      <td>K &gt; 24 month</td>\n",
       "      <td>3600.0</td>\n",
       "      <td>2.0</td>\n",
       "      <td>1020.0</td>\n",
       "      <td>340.0</td>\n",
       "      <td>2.0</td>\n",
       "      <td>NaN</td>\n",
       "      <td>90.0</td>\n",
       "      <td>46.0</td>\n",
       "      <td>7.0</td>\n",
       "      <td>NaN</td>\n",
       "      <td>NaN</td>\n",
       "      <td>NO</td>\n",
       "      <td>17</td>\n",
       "      <td>On-net 1000F=10MilF;10d</td>\n",
       "      <td>1.0</td>\n",
       "      <td>0</td>\n",
       "    </tr>\n",
       "    <tr>\n",
       "      <th>3</th>\n",
       "      <td>00001dd6fa45f7ba044bd5d84937be464ce78ac2</td>\n",
       "      <td>DAKAR</td>\n",
       "      <td>K &gt; 24 month</td>\n",
       "      <td>13500.0</td>\n",
       "      <td>15.0</td>\n",
       "      <td>13502.0</td>\n",
       "      <td>4501.0</td>\n",
       "      <td>18.0</td>\n",
       "      <td>43804.0</td>\n",
       "      <td>41.0</td>\n",
       "      <td>102.0</td>\n",
       "      <td>2.0</td>\n",
       "      <td>NaN</td>\n",
       "      <td>NaN</td>\n",
       "      <td>NO</td>\n",
       "      <td>62</td>\n",
       "      <td>Data:1000F=5GB,7d</td>\n",
       "      <td>11.0</td>\n",
       "      <td>0</td>\n",
       "    </tr>\n",
       "    <tr>\n",
       "      <th>4</th>\n",
       "      <td>000028d9e13a595abe061f9b58f3d76ab907850f</td>\n",
       "      <td>DAKAR</td>\n",
       "      <td>K &gt; 24 month</td>\n",
       "      <td>1000.0</td>\n",
       "      <td>1.0</td>\n",
       "      <td>985.0</td>\n",
       "      <td>328.0</td>\n",
       "      <td>1.0</td>\n",
       "      <td>NaN</td>\n",
       "      <td>39.0</td>\n",
       "      <td>24.0</td>\n",
       "      <td>NaN</td>\n",
       "      <td>NaN</td>\n",
       "      <td>NaN</td>\n",
       "      <td>NO</td>\n",
       "      <td>11</td>\n",
       "      <td>Mixt 250F=Unlimited_call24H</td>\n",
       "      <td>2.0</td>\n",
       "      <td>0</td>\n",
       "    </tr>\n",
       "    <tr>\n",
       "      <th>5</th>\n",
       "      <td>0000296564272665ccd2925d377e124f3306b01e</td>\n",
       "      <td>LOUGA</td>\n",
       "      <td>K &gt; 24 month</td>\n",
       "      <td>8500.0</td>\n",
       "      <td>17.0</td>\n",
       "      <td>9000.0</td>\n",
       "      <td>3000.0</td>\n",
       "      <td>18.0</td>\n",
       "      <td>NaN</td>\n",
       "      <td>252.0</td>\n",
       "      <td>70.0</td>\n",
       "      <td>91.0</td>\n",
       "      <td>NaN</td>\n",
       "      <td>NaN</td>\n",
       "      <td>NO</td>\n",
       "      <td>62</td>\n",
       "      <td>MIXT:500F= 2500F on net _2500F off net;2d</td>\n",
       "      <td>18.0</td>\n",
       "      <td>0</td>\n",
       "    </tr>\n",
       "    <tr>\n",
       "      <th>6</th>\n",
       "      <td>00002b0ed56e2c199ec8c3021327229afa70f063</td>\n",
       "      <td>LOUGA</td>\n",
       "      <td>K &gt; 24 month</td>\n",
       "      <td>NaN</td>\n",
       "      <td>NaN</td>\n",
       "      <td>NaN</td>\n",
       "      <td>NaN</td>\n",
       "      <td>NaN</td>\n",
       "      <td>NaN</td>\n",
       "      <td>NaN</td>\n",
       "      <td>NaN</td>\n",
       "      <td>NaN</td>\n",
       "      <td>NaN</td>\n",
       "      <td>NaN</td>\n",
       "      <td>NO</td>\n",
       "      <td>2</td>\n",
       "      <td>NaN</td>\n",
       "      <td>NaN</td>\n",
       "      <td>0</td>\n",
       "    </tr>\n",
       "    <tr>\n",
       "      <th>7</th>\n",
       "      <td>0000313946b6849745963442c6e572d47cd24ced</td>\n",
       "      <td>DAKAR</td>\n",
       "      <td>K &gt; 24 month</td>\n",
       "      <td>7000.0</td>\n",
       "      <td>16.0</td>\n",
       "      <td>7229.0</td>\n",
       "      <td>2410.0</td>\n",
       "      <td>22.0</td>\n",
       "      <td>1601.0</td>\n",
       "      <td>77.0</td>\n",
       "      <td>29.0</td>\n",
       "      <td>100.0</td>\n",
       "      <td>NaN</td>\n",
       "      <td>NaN</td>\n",
       "      <td>NO</td>\n",
       "      <td>55</td>\n",
       "      <td>All-net 500F=2000F;5d</td>\n",
       "      <td>8.0</td>\n",
       "      <td>0</td>\n",
       "    </tr>\n",
       "    <tr>\n",
       "      <th>8</th>\n",
       "      <td>0000398021ccd3a488fa1a63dee3b2f0d471f9fd</td>\n",
       "      <td>DAKAR</td>\n",
       "      <td>K &gt; 24 month</td>\n",
       "      <td>1500.0</td>\n",
       "      <td>3.0</td>\n",
       "      <td>1502.0</td>\n",
       "      <td>501.0</td>\n",
       "      <td>12.0</td>\n",
       "      <td>NaN</td>\n",
       "      <td>2.0</td>\n",
       "      <td>53.0</td>\n",
       "      <td>2.0</td>\n",
       "      <td>NaN</td>\n",
       "      <td>NaN</td>\n",
       "      <td>NO</td>\n",
       "      <td>31</td>\n",
       "      <td>NaN</td>\n",
       "      <td>NaN</td>\n",
       "      <td>0</td>\n",
       "    </tr>\n",
       "    <tr>\n",
       "      <th>9</th>\n",
       "      <td>00003d165737109921ebd21f883cb8cff028b626</td>\n",
       "      <td>TAMBACOUNDA</td>\n",
       "      <td>K &gt; 24 month</td>\n",
       "      <td>4000.0</td>\n",
       "      <td>8.0</td>\n",
       "      <td>4000.0</td>\n",
       "      <td>1333.0</td>\n",
       "      <td>8.0</td>\n",
       "      <td>NaN</td>\n",
       "      <td>1620.0</td>\n",
       "      <td>9.0</td>\n",
       "      <td>NaN</td>\n",
       "      <td>NaN</td>\n",
       "      <td>NaN</td>\n",
       "      <td>NO</td>\n",
       "      <td>45</td>\n",
       "      <td>On-net 500F_FNF;3d</td>\n",
       "      <td>8.0</td>\n",
       "      <td>0</td>\n",
       "    </tr>\n",
       "  </tbody>\n",
       "</table>\n",
       "</div>"
      ],
      "text/plain": [
       "                                    user_id       REGION         TENURE  \\\n",
       "0  00000bfd7d50f01092811bc0c8d7b0d6fe7c3596       FATICK   K > 24 month   \n",
       "1  00000cb4a5d760de88fecb38e2f71b7bec52e834          NaN  I 18-21 month   \n",
       "2  00001654a9d9f96303d9969d0a4a851714a4bb57          NaN   K > 24 month   \n",
       "3  00001dd6fa45f7ba044bd5d84937be464ce78ac2        DAKAR   K > 24 month   \n",
       "4  000028d9e13a595abe061f9b58f3d76ab907850f        DAKAR   K > 24 month   \n",
       "5  0000296564272665ccd2925d377e124f3306b01e        LOUGA   K > 24 month   \n",
       "6  00002b0ed56e2c199ec8c3021327229afa70f063        LOUGA   K > 24 month   \n",
       "7  0000313946b6849745963442c6e572d47cd24ced        DAKAR   K > 24 month   \n",
       "8  0000398021ccd3a488fa1a63dee3b2f0d471f9fd        DAKAR   K > 24 month   \n",
       "9  00003d165737109921ebd21f883cb8cff028b626  TAMBACOUNDA   K > 24 month   \n",
       "\n",
       "   MONTANT  FREQUENCE_RECH  REVENUE  ARPU_SEGMENT  FREQUENCE  DATA_VOLUME  \\\n",
       "0   4250.0            15.0   4251.0        1417.0       17.0          4.0   \n",
       "1      NaN             NaN      NaN           NaN        NaN          NaN   \n",
       "2   3600.0             2.0   1020.0         340.0        2.0          NaN   \n",
       "3  13500.0            15.0  13502.0        4501.0       18.0      43804.0   \n",
       "4   1000.0             1.0    985.0         328.0        1.0          NaN   \n",
       "5   8500.0            17.0   9000.0        3000.0       18.0          NaN   \n",
       "6      NaN             NaN      NaN           NaN        NaN          NaN   \n",
       "7   7000.0            16.0   7229.0        2410.0       22.0       1601.0   \n",
       "8   1500.0             3.0   1502.0         501.0       12.0          NaN   \n",
       "9   4000.0             8.0   4000.0        1333.0        8.0          NaN   \n",
       "\n",
       "   ON_NET  ORANGE   TIGO  ZONE1  ZONE2 MRG  REGULARITY  \\\n",
       "0   388.0    46.0    1.0    1.0    2.0  NO          54   \n",
       "1     NaN     NaN    NaN    NaN    NaN  NO           4   \n",
       "2    90.0    46.0    7.0    NaN    NaN  NO          17   \n",
       "3    41.0   102.0    2.0    NaN    NaN  NO          62   \n",
       "4    39.0    24.0    NaN    NaN    NaN  NO          11   \n",
       "5   252.0    70.0   91.0    NaN    NaN  NO          62   \n",
       "6     NaN     NaN    NaN    NaN    NaN  NO           2   \n",
       "7    77.0    29.0  100.0    NaN    NaN  NO          55   \n",
       "8     2.0    53.0    2.0    NaN    NaN  NO          31   \n",
       "9  1620.0     9.0    NaN    NaN    NaN  NO          45   \n",
       "\n",
       "                                    TOP_PACK  FREQ_TOP_PACK  CHURN  \n",
       "0             On net 200F=Unlimited _call24H            8.0      0  \n",
       "1                                        NaN            NaN      1  \n",
       "2                    On-net 1000F=10MilF;10d            1.0      0  \n",
       "3                          Data:1000F=5GB,7d           11.0      0  \n",
       "4                Mixt 250F=Unlimited_call24H            2.0      0  \n",
       "5  MIXT:500F= 2500F on net _2500F off net;2d           18.0      0  \n",
       "6                                        NaN            NaN      0  \n",
       "7                      All-net 500F=2000F;5d            8.0      0  \n",
       "8                                        NaN            NaN      0  \n",
       "9                         On-net 500F_FNF;3d            8.0      0  "
      ]
     },
     "execution_count": 6,
     "metadata": {},
     "output_type": "execute_result"
    }
   ],
   "source": [
    "df.head(10)"
   ]
  },
  {
   "cell_type": "markdown",
   "id": "mil_IxY8rWMM",
   "metadata": {
    "id": "mil_IxY8rWMM"
   },
   "source": [
    "### Let's see which entries contain missing values"
   ]
  },
  {
   "cell_type": "code",
   "execution_count": 7,
   "id": "ac5902cc",
   "metadata": {
    "id": "ac5902cc"
   },
   "outputs": [
    {
     "data": {
      "text/plain": [
       "<AxesSubplot:>"
      ]
     },
     "execution_count": 7,
     "metadata": {},
     "output_type": "execute_result"
    },
    {
     "data": {
      "image/png": "[encoded data removed]",
      "text/plain": [
       "<Figure size 720x1080 with 1 Axes>"
      ]
     },
     "metadata": {},
     "output_type": "display_data"
    }
   ],
   "source": [
    "plt.figure(figsize=(10, 15))\n",
    "sns.heatmap(df.isnull(),yticklabels=False,cbar=False,cmap='viridis')"
   ]
  },
  {
   "cell_type": "markdown",
   "id": "Ol7F74xArZhQ",
   "metadata": {
    "id": "Ol7F74xArZhQ"
   },
   "source": [
    "### Observation.\n",
    "\n",
    "It seems that our dataset has A LOT OF missing values."
   ]
  },
  {
   "cell_type": "code",
   "execution_count": 8,
   "id": "57db2cc7",
   "metadata": {
    "id": "57db2cc7",
    "outputId": "4a9f23d2-f5ce-481c-d163-cb3562df97bf"
   },
   "outputs": [
    {
     "data": {
      "text/plain": [
       "0    1750062\n",
       "1     403986\n",
       "Name: CHURN, dtype: int64"
      ]
     },
     "execution_count": 8,
     "metadata": {},
     "output_type": "execute_result"
    }
   ],
   "source": [
    "# Explore the target\n",
    "\n",
    "df.CHURN.value_counts() "
   ]
  },
  {
   "cell_type": "markdown",
   "id": "eyaXBBe9ryIk",
   "metadata": {
    "id": "eyaXBBe9ryIk"
   },
   "source": [
    "### Observation.\n",
    "\n",
    "We have class-imbalance dataset. In order to balance the dataset as well as to win processing time, we want to make undersampling, removing entries where values are equal to 0. There is a caveat, we will lose majority data. However, later we can retrain with full dataset with tuned hyperparameters."
   ]
  },
  {
   "cell_type": "code",
   "execution_count": 9,
   "id": "d898c90e",
   "metadata": {
    "id": "d898c90e"
   },
   "outputs": [],
   "source": [
    "positive = len(df[df['CHURN'] == 1])\n",
    "negative_indices = df[df.CHURN == 0].index\n",
    "random_indices = np.random.choice(negative_indices, positive, replace=False) # returns a randomly selected element from the specified sequence. \n",
    "positive_indices = df[df.CHURN == 1].index\n",
    "under_sample_indices = np.concatenate([positive_indices,random_indices])\n",
    "under_sample = df.loc[under_sample_indices]"
   ]
  },
  {
   "cell_type": "code",
   "execution_count": 10,
   "id": "fa94457e",
   "metadata": {
    "id": "fa94457e"
   },
   "outputs": [],
   "source": [
    "original = df.copy() # preserve original data\n",
    "df = under_sample.copy()"
   ]
  },
  {
   "cell_type": "code",
   "execution_count": 11,
   "id": "29981cf2",
   "metadata": {
    "id": "29981cf2",
    "outputId": "1c5794f3-6319-49a5-b8bd-4b12c401ba55"
   },
   "outputs": [
    {
     "data": {
      "text/plain": [
       "<AxesSubplot:xlabel='CHURN', ylabel='count'>"
      ]
     },
     "execution_count": 11,
     "metadata": {},
     "output_type": "execute_result"
    },
    {
     "data": {
      "image/png": "[encoded data removed]",
      "text/plain": [
       "<Figure size 432x288 with 1 Axes>"
      ]
     },
     "metadata": {},
     "output_type": "display_data"
    }
   ],
   "source": [
    "sns.countplot(x='CHURN', data=df)"
   ]
  },
  {
   "cell_type": "markdown",
   "id": "SZjU1YbbuY1f",
   "metadata": {
    "id": "SZjU1YbbuY1f"
   },
   "source": [
    "## Handling Missing Values"
   ]
  },
  {
   "cell_type": "code",
   "execution_count": 12,
   "id": "JBX8bFYYxNvn",
   "metadata": {
    "id": "JBX8bFYYxNvn"
   },
   "outputs": [
    {
     "data": {
      "text/html": [
       "<div>\n",
       "<style scoped>\n",
       "    .dataframe tbody tr th:only-of-type {\n",
       "        vertical-align: middle;\n",
       "    }\n",
       "\n",
       "    .dataframe tbody tr th {\n",
       "        vertical-align: top;\n",
       "    }\n",
       "\n",
       "    .dataframe thead th {\n",
       "        text-align: right;\n",
       "    }\n",
       "</style>\n",
       "<table border=\"1\" class=\"dataframe\">\n",
       "  <thead>\n",
       "    <tr style=\"text-align: right;\">\n",
       "      <th></th>\n",
       "      <th>MONTANT</th>\n",
       "      <th>FREQUENCE_RECH</th>\n",
       "      <th>REVENUE</th>\n",
       "      <th>ARPU_SEGMENT</th>\n",
       "      <th>FREQUENCE</th>\n",
       "      <th>DATA_VOLUME</th>\n",
       "      <th>ON_NET</th>\n",
       "      <th>ORANGE</th>\n",
       "      <th>TIGO</th>\n",
       "      <th>ZONE1</th>\n",
       "      <th>ZONE2</th>\n",
       "      <th>REGULARITY</th>\n",
       "      <th>FREQ_TOP_PACK</th>\n",
       "      <th>CHURN</th>\n",
       "    </tr>\n",
       "  </thead>\n",
       "  <tbody>\n",
       "    <tr>\n",
       "      <th>count</th>\n",
       "      <td>376929.0</td>\n",
       "      <td>376929.0</td>\n",
       "      <td>389508.0</td>\n",
       "      <td>389508.0</td>\n",
       "      <td>389508.0</td>\n",
       "      <td>314193.0</td>\n",
       "      <td>370751.0</td>\n",
       "      <td>330146.0</td>\n",
       "      <td>219902.0</td>\n",
       "      <td>45031.0</td>\n",
       "      <td>37028.0</td>\n",
       "      <td>807972.0</td>\n",
       "      <td>327883.0</td>\n",
       "      <td>807972.0</td>\n",
       "    </tr>\n",
       "    <tr>\n",
       "      <th>mean</th>\n",
       "      <td>5059.0</td>\n",
       "      <td>10.5</td>\n",
       "      <td>4977.9</td>\n",
       "      <td>1659.3</td>\n",
       "      <td>12.7</td>\n",
       "      <td>3057.5</td>\n",
       "      <td>245.8</td>\n",
       "      <td>88.1</td>\n",
       "      <td>22.2</td>\n",
       "      <td>8.5</td>\n",
       "      <td>7.5</td>\n",
       "      <td>19.5</td>\n",
       "      <td>8.7</td>\n",
       "      <td>0.5</td>\n",
       "    </tr>\n",
       "    <tr>\n",
       "      <th>std</th>\n",
       "      <td>6816.0</td>\n",
       "      <td>12.8</td>\n",
       "      <td>6865.7</td>\n",
       "      <td>2288.6</td>\n",
       "      <td>14.2</td>\n",
       "      <td>13441.0</td>\n",
       "      <td>823.3</td>\n",
       "      <td>195.9</td>\n",
       "      <td>63.0</td>\n",
       "      <td>42.1</td>\n",
       "      <td>37.8</td>\n",
       "      <td>21.3</td>\n",
       "      <td>11.9</td>\n",
       "      <td>0.5</td>\n",
       "    </tr>\n",
       "    <tr>\n",
       "      <th>min</th>\n",
       "      <td>20.0</td>\n",
       "      <td>1.0</td>\n",
       "      <td>1.0</td>\n",
       "      <td>0.0</td>\n",
       "      <td>1.0</td>\n",
       "      <td>0.0</td>\n",
       "      <td>0.0</td>\n",
       "      <td>0.0</td>\n",
       "      <td>0.0</td>\n",
       "      <td>0.0</td>\n",
       "      <td>0.0</td>\n",
       "      <td>1.0</td>\n",
       "      <td>1.0</td>\n",
       "      <td>0.0</td>\n",
       "    </tr>\n",
       "    <tr>\n",
       "      <th>25%</th>\n",
       "      <td>1000.0</td>\n",
       "      <td>2.0</td>\n",
       "      <td>800.0</td>\n",
       "      <td>267.0</td>\n",
       "      <td>3.0</td>\n",
       "      <td>0.0</td>\n",
       "      <td>3.0</td>\n",
       "      <td>6.0</td>\n",
       "      <td>2.0</td>\n",
       "      <td>0.0</td>\n",
       "      <td>0.0</td>\n",
       "      <td>2.0</td>\n",
       "      <td>2.0</td>\n",
       "      <td>0.0</td>\n",
       "    </tr>\n",
       "    <tr>\n",
       "      <th>50%</th>\n",
       "      <td>2600.0</td>\n",
       "      <td>5.0</td>\n",
       "      <td>2500.0</td>\n",
       "      <td>833.0</td>\n",
       "      <td>7.0</td>\n",
       "      <td>200.0</td>\n",
       "      <td>19.0</td>\n",
       "      <td>24.0</td>\n",
       "      <td>6.0</td>\n",
       "      <td>1.0</td>\n",
       "      <td>2.0</td>\n",
       "      <td>8.0</td>\n",
       "      <td>4.0</td>\n",
       "      <td>0.5</td>\n",
       "    </tr>\n",
       "    <tr>\n",
       "      <th>75%</th>\n",
       "      <td>6550.0</td>\n",
       "      <td>14.0</td>\n",
       "      <td>6501.0</td>\n",
       "      <td>2167.0</td>\n",
       "      <td>18.0</td>\n",
       "      <td>2336.0</td>\n",
       "      <td>124.0</td>\n",
       "      <td>88.0</td>\n",
       "      <td>19.0</td>\n",
       "      <td>4.0</td>\n",
       "      <td>5.0</td>\n",
       "      <td>36.0</td>\n",
       "      <td>11.0</td>\n",
       "      <td>1.0</td>\n",
       "    </tr>\n",
       "    <tr>\n",
       "      <th>max</th>\n",
       "      <td>286500.0</td>\n",
       "      <td>115.0</td>\n",
       "      <td>323541.0</td>\n",
       "      <td>107847.0</td>\n",
       "      <td>91.0</td>\n",
       "      <td>1823866.0</td>\n",
       "      <td>45011.0</td>\n",
       "      <td>6429.0</td>\n",
       "      <td>3706.0</td>\n",
       "      <td>1839.0</td>\n",
       "      <td>3697.0</td>\n",
       "      <td>62.0</td>\n",
       "      <td>713.0</td>\n",
       "      <td>1.0</td>\n",
       "    </tr>\n",
       "  </tbody>\n",
       "</table>\n",
       "</div>"
      ],
      "text/plain": [
       "        MONTANT  FREQUENCE_RECH   REVENUE  ARPU_SEGMENT  FREQUENCE  \\\n",
       "count  376929.0        376929.0  389508.0      389508.0   389508.0   \n",
       "mean     5059.0            10.5    4977.9        1659.3       12.7   \n",
       "std      6816.0            12.8    6865.7        2288.6       14.2   \n",
       "min        20.0             1.0       1.0           0.0        1.0   \n",
       "25%      1000.0             2.0     800.0         267.0        3.0   \n",
       "50%      2600.0             5.0    2500.0         833.0        7.0   \n",
       "75%      6550.0            14.0    6501.0        2167.0       18.0   \n",
       "max    286500.0           115.0  323541.0      107847.0       91.0   \n",
       "\n",
       "       DATA_VOLUME    ON_NET    ORANGE      TIGO    ZONE1    ZONE2  \\\n",
       "count     314193.0  370751.0  330146.0  219902.0  45031.0  37028.0   \n",
       "mean        3057.5     245.8      88.1      22.2      8.5      7.5   \n",
       "std        13441.0     823.3     195.9      63.0     42.1     37.8   \n",
       "min            0.0       0.0       0.0       0.0      0.0      0.0   \n",
       "25%            0.0       3.0       6.0       2.0      0.0      0.0   \n",
       "50%          200.0      19.0      24.0       6.0      1.0      2.0   \n",
       "75%         2336.0     124.0      88.0      19.0      4.0      5.0   \n",
       "max      1823866.0   45011.0    6429.0    3706.0   1839.0   3697.0   \n",
       "\n",
       "       REGULARITY  FREQ_TOP_PACK     CHURN  \n",
       "count    807972.0       327883.0  807972.0  \n",
       "mean         19.5            8.7       0.5  \n",
       "std          21.3           11.9       0.5  \n",
       "min           1.0            1.0       0.0  \n",
       "25%           2.0            2.0       0.0  \n",
       "50%           8.0            4.0       0.5  \n",
       "75%          36.0           11.0       1.0  \n",
       "max          62.0          713.0       1.0  "
      ]
     },
     "execution_count": 12,
     "metadata": {},
     "output_type": "execute_result"
    }
   ],
   "source": [
    "round(df.describe(), 1)"
   ]
  },
  {
   "cell_type": "code",
   "execution_count": 13,
   "id": "1222bc69",
   "metadata": {
    "id": "1222bc69",
    "outputId": "ae632d17-dc41-4a85-8d6b-fb1c92004bac"
   },
   "outputs": [
    {
     "data": {
      "text/html": [
       "<div>\n",
       "<style scoped>\n",
       "    .dataframe tbody tr th:only-of-type {\n",
       "        vertical-align: middle;\n",
       "    }\n",
       "\n",
       "    .dataframe tbody tr th {\n",
       "        vertical-align: top;\n",
       "    }\n",
       "\n",
       "    .dataframe thead th {\n",
       "        text-align: right;\n",
       "    }\n",
       "</style>\n",
       "<table border=\"1\" class=\"dataframe\">\n",
       "  <thead>\n",
       "    <tr style=\"text-align: right;\">\n",
       "      <th></th>\n",
       "      <th>number_missing</th>\n",
       "      <th>percent_missing</th>\n",
       "    </tr>\n",
       "  </thead>\n",
       "  <tbody>\n",
       "    <tr>\n",
       "      <th>user_id</th>\n",
       "      <td>0</td>\n",
       "      <td>0.000000</td>\n",
       "    </tr>\n",
       "    <tr>\n",
       "      <th>REGION</th>\n",
       "      <td>488677</td>\n",
       "      <td>60.481923</td>\n",
       "    </tr>\n",
       "    <tr>\n",
       "      <th>TENURE</th>\n",
       "      <td>0</td>\n",
       "      <td>0.000000</td>\n",
       "    </tr>\n",
       "    <tr>\n",
       "      <th>MONTANT</th>\n",
       "      <td>431043</td>\n",
       "      <td>53.348755</td>\n",
       "    </tr>\n",
       "    <tr>\n",
       "      <th>FREQUENCE_RECH</th>\n",
       "      <td>431043</td>\n",
       "      <td>53.348755</td>\n",
       "    </tr>\n",
       "    <tr>\n",
       "      <th>REVENUE</th>\n",
       "      <td>418464</td>\n",
       "      <td>51.791894</td>\n",
       "    </tr>\n",
       "    <tr>\n",
       "      <th>ARPU_SEGMENT</th>\n",
       "      <td>418464</td>\n",
       "      <td>51.791894</td>\n",
       "    </tr>\n",
       "    <tr>\n",
       "      <th>FREQUENCE</th>\n",
       "      <td>418464</td>\n",
       "      <td>51.791894</td>\n",
       "    </tr>\n",
       "    <tr>\n",
       "      <th>DATA_VOLUME</th>\n",
       "      <td>493779</td>\n",
       "      <td>61.113380</td>\n",
       "    </tr>\n",
       "    <tr>\n",
       "      <th>ON_NET</th>\n",
       "      <td>437221</td>\n",
       "      <td>54.113385</td>\n",
       "    </tr>\n",
       "    <tr>\n",
       "      <th>ORANGE</th>\n",
       "      <td>477826</td>\n",
       "      <td>59.138931</td>\n",
       "    </tr>\n",
       "    <tr>\n",
       "      <th>TIGO</th>\n",
       "      <td>588070</td>\n",
       "      <td>72.783463</td>\n",
       "    </tr>\n",
       "    <tr>\n",
       "      <th>ZONE1</th>\n",
       "      <td>762941</td>\n",
       "      <td>94.426663</td>\n",
       "    </tr>\n",
       "    <tr>\n",
       "      <th>ZONE2</th>\n",
       "      <td>770944</td>\n",
       "      <td>95.417168</td>\n",
       "    </tr>\n",
       "    <tr>\n",
       "      <th>MRG</th>\n",
       "      <td>0</td>\n",
       "      <td>0.000000</td>\n",
       "    </tr>\n",
       "    <tr>\n",
       "      <th>REGULARITY</th>\n",
       "      <td>0</td>\n",
       "      <td>0.000000</td>\n",
       "    </tr>\n",
       "    <tr>\n",
       "      <th>TOP_PACK</th>\n",
       "      <td>480089</td>\n",
       "      <td>59.419015</td>\n",
       "    </tr>\n",
       "    <tr>\n",
       "      <th>FREQ_TOP_PACK</th>\n",
       "      <td>480089</td>\n",
       "      <td>59.419015</td>\n",
       "    </tr>\n",
       "    <tr>\n",
       "      <th>CHURN</th>\n",
       "      <td>0</td>\n",
       "      <td>0.000000</td>\n",
       "    </tr>\n",
       "  </tbody>\n",
       "</table>\n",
       "</div>"
      ],
      "text/plain": [
       "                number_missing  percent_missing\n",
       "user_id                      0         0.000000\n",
       "REGION                  488677        60.481923\n",
       "TENURE                       0         0.000000\n",
       "MONTANT                 431043        53.348755\n",
       "FREQUENCE_RECH          431043        53.348755\n",
       "REVENUE                 418464        51.791894\n",
       "ARPU_SEGMENT            418464        51.791894\n",
       "FREQUENCE               418464        51.791894\n",
       "DATA_VOLUME             493779        61.113380\n",
       "ON_NET                  437221        54.113385\n",
       "ORANGE                  477826        59.138931\n",
       "TIGO                    588070        72.783463\n",
       "ZONE1                   762941        94.426663\n",
       "ZONE2                   770944        95.417168\n",
       "MRG                          0         0.000000\n",
       "REGULARITY                   0         0.000000\n",
       "TOP_PACK                480089        59.419015\n",
       "FREQ_TOP_PACK           480089        59.419015\n",
       "CHURN                        0         0.000000"
      ]
     },
     "execution_count": 13,
     "metadata": {},
     "output_type": "execute_result"
    }
   ],
   "source": [
    "number_missing = df.isnull().sum()\n",
    "percent_missing = df.isnull().sum() * 100 / len(df) \n",
    "#isnull() function detect missing values in the given series object. \n",
    "#len() returns the number of elements in the list.\n",
    "missing_value_df = pd.DataFrame({'number_missing': number_missing,\n",
    "                                 'percent_missing': percent_missing})\n",
    "\n",
    "missing_value_df"
   ]
  },
  {
   "cell_type": "markdown",
   "id": "iz7pazOQvord",
   "metadata": {
    "id": "iz7pazOQvord"
   },
   "source": [
    "### Observation. \n",
    "\n",
    "As it was mentioned, some columns are completely empty. Nevertheless let's how features are correlated to each other"
   ]
  },
  {
   "cell_type": "code",
   "execution_count": 14,
   "id": "6640b4eb",
   "metadata": {
    "id": "6640b4eb",
    "outputId": "03d1cc0c-4ad0-437a-f0dc-c8dd220fca5d"
   },
   "outputs": [
    {
     "data": {
      "text/plain": [
       "<AxesSubplot:>"
      ]
     },
     "execution_count": 14,
     "metadata": {},
     "output_type": "execute_result"
    },
    {
     "data": {
      "image/png": "[encoded data removed]",
      "text/plain": [
       "<Figure size 864x720 with 2 Axes>"
      ]
     },
     "metadata": {},
     "output_type": "display_data"
    }
   ],
   "source": [
    "plt.figure(figsize=(12, 10))\n",
    "sns.heatmap(df.corr(), cmap=\"YlGnBu\", annot=True)"
   ]
  },
  {
   "cell_type": "markdown",
   "id": "W84BPl4Wv1J6",
   "metadata": {
    "id": "W84BPl4Wv1J6"
   },
   "source": [
    "### Observation.\n",
    "\n",
    "Some features really correlate with each other. Features such as Monthly income and average income of three months correlate with maximum value. However, none of these features strongly correlate with target column, showing only maximum negative correlation of 'regularity', while postively correlates only 'ZONE1' which has 94% null values."
   ]
  },
  {
   "cell_type": "code",
   "execution_count": 15,
   "id": "3230a370",
   "metadata": {
    "id": "3230a370",
    "outputId": "0aa19941-35ea-4924-e749-800829b83ea1"
   },
   "outputs": [
    {
     "name": "stdout",
     "output_type": "stream",
     "text": [
      "REGION \n",
      "\n",
      "DAKAR          125415\n",
      "THIES           43920\n",
      "SAINT-LOUIS     29068\n",
      "LOUGA           24216\n",
      "KAOLACK         24163\n",
      "DIOURBEL        16855\n",
      "TAMBACOUNDA     13417\n",
      "KAFFRINE        10464\n",
      "KOLDA            9335\n",
      "FATICK           8635\n",
      "MATAM            7135\n",
      "ZIGUINCHOR       5585\n",
      "SEDHIOU           812\n",
      "KEDOUGOU          275\n",
      "Name: REGION, dtype: int64\n",
      "\n",
      "TENURE \n",
      "\n",
      "K > 24 month     759602\n",
      "I 18-21 month     20036\n",
      "H 15-18 month     11255\n",
      "G 12-15 month      7047\n",
      "J 21-24 month      5242\n",
      "F 9-12 month       3877\n",
      "E 6-9 month         647\n",
      "D 3-6 month         266\n",
      "Name: TENURE, dtype: int64\n",
      "\n",
      "TOP_PACK \n",
      "\n",
      "All-net 500F=2000F;5d             81352\n",
      "On net 200F=Unlimited _call24H    37427\n",
      "Data:490F=1GB,7d                  32100\n",
      "Data: 100 F=40MB,24H              22476\n",
      "Mixt 250F=Unlimited_call24H       17709\n",
      "                                  ...  \n",
      "pack_chinguitel_24h                   1\n",
      "150=unlimited pilot auto              1\n",
      "pilot_offer7                          1\n",
      "GPRS_3000Equal10GPORTAL               1\n",
      "CVM_On-net 400f=2200F                 1\n",
      "Name: TOP_PACK, Length: 116, dtype: int64\n",
      "\n",
      "CHURN \n",
      "\n",
      "1    403986\n",
      "0    403986\n",
      "Name: CHURN, dtype: int64\n",
      "\n"
     ]
    }
   ],
   "source": [
    "categorical = ['REGION', 'TENURE', 'TOP_PACK', 'CHURN']\n",
    "\n",
    "for i in categorical:\n",
    "    print(i, '\\n')\n",
    "    print(df[i].value_counts())\n",
    "    print('')"
   ]
  },
  {
   "cell_type": "markdown",
   "id": "jC04MnkQxWMH",
   "metadata": {
    "id": "jC04MnkQxWMH"
   },
   "source": [
    "Drop features that have large chunks of missing values as well as features that can't be imputed such as Region."
   ]
  },
  {
   "cell_type": "code",
   "execution_count": 16,
   "id": "a2604d1a",
   "metadata": {
    "id": "a2604d1a",
    "outputId": "2992e250-7cea-46d5-a7f7-b5d8bc9c3909"
   },
   "outputs": [
    {
     "data": {
      "text/html": [
       "<div>\n",
       "<style scoped>\n",
       "    .dataframe tbody tr th:only-of-type {\n",
       "        vertical-align: middle;\n",
       "    }\n",
       "\n",
       "    .dataframe tbody tr th {\n",
       "        vertical-align: top;\n",
       "    }\n",
       "\n",
       "    .dataframe thead th {\n",
       "        text-align: right;\n",
       "    }\n",
       "</style>\n",
       "<table border=\"1\" class=\"dataframe\">\n",
       "  <thead>\n",
       "    <tr style=\"text-align: right;\">\n",
       "      <th></th>\n",
       "      <th>user_id</th>\n",
       "      <th>TENURE</th>\n",
       "      <th>MONTANT</th>\n",
       "      <th>FREQUENCE_RECH</th>\n",
       "      <th>REVENUE</th>\n",
       "      <th>ARPU_SEGMENT</th>\n",
       "      <th>FREQUENCE</th>\n",
       "      <th>DATA_VOLUME</th>\n",
       "      <th>ON_NET</th>\n",
       "      <th>ORANGE</th>\n",
       "      <th>REGULARITY</th>\n",
       "      <th>TOP_PACK</th>\n",
       "      <th>FREQ_TOP_PACK</th>\n",
       "      <th>CHURN</th>\n",
       "    </tr>\n",
       "  </thead>\n",
       "  <tbody>\n",
       "    <tr>\n",
       "      <th>1</th>\n",
       "      <td>00000cb4a5d760de88fecb38e2f71b7bec52e834</td>\n",
       "      <td>I 18-21 month</td>\n",
       "      <td>NaN</td>\n",
       "      <td>NaN</td>\n",
       "      <td>NaN</td>\n",
       "      <td>NaN</td>\n",
       "      <td>NaN</td>\n",
       "      <td>NaN</td>\n",
       "      <td>NaN</td>\n",
       "      <td>NaN</td>\n",
       "      <td>4</td>\n",
       "      <td>NaN</td>\n",
       "      <td>NaN</td>\n",
       "      <td>1</td>\n",
       "    </tr>\n",
       "    <tr>\n",
       "      <th>12</th>\n",
       "      <td>000068fe2aad763fb2667d253fa4c9e19e3b0636</td>\n",
       "      <td>G 12-15 month</td>\n",
       "      <td>NaN</td>\n",
       "      <td>NaN</td>\n",
       "      <td>NaN</td>\n",
       "      <td>NaN</td>\n",
       "      <td>NaN</td>\n",
       "      <td>NaN</td>\n",
       "      <td>NaN</td>\n",
       "      <td>NaN</td>\n",
       "      <td>2</td>\n",
       "      <td>NaN</td>\n",
       "      <td>NaN</td>\n",
       "      <td>1</td>\n",
       "    </tr>\n",
       "    <tr>\n",
       "      <th>17</th>\n",
       "      <td>0000a45ed15492427df603217166f1f813a2cc83</td>\n",
       "      <td>H 15-18 month</td>\n",
       "      <td>NaN</td>\n",
       "      <td>NaN</td>\n",
       "      <td>NaN</td>\n",
       "      <td>NaN</td>\n",
       "      <td>NaN</td>\n",
       "      <td>NaN</td>\n",
       "      <td>NaN</td>\n",
       "      <td>NaN</td>\n",
       "      <td>5</td>\n",
       "      <td>NaN</td>\n",
       "      <td>NaN</td>\n",
       "      <td>1</td>\n",
       "    </tr>\n",
       "    <tr>\n",
       "      <th>21</th>\n",
       "      <td>0000b00bed6ad90fd35d1957f484f9e54990c714</td>\n",
       "      <td>I 18-21 month</td>\n",
       "      <td>NaN</td>\n",
       "      <td>NaN</td>\n",
       "      <td>NaN</td>\n",
       "      <td>NaN</td>\n",
       "      <td>NaN</td>\n",
       "      <td>0.0</td>\n",
       "      <td>NaN</td>\n",
       "      <td>NaN</td>\n",
       "      <td>36</td>\n",
       "      <td>NaN</td>\n",
       "      <td>NaN</td>\n",
       "      <td>1</td>\n",
       "    </tr>\n",
       "    <tr>\n",
       "      <th>22</th>\n",
       "      <td>0000b4af921db374095a9e7ab87ee314522e4fe4</td>\n",
       "      <td>K &gt; 24 month</td>\n",
       "      <td>NaN</td>\n",
       "      <td>NaN</td>\n",
       "      <td>NaN</td>\n",
       "      <td>NaN</td>\n",
       "      <td>NaN</td>\n",
       "      <td>NaN</td>\n",
       "      <td>NaN</td>\n",
       "      <td>NaN</td>\n",
       "      <td>4</td>\n",
       "      <td>NaN</td>\n",
       "      <td>NaN</td>\n",
       "      <td>1</td>\n",
       "    </tr>\n",
       "  </tbody>\n",
       "</table>\n",
       "</div>"
      ],
      "text/plain": [
       "                                     user_id         TENURE  MONTANT  \\\n",
       "1   00000cb4a5d760de88fecb38e2f71b7bec52e834  I 18-21 month      NaN   \n",
       "12  000068fe2aad763fb2667d253fa4c9e19e3b0636  G 12-15 month      NaN   \n",
       "17  0000a45ed15492427df603217166f1f813a2cc83  H 15-18 month      NaN   \n",
       "21  0000b00bed6ad90fd35d1957f484f9e54990c714  I 18-21 month      NaN   \n",
       "22  0000b4af921db374095a9e7ab87ee314522e4fe4   K > 24 month      NaN   \n",
       "\n",
       "    FREQUENCE_RECH  REVENUE  ARPU_SEGMENT  FREQUENCE  DATA_VOLUME  ON_NET  \\\n",
       "1              NaN      NaN           NaN        NaN          NaN     NaN   \n",
       "12             NaN      NaN           NaN        NaN          NaN     NaN   \n",
       "17             NaN      NaN           NaN        NaN          NaN     NaN   \n",
       "21             NaN      NaN           NaN        NaN          0.0     NaN   \n",
       "22             NaN      NaN           NaN        NaN          NaN     NaN   \n",
       "\n",
       "    ORANGE  REGULARITY TOP_PACK  FREQ_TOP_PACK  CHURN  \n",
       "1      NaN           4      NaN            NaN      1  \n",
       "12     NaN           2      NaN            NaN      1  \n",
       "17     NaN           5      NaN            NaN      1  \n",
       "21     NaN          36      NaN            NaN      1  \n",
       "22     NaN           4      NaN            NaN      1  "
      ]
     },
     "execution_count": 16,
     "metadata": {},
     "output_type": "execute_result"
    }
   ],
   "source": [
    "df.drop(['REGION', 'TIGO', 'MRG', 'ZONE1', 'ZONE2', ], axis=1, inplace=True)\n",
    "df.head()"
   ]
  },
  {
   "cell_type": "code",
   "execution_count": 17,
   "id": "406cdc6f",
   "metadata": {
    "id": "406cdc6f",
    "outputId": "700f5ccd-297a-4ee5-8f17-39c26027fcee"
   },
   "outputs": [
    {
     "data": {
      "text/plain": [
       "count    376929.000\n",
       "mean       5059.036\n",
       "std        6816.046\n",
       "min          20.000\n",
       "25%        1000.000\n",
       "50%        2600.000\n",
       "75%        6550.000\n",
       "max      286500.000\n",
       "Name: MONTANT, dtype: float64"
      ]
     },
     "execution_count": 17,
     "metadata": {},
     "output_type": "execute_result"
    }
   ],
   "source": [
    "round(df.MONTANT.describe(), 3)"
   ]
  },
  {
   "cell_type": "markdown",
   "id": "RLyPBvUJyDAx",
   "metadata": {
    "id": "RLyPBvUJyDAx"
   },
   "source": [
    "Instead of filling missing values with average of features, we decided to fill some of them with normal distribution of their mean and standard deviation. Thus every missing entry will have different values."
   ]
  },
  {
   "cell_type": "code",
   "execution_count": 18,
   "id": "2063ba99",
   "metadata": {
    "id": "2063ba99"
   },
   "outputs": [],
   "source": [
    "index = df[df.MONTANT.isna()].index \n",
    "#isna() function is used to detect missing values. It return a boolean same-sized object indicating if the values are NA.\n",
    "value = abs(np.random.normal(\n",
    "    loc=df.MONTANT.mean(), scale=df.MONTANT.std(), size=df.MONTANT.isna().sum()))\n",
    "\n",
    "df.MONTANT.fillna(pd.Series(value, index=index), inplace=True)"
   ]
  },
  {
   "cell_type": "code",
   "execution_count": 19,
   "id": "e4ce8e33",
   "metadata": {
    "id": "e4ce8e33"
   },
   "outputs": [],
   "source": [
    "index = df[df.FREQUENCE_RECH.isna()].index\n",
    "value = abs(np.random.normal(\n",
    "    loc=df.FREQUENCE_RECH.mean(), scale=df.FREQUENCE_RECH.std(), size=df.FREQUENCE_RECH.isna().sum()))\n",
    "\n",
    "df.FREQUENCE_RECH.fillna(pd.Series(value, index=index), inplace=True)"
   ]
  },
  {
   "cell_type": "code",
   "execution_count": 20,
   "id": "6e42bb4a",
   "metadata": {
    "id": "6e42bb4a"
   },
   "outputs": [],
   "source": [
    "index = df[df.REVENUE.isna()].index\n",
    "value = abs(np.random.normal(\n",
    "    loc=df.REVENUE.mean(), scale=df.REVENUE.std(), size=df.REVENUE.isna().sum())) \n",
    "    #creates an array of specified shape and fills it with random values which is actually a part of Normal(Gaussian)Distribution. \n",
    "\n",
    "df.REVENUE.fillna(pd.Series(value, index=index), inplace=True) #to fill null values in a datasets"
   ]
  },
  {
   "cell_type": "code",
   "execution_count": 21,
   "id": "8078da88",
   "metadata": {
    "id": "8078da88"
   },
   "outputs": [],
   "source": [
    "index = df[df.ARPU_SEGMENT.isna()].index\n",
    "value = abs(np.random.normal(\n",
    "    loc=df.ARPU_SEGMENT.mean(), scale=df.ARPU_SEGMENT.std(), size=df.ARPU_SEGMENT.isna().sum()))\n",
    "\n",
    "df.ARPU_SEGMENT.fillna(pd.Series(value, index=index), inplace=True)"
   ]
  },
  {
   "cell_type": "code",
   "execution_count": 22,
   "id": "1f69874f",
   "metadata": {
    "id": "1f69874f"
   },
   "outputs": [],
   "source": [
    "df.FREQUENCE.fillna(df.FREQUENCE.mean(), inplace=True)\n",
    "df.DATA_VOLUME.fillna(df.DATA_VOLUME.mean(), inplace=True)\n",
    "df.ON_NET.fillna(df.ON_NET.mean(), inplace=True)\n",
    "df.ORANGE.fillna(df.ORANGE.mean(), inplace=True)\n",
    "df.FREQ_TOP_PACK.fillna(df.FREQ_TOP_PACK.mean(), inplace=True)"
   ]
  },
  {
   "cell_type": "markdown",
   "id": "h87Vu5Wxyk1T",
   "metadata": {
    "id": "h87Vu5Wxyk1T"
   },
   "source": [
    "For Top Package we decided to use imputer to handle missing values to get the maximum occuring category as well as giving some weight for filled NAN by creating new column."
   ]
  },
  {
   "cell_type": "code",
   "execution_count": 23,
   "id": "0a5b0b69",
   "metadata": {
    "id": "0a5b0b69"
   },
   "outputs": [],
   "source": [
    "# from https://medium.com/analytics-vidhya/ways-to-handle-categorical-column-missing-data-its-implementations-15dc4a56893\n",
    "\n",
    "def impute_nan_add_vairable(DataFrame,ColName):    \n",
    "    #1. add new column and replace if category is null then 1 else 0\n",
    "    DataFrame[ColName+\"_Imputed\"] =   np.where(DataFrame[ColName].isnull(),1,0)\n",
    "    # .where() function returns the indices of elements in an input array where the given condition is satisfied.\n",
    "    # .isnull() Detect missing values for an array-like object. \n",
    "\n",
    "    # 2. Take most occured category in that vairable (.mode())\n",
    "    \n",
    "    Mode_Category = DataFrame[ColName].mode()[0]\n",
    "    #returns the robust measure of a central data point in a given range of data-sets.\n",
    "    \n",
    "    ## 2.1 Replace NAN values with most occured category in actual vairable\n",
    "    \n",
    "    DataFrame[ColName].fillna(Mode_Category,inplace=True)\n",
    "    \n",
    "    \n",
    "impute_nan_add_vairable(df, 'TOP_PACK')"
   ]
  },
  {
   "cell_type": "code",
   "execution_count": 24,
   "id": "e302ea20",
   "metadata": {
    "id": "e302ea20",
    "outputId": "e24b1aac-6135-4676-e314-66a45a692290"
   },
   "outputs": [
    {
     "data": {
      "text/plain": [
       "(807972, 15)"
      ]
     },
     "execution_count": 24,
     "metadata": {},
     "output_type": "execute_result"
    }
   ],
   "source": [
    "df.shape"
   ]
  },
  {
   "cell_type": "code",
   "execution_count": 25,
   "id": "411952b1",
   "metadata": {
    "id": "411952b1",
    "outputId": "48b7d5f1-1d14-45d6-d31b-936ebcce4225"
   },
   "outputs": [
    {
     "data": {
      "text/html": [
       "<div>\n",
       "<style scoped>\n",
       "    .dataframe tbody tr th:only-of-type {\n",
       "        vertical-align: middle;\n",
       "    }\n",
       "\n",
       "    .dataframe tbody tr th {\n",
       "        vertical-align: top;\n",
       "    }\n",
       "\n",
       "    .dataframe thead th {\n",
       "        text-align: right;\n",
       "    }\n",
       "</style>\n",
       "<table border=\"1\" class=\"dataframe\">\n",
       "  <thead>\n",
       "    <tr style=\"text-align: right;\">\n",
       "      <th></th>\n",
       "      <th>MONTANT</th>\n",
       "      <th>FREQUENCE_RECH</th>\n",
       "      <th>REVENUE</th>\n",
       "      <th>ARPU_SEGMENT</th>\n",
       "      <th>FREQUENCE</th>\n",
       "      <th>DATA_VOLUME</th>\n",
       "      <th>ON_NET</th>\n",
       "      <th>ORANGE</th>\n",
       "      <th>REGULARITY</th>\n",
       "      <th>FREQ_TOP_PACK</th>\n",
       "      <th>CHURN</th>\n",
       "      <th>TOP_PACK_Imputed</th>\n",
       "    </tr>\n",
       "  </thead>\n",
       "  <tbody>\n",
       "    <tr>\n",
       "      <th>count</th>\n",
       "      <td>807972.000000</td>\n",
       "      <td>807972.000000</td>\n",
       "      <td>807972.000000</td>\n",
       "      <td>807972.000000</td>\n",
       "      <td>807972.000000</td>\n",
       "      <td>8.079720e+05</td>\n",
       "      <td>807972.000000</td>\n",
       "      <td>807972.000000</td>\n",
       "      <td>807972.000000</td>\n",
       "      <td>807972.000000</td>\n",
       "      <td>807972.0</td>\n",
       "      <td>807972.000000</td>\n",
       "    </tr>\n",
       "    <tr>\n",
       "      <th>mean</th>\n",
       "      <td>6031.873613</td>\n",
       "      <td>12.082504</td>\n",
       "      <td>5952.490711</td>\n",
       "      <td>1983.950715</td>\n",
       "      <td>12.653170</td>\n",
       "      <td>3.057513e+03</td>\n",
       "      <td>245.809414</td>\n",
       "      <td>88.088240</td>\n",
       "      <td>19.490880</td>\n",
       "      <td>8.656420</td>\n",
       "      <td>0.5</td>\n",
       "      <td>0.594190</td>\n",
       "    </tr>\n",
       "    <tr>\n",
       "      <th>std</th>\n",
       "      <td>5980.238852</td>\n",
       "      <td>11.304309</td>\n",
       "      <td>6042.278328</td>\n",
       "      <td>2013.516131</td>\n",
       "      <td>9.839581</td>\n",
       "      <td>8.381665e+03</td>\n",
       "      <td>557.727385</td>\n",
       "      <td>125.250343</td>\n",
       "      <td>21.292197</td>\n",
       "      <td>7.600363</td>\n",
       "      <td>0.5</td>\n",
       "      <td>0.491048</td>\n",
       "    </tr>\n",
       "    <tr>\n",
       "      <th>min</th>\n",
       "      <td>0.016570</td>\n",
       "      <td>0.000003</td>\n",
       "      <td>0.013794</td>\n",
       "      <td>0.000000</td>\n",
       "      <td>1.000000</td>\n",
       "      <td>0.000000e+00</td>\n",
       "      <td>0.000000</td>\n",
       "      <td>0.000000</td>\n",
       "      <td>1.000000</td>\n",
       "      <td>1.000000</td>\n",
       "      <td>0.0</td>\n",
       "      <td>0.000000</td>\n",
       "    </tr>\n",
       "    <tr>\n",
       "      <th>25%</th>\n",
       "      <td>1533.822279</td>\n",
       "      <td>3.000000</td>\n",
       "      <td>1500.000000</td>\n",
       "      <td>500.000000</td>\n",
       "      <td>8.000000</td>\n",
       "      <td>1.023000e+03</td>\n",
       "      <td>27.000000</td>\n",
       "      <td>43.000000</td>\n",
       "      <td>2.000000</td>\n",
       "      <td>6.000000</td>\n",
       "      <td>0.0</td>\n",
       "      <td>0.000000</td>\n",
       "    </tr>\n",
       "    <tr>\n",
       "      <th>50%</th>\n",
       "      <td>4431.434904</td>\n",
       "      <td>9.000000</td>\n",
       "      <td>4291.000000</td>\n",
       "      <td>1428.607960</td>\n",
       "      <td>12.653170</td>\n",
       "      <td>3.057513e+03</td>\n",
       "      <td>245.809414</td>\n",
       "      <td>88.088240</td>\n",
       "      <td>8.000000</td>\n",
       "      <td>8.656420</td>\n",
       "      <td>0.5</td>\n",
       "      <td>1.000000</td>\n",
       "    </tr>\n",
       "    <tr>\n",
       "      <th>75%</th>\n",
       "      <td>8825.630590</td>\n",
       "      <td>17.733002</td>\n",
       "      <td>8725.590978</td>\n",
       "      <td>2911.679288</td>\n",
       "      <td>12.653170</td>\n",
       "      <td>3.057513e+03</td>\n",
       "      <td>245.809414</td>\n",
       "      <td>88.088240</td>\n",
       "      <td>36.000000</td>\n",
       "      <td>8.656420</td>\n",
       "      <td>1.0</td>\n",
       "      <td>1.000000</td>\n",
       "    </tr>\n",
       "    <tr>\n",
       "      <th>max</th>\n",
       "      <td>286500.000000</td>\n",
       "      <td>115.000000</td>\n",
       "      <td>323541.000000</td>\n",
       "      <td>107847.000000</td>\n",
       "      <td>91.000000</td>\n",
       "      <td>1.823866e+06</td>\n",
       "      <td>45011.000000</td>\n",
       "      <td>6429.000000</td>\n",
       "      <td>62.000000</td>\n",
       "      <td>713.000000</td>\n",
       "      <td>1.0</td>\n",
       "      <td>1.000000</td>\n",
       "    </tr>\n",
       "  </tbody>\n",
       "</table>\n",
       "</div>"
      ],
      "text/plain": [
       "             MONTANT  FREQUENCE_RECH        REVENUE   ARPU_SEGMENT  \\\n",
       "count  807972.000000   807972.000000  807972.000000  807972.000000   \n",
       "mean     6031.873613       12.082504    5952.490711    1983.950715   \n",
       "std      5980.238852       11.304309    6042.278328    2013.516131   \n",
       "min         0.016570        0.000003       0.013794       0.000000   \n",
       "25%      1533.822279        3.000000    1500.000000     500.000000   \n",
       "50%      4431.434904        9.000000    4291.000000    1428.607960   \n",
       "75%      8825.630590       17.733002    8725.590978    2911.679288   \n",
       "max    286500.000000      115.000000  323541.000000  107847.000000   \n",
       "\n",
       "           FREQUENCE   DATA_VOLUME         ON_NET         ORANGE  \\\n",
       "count  807972.000000  8.079720e+05  807972.000000  807972.000000   \n",
       "mean       12.653170  3.057513e+03     245.809414      88.088240   \n",
       "std         9.839581  8.381665e+03     557.727385     125.250343   \n",
       "min         1.000000  0.000000e+00       0.000000       0.000000   \n",
       "25%         8.000000  1.023000e+03      27.000000      43.000000   \n",
       "50%        12.653170  3.057513e+03     245.809414      88.088240   \n",
       "75%        12.653170  3.057513e+03     245.809414      88.088240   \n",
       "max        91.000000  1.823866e+06   45011.000000    6429.000000   \n",
       "\n",
       "          REGULARITY  FREQ_TOP_PACK     CHURN  TOP_PACK_Imputed  \n",
       "count  807972.000000  807972.000000  807972.0     807972.000000  \n",
       "mean       19.490880       8.656420       0.5          0.594190  \n",
       "std        21.292197       7.600363       0.5          0.491048  \n",
       "min         1.000000       1.000000       0.0          0.000000  \n",
       "25%         2.000000       6.000000       0.0          0.000000  \n",
       "50%         8.000000       8.656420       0.5          1.000000  \n",
       "75%        36.000000       8.656420       1.0          1.000000  \n",
       "max        62.000000     713.000000       1.0          1.000000  "
      ]
     },
     "execution_count": 25,
     "metadata": {},
     "output_type": "execute_result"
    }
   ],
   "source": [
    "df.describe()"
   ]
  },
  {
   "cell_type": "code",
   "execution_count": 26,
   "id": "cd479ecc",
   "metadata": {
    "id": "cd479ecc",
    "outputId": "b90d863b-3b64-49f0-b07b-3ddac0f17994"
   },
   "outputs": [
    {
     "data": {
      "text/plain": [
       "user_id             0\n",
       "TENURE              0\n",
       "MONTANT             0\n",
       "FREQUENCE_RECH      0\n",
       "REVENUE             0\n",
       "ARPU_SEGMENT        0\n",
       "FREQUENCE           0\n",
       "DATA_VOLUME         0\n",
       "ON_NET              0\n",
       "ORANGE              0\n",
       "REGULARITY          0\n",
       "TOP_PACK            0\n",
       "FREQ_TOP_PACK       0\n",
       "CHURN               0\n",
       "TOP_PACK_Imputed    0\n",
       "dtype: int64"
      ]
     },
     "execution_count": 26,
     "metadata": {},
     "output_type": "execute_result"
    }
   ],
   "source": [
    "# plt.figure(figsize=(5, 5))\n",
    "# sns.heatmap(df.isnull(),yticklabels=False,cbar=False,cmap='viridis')\n",
    "\n",
    "df.isnull().sum()"
   ]
  },
  {
   "cell_type": "code",
   "execution_count": 27,
   "id": "2824e06e",
   "metadata": {
    "id": "2824e06e",
    "outputId": "dc5c37e3-dd35-4854-d47f-abd3f65ad01a"
   },
   "outputs": [
    {
     "name": "stdout",
     "output_type": "stream",
     "text": [
      "TENURE \n",
      "\n",
      "K > 24 month     759602\n",
      "I 18-21 month     20036\n",
      "H 15-18 month     11255\n",
      "G 12-15 month      7047\n",
      "J 21-24 month      5242\n",
      "F 9-12 month       3877\n",
      "E 6-9 month         647\n",
      "D 3-6 month         266\n",
      "Name: TENURE, dtype: int64\n",
      "\n",
      "TOP_PACK \n",
      "\n",
      "All-net 500F=2000F;5d             561441\n",
      "On net 200F=Unlimited _call24H     37427\n",
      "Data:490F=1GB,7d                   32100\n",
      "Data: 100 F=40MB,24H               22476\n",
      "Mixt 250F=Unlimited_call24H        17709\n",
      "                                   ...  \n",
      "pack_chinguitel_24h                    1\n",
      "150=unlimited pilot auto               1\n",
      "pilot_offer7                           1\n",
      "GPRS_3000Equal10GPORTAL                1\n",
      "CVM_On-net 400f=2200F                  1\n",
      "Name: TOP_PACK, Length: 116, dtype: int64\n",
      "\n",
      "CHURN \n",
      "\n",
      "1    403986\n",
      "0    403986\n",
      "Name: CHURN, dtype: int64\n",
      "\n"
     ]
    }
   ],
   "source": [
    "categorical = ['TENURE', 'TOP_PACK', 'CHURN']\n",
    "\n",
    "for i in categorical:\n",
    "    print(i, '\\n')\n",
    "    print(df[i].value_counts())\n",
    "    print('')"
   ]
  },
  {
   "cell_type": "code",
   "execution_count": 28,
   "id": "89528744",
   "metadata": {
    "id": "89528744",
    "outputId": "2607a18a-e1eb-4548-861a-3ed4f229d805"
   },
   "outputs": [
    {
     "data": {
      "image/png": "[encoded data removed]",
      "text/plain": [
       "<Figure size 864x576 with 1 Axes>"
      ]
     },
     "metadata": {},
     "output_type": "display_data"
    }
   ],
   "source": [
    "plt.figure(figsize=(12, 8))\n",
    "sns.set(style=\"darkgrid\")\n",
    "tenure_count = df.TENURE.value_counts()\n",
    "sns.barplot(x=tenure_count.index, y=tenure_count.values, alpha=0.9)\n",
    "plt.title('Frequency Distribution of Tenure')\n",
    "plt.ylabel('Number of Occurrences', fontsize=12)\n",
    "plt.xlabel('Tenure', fontsize=12)\n",
    "plt.show();"
   ]
  },
  {
   "cell_type": "markdown",
   "id": "uFUzHlxpzYfQ",
   "metadata": {
    "id": "uFUzHlxpzYfQ"
   },
   "source": [
    "We are almost done preprocessing. However, TOP_PACKAGE has a lot of categories. By observing dataset we can conclude that some categories can be grouped together."
   ]
  },
  {
   "cell_type": "code",
   "execution_count": 29,
   "id": "72d53d3b",
   "metadata": {
    "id": "72d53d3b"
   },
   "outputs": [],
   "source": [
    "# this script to find assign corresponding variables to values that contain\n",
    "# particular string\n",
    "\n",
    "all_net = df[df.TOP_PACK.map(lambda x: x.lower().startswith('all'))] #startswith() function checks if a string starts with a specified substring.\n",
    "#map() function can be used to apply a specific function to all elements within an iterable object.\n",
    "on_net = df[df.TOP_PACK.map(lambda x: x.lower().startswith('on'))]\n",
    "data = df[df.TOP_PACK.map(lambda x: x.lower().startswith('data'))]\n",
    "mixt = df[df.TOP_PACK.map(lambda x: x.lower().startswith('mixt'))]"
   ]
  },
  {
   "cell_type": "code",
   "execution_count": 30,
   "id": "2e9fe130",
   "metadata": {
    "id": "2e9fe130",
    "outputId": "d766de13-eced-4eae-a53e-5939e3a90381"
   },
   "outputs": [
    {
     "data": {
      "text/plain": [
       "array(['All-net 500F=2000F;5d', 'All-net 500F =2000F_AllNet_Unlimited',\n",
       "       'All-net 600F= 3000F ;5d', 'All-net 1000=5000;5d',\n",
       "       'All-net 300=600;2d', 'All-net 1000F=(3000F On+3000F Off);5d',\n",
       "       'All-net 500F=1250F_AllNet_1250_Onnet;48h',\n",
       "       'All-net 500F=4000F ; 5d', 'All-net 5000= 20000off+20000on;30d',\n",
       "       'All-net 500= 4000off+4000on;24H'], dtype=object)"
      ]
     },
     "execution_count": 30,
     "metadata": {},
     "output_type": "execute_result"
    }
   ],
   "source": [
    "all_net.TOP_PACK.unique()"
   ]
  },
  {
   "cell_type": "code",
   "execution_count": 31,
   "id": "8146ef0b",
   "metadata": {
    "id": "8146ef0b",
    "outputId": "755fc1fc-9f3a-46cf-ffdc-eed106b5f196"
   },
   "outputs": [
    {
     "data": {
      "text/plain": [
       "array(['On-net 500=4000,10d', 'On-net 200F=60mn;1d',\n",
       "       'On net 200F=Unlimited _call24H', 'On-net 500F_FNF;3d',\n",
       "       'On-net 2000f_One_Month_100H; 30d', 'On-net 1000F=10MilF;10d',\n",
       "       'On net 200F= 3000F_10Mo ;24H', 'On-net 300F=1800F;3d'],\n",
       "      dtype=object)"
      ]
     },
     "execution_count": 31,
     "metadata": {},
     "output_type": "execute_result"
    }
   ],
   "source": [
    "on_net.TOP_PACK.unique()"
   ]
  },
  {
   "cell_type": "code",
   "execution_count": 32,
   "id": "16031a41",
   "metadata": {
    "id": "16031a41",
    "outputId": "50d0007f-a2c0-499a-cdd0-ad86dc58ea71"
   },
   "outputs": [
    {
     "data": {
      "text/plain": [
       "array(['Data:1000F=2GB,30d', 'Data:490F=1GB,7d', 'Data: 200 F=100MB,24H',\n",
       "       'Data:1000F=5GB,7d', 'Data: 100 F=40MB,24H',\n",
       "       'Data:700F=SPPackage1,7d', 'Data:150F=SPPackage1,24H',\n",
       "       'Data:200F=Unlimited,24H', 'Data:300F=100MB,2d',\n",
       "       'Data:3000F=10GB,30d', 'Data:DailyCycle_Pilot_1.5GB',\n",
       "       'Data:50F=30MB_24H', 'Data:30Go_V 30_Days', 'Data:1500F=3GB,30D',\n",
       "       'Data:500F=2GB,24H', 'Data: 490F=Night,00H-08H',\n",
       "       'Data:1500F=SPPackage1,30d', 'Data: 200F=1GB,24H',\n",
       "       'Data:700F=1.5GB,7d', 'DataPack_Incoming', 'Data_EVC_2Go24H',\n",
       "       'Data_Mifi_10Go_Monthly', 'Data_Mifi_10Go', 'Data_Mifi_20Go',\n",
       "       'Data:OneTime_Pilot_1.5GB', 'Data:New-GPRS_PKG_1500F'],\n",
       "      dtype=object)"
      ]
     },
     "execution_count": 32,
     "metadata": {},
     "output_type": "execute_result"
    }
   ],
   "source": [
    "data.TOP_PACK.unique()"
   ]
  },
  {
   "cell_type": "code",
   "execution_count": 33,
   "id": "fde1ee78",
   "metadata": {
    "id": "fde1ee78",
    "outputId": "cc2654d9-5240-40ae-915d-18c45180439e"
   },
   "outputs": [
    {
     "data": {
      "text/plain": [
       "array(['Mixt 250F=Unlimited_call24H',\n",
       "       'MIXT:500F= 2500F on net _2500F off net;2d',\n",
       "       'MIXT: 200mnoff net _unl on net _5Go;30d',\n",
       "       'MIXT: 390F=04HOn-net_400SMS_400 Mo;4h\\t',\n",
       "       'MIXT: 590F=02H_On-net_200SMS_200 Mo;24h\\t\\t',\n",
       "       'MIXT: 4900F= 10H on net_1,5Go ;30d',\n",
       "       'MIXT:1000F=4250 Off net _ 4250F On net _100Mo; 5d',\n",
       "       'Mixt : 500F=2500Fonnet_2500Foffnet ;5d',\n",
       "       'MIXT:10000F=10hAllnet_3Go_1h_Zone3;30d\\t\\t',\n",
       "       'MIXT: 5000F=80Konnet_20Koffnet_250Mo;30d\\t\\t',\n",
       "       'MIXT: 500F=75(SMS, ONNET, Mo)_1000FAllNet;24h\\t\\t'], dtype=object)"
      ]
     },
     "execution_count": 33,
     "metadata": {},
     "output_type": "execute_result"
    }
   ],
   "source": [
    "mixt.TOP_PACK.unique()"
   ]
  },
  {
   "cell_type": "code",
   "execution_count": 34,
   "id": "620098bc",
   "metadata": {
    "id": "620098bc",
    "outputId": "65a6f4f0-7faa-45bb-fcae-00638028ff4a"
   },
   "outputs": [
    {
     "data": {
      "text/html": [
       "<div>\n",
       "<style scoped>\n",
       "    .dataframe tbody tr th:only-of-type {\n",
       "        vertical-align: middle;\n",
       "    }\n",
       "\n",
       "    .dataframe tbody tr th {\n",
       "        vertical-align: top;\n",
       "    }\n",
       "\n",
       "    .dataframe thead th {\n",
       "        text-align: right;\n",
       "    }\n",
       "</style>\n",
       "<table border=\"1\" class=\"dataframe\">\n",
       "  <thead>\n",
       "    <tr style=\"text-align: right;\">\n",
       "      <th></th>\n",
       "      <th>user_id</th>\n",
       "      <th>TENURE</th>\n",
       "      <th>MONTANT</th>\n",
       "      <th>FREQUENCE_RECH</th>\n",
       "      <th>REVENUE</th>\n",
       "      <th>ARPU_SEGMENT</th>\n",
       "      <th>FREQUENCE</th>\n",
       "      <th>DATA_VOLUME</th>\n",
       "      <th>ON_NET</th>\n",
       "      <th>ORANGE</th>\n",
       "      <th>REGULARITY</th>\n",
       "      <th>TOP_PACK</th>\n",
       "      <th>FREQ_TOP_PACK</th>\n",
       "      <th>CHURN</th>\n",
       "      <th>TOP_PACK_Imputed</th>\n",
       "    </tr>\n",
       "  </thead>\n",
       "  <tbody>\n",
       "    <tr>\n",
       "      <th>1</th>\n",
       "      <td>00000cb4a5d760de88fecb38e2f71b7bec52e834</td>\n",
       "      <td>I 18-21 month</td>\n",
       "      <td>9183.550839</td>\n",
       "      <td>3.698052</td>\n",
       "      <td>7689.221185</td>\n",
       "      <td>1504.700169</td>\n",
       "      <td>12.65317</td>\n",
       "      <td>3057.513089</td>\n",
       "      <td>245.809414</td>\n",
       "      <td>88.08824</td>\n",
       "      <td>4</td>\n",
       "      <td>all_net</td>\n",
       "      <td>8.65642</td>\n",
       "      <td>1</td>\n",
       "      <td>1</td>\n",
       "    </tr>\n",
       "    <tr>\n",
       "      <th>12</th>\n",
       "      <td>000068fe2aad763fb2667d253fa4c9e19e3b0636</td>\n",
       "      <td>G 12-15 month</td>\n",
       "      <td>5080.356132</td>\n",
       "      <td>19.830637</td>\n",
       "      <td>51.914589</td>\n",
       "      <td>3150.969961</td>\n",
       "      <td>12.65317</td>\n",
       "      <td>3057.513089</td>\n",
       "      <td>245.809414</td>\n",
       "      <td>88.08824</td>\n",
       "      <td>2</td>\n",
       "      <td>all_net</td>\n",
       "      <td>8.65642</td>\n",
       "      <td>1</td>\n",
       "      <td>1</td>\n",
       "    </tr>\n",
       "    <tr>\n",
       "      <th>17</th>\n",
       "      <td>0000a45ed15492427df603217166f1f813a2cc83</td>\n",
       "      <td>H 15-18 month</td>\n",
       "      <td>494.147741</td>\n",
       "      <td>9.221623</td>\n",
       "      <td>5573.211766</td>\n",
       "      <td>1266.876538</td>\n",
       "      <td>12.65317</td>\n",
       "      <td>3057.513089</td>\n",
       "      <td>245.809414</td>\n",
       "      <td>88.08824</td>\n",
       "      <td>5</td>\n",
       "      <td>all_net</td>\n",
       "      <td>8.65642</td>\n",
       "      <td>1</td>\n",
       "      <td>1</td>\n",
       "    </tr>\n",
       "    <tr>\n",
       "      <th>21</th>\n",
       "      <td>0000b00bed6ad90fd35d1957f484f9e54990c714</td>\n",
       "      <td>I 18-21 month</td>\n",
       "      <td>1825.216925</td>\n",
       "      <td>16.826730</td>\n",
       "      <td>8376.084837</td>\n",
       "      <td>1306.807496</td>\n",
       "      <td>12.65317</td>\n",
       "      <td>0.000000</td>\n",
       "      <td>245.809414</td>\n",
       "      <td>88.08824</td>\n",
       "      <td>36</td>\n",
       "      <td>all_net</td>\n",
       "      <td>8.65642</td>\n",
       "      <td>1</td>\n",
       "      <td>1</td>\n",
       "    </tr>\n",
       "    <tr>\n",
       "      <th>22</th>\n",
       "      <td>0000b4af921db374095a9e7ab87ee314522e4fe4</td>\n",
       "      <td>K &gt; 24 month</td>\n",
       "      <td>6136.220253</td>\n",
       "      <td>0.276481</td>\n",
       "      <td>4773.371753</td>\n",
       "      <td>1075.656566</td>\n",
       "      <td>12.65317</td>\n",
       "      <td>3057.513089</td>\n",
       "      <td>245.809414</td>\n",
       "      <td>88.08824</td>\n",
       "      <td>4</td>\n",
       "      <td>all_net</td>\n",
       "      <td>8.65642</td>\n",
       "      <td>1</td>\n",
       "      <td>1</td>\n",
       "    </tr>\n",
       "  </tbody>\n",
       "</table>\n",
       "</div>"
      ],
      "text/plain": [
       "                                     user_id         TENURE      MONTANT  \\\n",
       "1   00000cb4a5d760de88fecb38e2f71b7bec52e834  I 18-21 month  9183.550839   \n",
       "12  000068fe2aad763fb2667d253fa4c9e19e3b0636  G 12-15 month  5080.356132   \n",
       "17  0000a45ed15492427df603217166f1f813a2cc83  H 15-18 month   494.147741   \n",
       "21  0000b00bed6ad90fd35d1957f484f9e54990c714  I 18-21 month  1825.216925   \n",
       "22  0000b4af921db374095a9e7ab87ee314522e4fe4   K > 24 month  6136.220253   \n",
       "\n",
       "    FREQUENCE_RECH      REVENUE  ARPU_SEGMENT  FREQUENCE  DATA_VOLUME  \\\n",
       "1         3.698052  7689.221185   1504.700169   12.65317  3057.513089   \n",
       "12       19.830637    51.914589   3150.969961   12.65317  3057.513089   \n",
       "17        9.221623  5573.211766   1266.876538   12.65317  3057.513089   \n",
       "21       16.826730  8376.084837   1306.807496   12.65317     0.000000   \n",
       "22        0.276481  4773.371753   1075.656566   12.65317  3057.513089   \n",
       "\n",
       "        ON_NET    ORANGE  REGULARITY TOP_PACK  FREQ_TOP_PACK  CHURN  \\\n",
       "1   245.809414  88.08824           4  all_net        8.65642      1   \n",
       "12  245.809414  88.08824           2  all_net        8.65642      1   \n",
       "17  245.809414  88.08824           5  all_net        8.65642      1   \n",
       "21  245.809414  88.08824          36  all_net        8.65642      1   \n",
       "22  245.809414  88.08824           4  all_net        8.65642      1   \n",
       "\n",
       "    TOP_PACK_Imputed  \n",
       "1                  1  \n",
       "12                 1  \n",
       "17                 1  \n",
       "21                 1  \n",
       "22                 1  "
      ]
     },
     "execution_count": 34,
     "metadata": {},
     "output_type": "execute_result"
    }
   ],
   "source": [
    "df = df.replace(to_replace=all_net.TOP_PACK.unique(), value='all_net')\n",
    "df = df.replace(to_replace=on_net.TOP_PACK.unique(), value='on_net')\n",
    "df = df.replace(to_replace=data.TOP_PACK.unique(), value='data')\n",
    "df = df.replace(to_replace=mixt.TOP_PACK.unique(), value='mixt')\n",
    "\n",
    "df.head()"
   ]
  },
  {
   "cell_type": "markdown",
   "id": "Jg6b9-L10EPd",
   "metadata": {
    "id": "Jg6b9-L10EPd"
   },
   "source": [
    "We now just grouped only frequent packages. So let's merge rest of the values to 'others' category."
   ]
  },
  {
   "cell_type": "code",
   "execution_count": 35,
   "id": "8f53702f",
   "metadata": {
    "id": "8f53702f",
    "outputId": "dac6607a-2e1f-445d-f8e2-8c05fe25928f"
   },
   "outputs": [
    {
     "data": {
      "text/plain": [
       "Index(['all_net', 'data', 'on_net', 'mixt', 'Jokko_Daily',\n",
       "       'IVR Echat_Daily_50F', 'VAS(IVR_Radio_Daily)', 'Twter_U2opia_Daily',\n",
       "       'Twter_U2opia_Weekly', '200=Unlimited1Day', 'Jokko_promo',\n",
       "       'Facebook_MIX_2D', 'WIFI_Family_2MBPS', 'New_YAKALMA_4_ALL',\n",
       "       'Pilot_Youth4_490', 'CVM_on-net bundle 500=5000', 'MROMO_TIMWES_RENEW',\n",
       "       'Jokko_Monthly', 'MROMO_TIMWES_OneDAY', 'Pilot_Youth1_290',\n",
       "       'Yewouleen_PKG', 'Twter_U2opia_Monthly',\n",
       "       'YMGX 100=1 hour FNF, 24H/1 month', 'Internat: 1000F_Zone_1;24H\\t\\t',\n",
       "       'SUPERMAGIK_5000', 'Jokko_Weekly', 'FNF2 ( JAPPANTE)', 'Staff_CPE_Rent',\n",
       "       'WIFI_ Family _4MBPS', 'SUPERMAGIK_1000', '200F=10mnOnNetValid1H',\n",
       "       'EVC_500=2000F', 'FIFA_TS_daily', 'VAS(IVR_Radio_Monthly)',\n",
       "       'Internat: 2000F_Zone_2;24H\\t\\t', 'IVR Echat_Weekly_200F',\n",
       "       'TelmunCRBT_daily', '500=Unlimited3Day', 'Incoming_Bonus_woma',\n",
       "       'EVC_100Mo', 'Internat: 1000F_Zone_3;24h\\t\\t', '305155009',\n",
       "       'FNF_Youth_ESN', 'CVM_200f=400MB', 'VAS(IVR_Radio_Weekly)',\n",
       "       'NEW_CLIR_PERMANENT_LIBERTE_MOBILE', 'WIFI_ Family _10MBPS',\n",
       "       'pilot_offer6', 'CVM_100f=200 MB', '1000=Unlimited7Day',\n",
       "       'CVM_100F_unlimited', 'EVC_Jokko_Weekly', 'EVC_JOKKO30', 'CVM_500f=2GB',\n",
       "       'IVR Echat_Monthly_500F', 'CVM_On-net 1300f=12500', 'EVC_4900=12000F',\n",
       "       'EVC_1Go', 'pilot_offer7', 'pilot_offer4', '150=unlimited pilot auto',\n",
       "       'GPRS_3000Equal10GPORTAL', 'GPRS_PKG_5GO_ILLIMITE',\n",
       "       'pack_chinguitel_24h', 'CVM_On-net 400f=2200F'],\n",
       "      dtype='object')"
      ]
     },
     "execution_count": 35,
     "metadata": {},
     "output_type": "execute_result"
    }
   ],
   "source": [
    "df.TOP_PACK.value_counts().index"
   ]
  },
  {
   "cell_type": "code",
   "execution_count": 36,
   "id": "65e55f59",
   "metadata": {
    "id": "65e55f59"
   },
   "outputs": [],
   "source": [
    "df = df.replace(to_replace=df.TOP_PACK.value_counts().index[4:], value='others')"
   ]
  },
  {
   "cell_type": "code",
   "execution_count": 37,
   "id": "1384b097",
   "metadata": {
    "id": "1384b097",
    "outputId": "603b46f6-238a-461d-d9bb-5f991e0d1263"
   },
   "outputs": [
    {
     "data": {
      "text/plain": [
       "all_net    578952\n",
       "data       100217\n",
       "on_net      57565\n",
       "mixt        39954\n",
       "others      31284\n",
       "Name: TOP_PACK, dtype: int64"
      ]
     },
     "execution_count": 37,
     "metadata": {},
     "output_type": "execute_result"
    }
   ],
   "source": [
    "df.TOP_PACK.value_counts()"
   ]
  },
  {
   "cell_type": "markdown",
   "id": "MU8JaS2U0QjJ",
   "metadata": {
    "id": "MU8JaS2U0QjJ"
   },
   "source": [
    "Finally, we have done handling missing values. In order to preserve generated values let's save the dataset. As well save all steps as a function for further use."
   ]
  },
  {
   "cell_type": "code",
   "execution_count": 38,
   "id": "JA-lmmLI0fit",
   "metadata": {
    "id": "JA-lmmLI0fit"
   },
   "outputs": [],
   "source": [
    "df.to_csv('preprocessed_data.csv', index=False)"
   ]
  },
  {
   "cell_type": "code",
   "execution_count": 40,
   "id": "GC33WEsu0fhN",
   "metadata": {
    "id": "GC33WEsu0fhN"
   },
   "outputs": [],
   "source": [
    "df = pd.read_csv('preprocessed_data.csv')"
   ]
  },
  {
   "cell_type": "code",
   "execution_count": 41,
   "id": "cdb769ca",
   "metadata": {},
   "outputs": [
    {
     "data": {
      "text/html": [
       "<div>\n",
       "<style scoped>\n",
       "    .dataframe tbody tr th:only-of-type {\n",
       "        vertical-align: middle;\n",
       "    }\n",
       "\n",
       "    .dataframe tbody tr th {\n",
       "        vertical-align: top;\n",
       "    }\n",
       "\n",
       "    .dataframe thead th {\n",
       "        text-align: right;\n",
       "    }\n",
       "</style>\n",
       "<table border=\"1\" class=\"dataframe\">\n",
       "  <thead>\n",
       "    <tr style=\"text-align: right;\">\n",
       "      <th></th>\n",
       "      <th>user_id</th>\n",
       "      <th>TENURE</th>\n",
       "      <th>MONTANT</th>\n",
       "      <th>FREQUENCE_RECH</th>\n",
       "      <th>REVENUE</th>\n",
       "      <th>ARPU_SEGMENT</th>\n",
       "      <th>FREQUENCE</th>\n",
       "      <th>DATA_VOLUME</th>\n",
       "      <th>ON_NET</th>\n",
       "      <th>ORANGE</th>\n",
       "      <th>REGULARITY</th>\n",
       "      <th>TOP_PACK</th>\n",
       "      <th>FREQ_TOP_PACK</th>\n",
       "      <th>CHURN</th>\n",
       "      <th>TOP_PACK_Imputed</th>\n",
       "    </tr>\n",
       "  </thead>\n",
       "  <tbody>\n",
       "    <tr>\n",
       "      <th>0</th>\n",
       "      <td>00000cb4a5d760de88fecb38e2f71b7bec52e834</td>\n",
       "      <td>I 18-21 month</td>\n",
       "      <td>9183.550839</td>\n",
       "      <td>3.698052</td>\n",
       "      <td>7689.221185</td>\n",
       "      <td>1504.700169</td>\n",
       "      <td>12.65317</td>\n",
       "      <td>3057.513089</td>\n",
       "      <td>245.809414</td>\n",
       "      <td>88.08824</td>\n",
       "      <td>4</td>\n",
       "      <td>all_net</td>\n",
       "      <td>8.65642</td>\n",
       "      <td>1</td>\n",
       "      <td>1</td>\n",
       "    </tr>\n",
       "    <tr>\n",
       "      <th>1</th>\n",
       "      <td>000068fe2aad763fb2667d253fa4c9e19e3b0636</td>\n",
       "      <td>G 12-15 month</td>\n",
       "      <td>5080.356132</td>\n",
       "      <td>19.830637</td>\n",
       "      <td>51.914589</td>\n",
       "      <td>3150.969961</td>\n",
       "      <td>12.65317</td>\n",
       "      <td>3057.513089</td>\n",
       "      <td>245.809414</td>\n",
       "      <td>88.08824</td>\n",
       "      <td>2</td>\n",
       "      <td>all_net</td>\n",
       "      <td>8.65642</td>\n",
       "      <td>1</td>\n",
       "      <td>1</td>\n",
       "    </tr>\n",
       "    <tr>\n",
       "      <th>2</th>\n",
       "      <td>0000a45ed15492427df603217166f1f813a2cc83</td>\n",
       "      <td>H 15-18 month</td>\n",
       "      <td>494.147741</td>\n",
       "      <td>9.221623</td>\n",
       "      <td>5573.211766</td>\n",
       "      <td>1266.876538</td>\n",
       "      <td>12.65317</td>\n",
       "      <td>3057.513089</td>\n",
       "      <td>245.809414</td>\n",
       "      <td>88.08824</td>\n",
       "      <td>5</td>\n",
       "      <td>all_net</td>\n",
       "      <td>8.65642</td>\n",
       "      <td>1</td>\n",
       "      <td>1</td>\n",
       "    </tr>\n",
       "    <tr>\n",
       "      <th>3</th>\n",
       "      <td>0000b00bed6ad90fd35d1957f484f9e54990c714</td>\n",
       "      <td>I 18-21 month</td>\n",
       "      <td>1825.216925</td>\n",
       "      <td>16.826730</td>\n",
       "      <td>8376.084837</td>\n",
       "      <td>1306.807496</td>\n",
       "      <td>12.65317</td>\n",
       "      <td>0.000000</td>\n",
       "      <td>245.809414</td>\n",
       "      <td>88.08824</td>\n",
       "      <td>36</td>\n",
       "      <td>all_net</td>\n",
       "      <td>8.65642</td>\n",
       "      <td>1</td>\n",
       "      <td>1</td>\n",
       "    </tr>\n",
       "    <tr>\n",
       "      <th>4</th>\n",
       "      <td>0000b4af921db374095a9e7ab87ee314522e4fe4</td>\n",
       "      <td>K &gt; 24 month</td>\n",
       "      <td>6136.220253</td>\n",
       "      <td>0.276481</td>\n",
       "      <td>4773.371753</td>\n",
       "      <td>1075.656566</td>\n",
       "      <td>12.65317</td>\n",
       "      <td>3057.513089</td>\n",
       "      <td>245.809414</td>\n",
       "      <td>88.08824</td>\n",
       "      <td>4</td>\n",
       "      <td>all_net</td>\n",
       "      <td>8.65642</td>\n",
       "      <td>1</td>\n",
       "      <td>1</td>\n",
       "    </tr>\n",
       "  </tbody>\n",
       "</table>\n",
       "</div>"
      ],
      "text/plain": [
       "                                    user_id         TENURE      MONTANT  \\\n",
       "0  00000cb4a5d760de88fecb38e2f71b7bec52e834  I 18-21 month  9183.550839   \n",
       "1  000068fe2aad763fb2667d253fa4c9e19e3b0636  G 12-15 month  5080.356132   \n",
       "2  0000a45ed15492427df603217166f1f813a2cc83  H 15-18 month   494.147741   \n",
       "3  0000b00bed6ad90fd35d1957f484f9e54990c714  I 18-21 month  1825.216925   \n",
       "4  0000b4af921db374095a9e7ab87ee314522e4fe4   K > 24 month  6136.220253   \n",
       "\n",
       "   FREQUENCE_RECH      REVENUE  ARPU_SEGMENT  FREQUENCE  DATA_VOLUME  \\\n",
       "0        3.698052  7689.221185   1504.700169   12.65317  3057.513089   \n",
       "1       19.830637    51.914589   3150.969961   12.65317  3057.513089   \n",
       "2        9.221623  5573.211766   1266.876538   12.65317  3057.513089   \n",
       "3       16.826730  8376.084837   1306.807496   12.65317     0.000000   \n",
       "4        0.276481  4773.371753   1075.656566   12.65317  3057.513089   \n",
       "\n",
       "       ON_NET    ORANGE  REGULARITY TOP_PACK  FREQ_TOP_PACK  CHURN  \\\n",
       "0  245.809414  88.08824           4  all_net        8.65642      1   \n",
       "1  245.809414  88.08824           2  all_net        8.65642      1   \n",
       "2  245.809414  88.08824           5  all_net        8.65642      1   \n",
       "3  245.809414  88.08824          36  all_net        8.65642      1   \n",
       "4  245.809414  88.08824           4  all_net        8.65642      1   \n",
       "\n",
       "   TOP_PACK_Imputed  \n",
       "0                 1  \n",
       "1                 1  \n",
       "2                 1  \n",
       "3                 1  \n",
       "4                 1  "
      ]
     },
     "execution_count": 41,
     "metadata": {},
     "output_type": "execute_result"
    }
   ],
   "source": [
    "df.head()"
   ]
  },
  {
   "cell_type": "code",
   "execution_count": 50,
   "id": "jIUYtyhv1oN-",
   "metadata": {
    "id": "jIUYtyhv1oN-"
   },
   "outputs": [],
   "source": [
    "def normal_filler(data, column):\n",
    "    index = data[column.isna()].index\n",
    "    value = abs(np.random.normal(\n",
    "        loc=column.mean(), scale=column.std(), size=column.isna().sum()))\n",
    "    data = column.fillna(pd.Series(value, index=index), inplace=True)\n",
    "\n",
    "    return data"
   ]
  },
  {
   "cell_type": "code",
   "execution_count": 51,
   "id": "9jYMapDm3DTp",
   "metadata": {
    "id": "9jYMapDm3DTp"
   },
   "outputs": [],
   "source": [
    "def string_match(df, string):\n",
    "    value = df[df.TOP_PACK.map(lambda x: x.lower().startswith(str(string)))]\n",
    "    return value\n",
    "\n",
    "def replacer(df, value, category):\n",
    "    unique = value.TOP_PACK.unique()\n",
    "    df = df.replace(to_replace=unique, value=str(category))\n",
    "    return category"
   ]
  },
  {
   "cell_type": "markdown",
   "id": "34852a5b",
   "metadata": {},
   "source": [
    "## Data Visualization"
   ]
  },
  {
   "cell_type": "markdown",
   "id": "HmHQNkzr6QSW",
   "metadata": {
    "id": "HmHQNkzr6QSW"
   },
   "source": [
    "Let's review CHURN column"
   ]
  },
  {
   "cell_type": "code",
   "execution_count": null,
   "id": "7772249d",
   "metadata": {
    "id": "7772249d",
    "outputId": "4130672a-5367-4d0c-e281-92b5fa002968"
   },
   "outputs": [
    {
     "data": {
      "text/plain": [
       "<AxesSubplot:xlabel='CHURN', ylabel='count'>"
      ]
     },
     "execution_count": 37,
     "metadata": {},
     "output_type": "execute_result"
    },
    {
     "data": {
      "image/png": "[encoded data removed]",
      "text/plain": [
       "<Figure size 432x288 with 1 Axes>"
      ]
     },
     "metadata": {},
     "output_type": "display_data"
    }
   ],
   "source": [
    "sns.countplot(x='CHURN', data=df)"
   ]
  },
  {
   "cell_type": "markdown",
   "id": "ojIgb79N6ati",
   "metadata": {
    "id": "ojIgb79N6ati"
   },
   "source": [
    "Explore the distribution of packages column"
   ]
  },
  {
   "cell_type": "code",
   "execution_count": null,
   "id": "64369b13",
   "metadata": {
    "id": "64369b13",
    "outputId": "f7defa62-7343-4646-8aeb-b43063e7df1f"
   },
   "outputs": [
    {
     "data": {
      "text/plain": [
       "<AxesSubplot:xlabel='count', ylabel='TOP_PACK'>"
      ]
     },
     "execution_count": 38,
     "metadata": {},
     "output_type": "execute_result"
    },
    {
     "data": {
      "image/png": "[encoded data removed]",
      "text/plain": [
       "<Figure size 432x288 with 1 Axes>"
      ]
     },
     "metadata": {},
     "output_type": "display_data"
    }
   ],
   "source": [
    "sns.countplot(y='TOP_PACK', data=df)"
   ]
  },
  {
   "cell_type": "markdown",
   "id": "YEWtnMGP6f3B",
   "metadata": {
    "id": "YEWtnMGP6f3B"
   },
   "source": [
    "Let's see whether the is the dependency on clients income and how many connections they have according to their packages"
   ]
  },
  {
   "cell_type": "code",
   "execution_count": null,
   "id": "ae70f78b",
   "metadata": {
    "id": "ae70f78b",
    "outputId": "539f5dda-7d2f-464d-cde0-e37d6ba481b8"
   },
   "outputs": [
    {
     "data": {
      "text/plain": [
       "<AxesSubplot:xlabel='DATA_VOLUME', ylabel='REVENUE'>"
      ]
     },
     "execution_count": 39,
     "metadata": {},
     "output_type": "execute_result"
    },
    {
     "data": {
      "image/png": "[encoded data removed]",
      "text/plain": [
       "<Figure size 720x504 with 1 Axes>"
      ]
     },
     "metadata": {},
     "output_type": "display_data"
    }
   ],
   "source": [
    "plt.figure(figsize=(10, 7))\n",
    "sns.scatterplot(x='DATA_VOLUME', y='REVENUE', hue='TOP_PACK', alpha=0.7, data=df)"
   ]
  },
  {
   "cell_type": "code",
   "execution_count": null,
   "id": "a9b7d68a",
   "metadata": {
    "id": "a9b7d68a",
    "outputId": "0ee68686-9ad7-4a16-c7be-db95e8f5736f"
   },
   "outputs": [
    {
     "data": {
      "image/png": "[encoded data removed]",
      "text/plain": [
       "<Figure size 432x288 with 1 Axes>"
      ]
     },
     "metadata": {},
     "output_type": "display_data"
    }
   ],
   "source": [
    "sns.boxplot(y='FREQUENCE', x='CHURN', data=df);"
   ]
  },
  {
   "cell_type": "markdown",
   "id": "_ifcAkVi7G98",
   "metadata": {
    "id": "_ifcAkVi7G98"
   },
   "source": [
    "## Derive new columns\n",
    "\n",
    "Some value can be categorized or grouped. Thus we can create more features. Let's create how "
   ]
  },
  {
   "cell_type": "code",
   "execution_count": null,
   "id": "62f5b571",
   "metadata": {
    "id": "62f5b571"
   },
   "outputs": [],
   "source": [
    "df['income_group'] = pd.cut(df.REVENUE,\n",
    "                            bins=df.REVENUE.quantile([0.0, 0.3, 0.7, 1.0]),\n",
    "                            labels=['low', 'middle', 'high'])\n",
    "#cut() function is a  way to transform numerical data into categorical data.\n",
    "#quantile() function takes an array and a number say q between 0 and 1. It returns the value at the q th quantile."
   ]
  },
  {
   "cell_type": "code",
   "execution_count": null,
   "id": "e1118879",
   "metadata": {
    "id": "e1118879",
    "outputId": "6fd03c90-6e25-4e0a-a4e0-5ac2ecd39e00"
   },
   "outputs": [
    {
     "data": {
      "text/plain": [
       "midlle    323165\n",
       "low       242414\n",
       "high      242392\n",
       "Name: income_group, dtype: int64"
      ]
     },
     "execution_count": 42,
     "metadata": {},
     "output_type": "execute_result"
    }
   ],
   "source": [
    "df.income_group.value_counts()"
   ]
  },
  {
   "cell_type": "markdown",
   "id": "NrGQ4UhaEQ3n",
   "metadata": {
    "id": "NrGQ4UhaEQ3n"
   },
   "source": [
    "Let's create new feature column that creates average of call across the packages"
   ]
  },
  {
   "cell_type": "code",
   "execution_count": null,
   "id": "10197b5f",
   "metadata": {
    "id": "10197b5f"
   },
   "outputs": [],
   "source": [
    "df['avg_calls'] = (df.ON_NET + df.ORANGE) / 2"
   ]
  },
  {
   "cell_type": "code",
   "execution_count": null,
   "id": "2a17c752",
   "metadata": {
    "id": "2a17c752",
    "outputId": "448ae891-e586-446a-8afb-72c579c2827b"
   },
   "outputs": [
    {
     "data": {
      "text/html": [
       "<div>\n",
       "<style scoped>\n",
       "    .dataframe tbody tr th:only-of-type {\n",
       "        vertical-align: middle;\n",
       "    }\n",
       "\n",
       "    .dataframe tbody tr th {\n",
       "        vertical-align: top;\n",
       "    }\n",
       "\n",
       "    .dataframe thead th {\n",
       "        text-align: right;\n",
       "    }\n",
       "</style>\n",
       "<table border=\"1\" class=\"dataframe\">\n",
       "  <thead>\n",
       "    <tr style=\"text-align: right;\">\n",
       "      <th></th>\n",
       "      <th>user_id</th>\n",
       "      <th>TENURE</th>\n",
       "      <th>MONTANT</th>\n",
       "      <th>FREQUENCE_RECH</th>\n",
       "      <th>REVENUE</th>\n",
       "      <th>ARPU_SEGMENT</th>\n",
       "      <th>FREQUENCE</th>\n",
       "      <th>DATA_VOLUME</th>\n",
       "      <th>ON_NET</th>\n",
       "      <th>ORANGE</th>\n",
       "      <th>MRG</th>\n",
       "      <th>REGULARITY</th>\n",
       "      <th>TOP_PACK</th>\n",
       "      <th>FREQ_TOP_PACK</th>\n",
       "      <th>CHURN</th>\n",
       "      <th>TOP_PACK_Imputed</th>\n",
       "      <th>income_group</th>\n",
       "      <th>avg_calls</th>\n",
       "    </tr>\n",
       "  </thead>\n",
       "  <tbody>\n",
       "    <tr>\n",
       "      <th>1</th>\n",
       "      <td>00000cb4a5d760de88fecb38e2f71b7bec52e834</td>\n",
       "      <td>I 18-21 month</td>\n",
       "      <td>2023.861068</td>\n",
       "      <td>4.519954</td>\n",
       "      <td>2089.388269</td>\n",
       "      <td>2323.867485</td>\n",
       "      <td>12.689049</td>\n",
       "      <td>3061.401195</td>\n",
       "      <td>246.115358</td>\n",
       "      <td>88.026341</td>\n",
       "      <td>NO</td>\n",
       "      <td>4</td>\n",
       "      <td>all_net</td>\n",
       "      <td>8.681143</td>\n",
       "      <td>1</td>\n",
       "      <td>1</td>\n",
       "      <td>midlle</td>\n",
       "      <td>167.070849</td>\n",
       "    </tr>\n",
       "    <tr>\n",
       "      <th>12</th>\n",
       "      <td>000068fe2aad763fb2667d253fa4c9e19e3b0636</td>\n",
       "      <td>G 12-15 month</td>\n",
       "      <td>10389.119623</td>\n",
       "      <td>14.828186</td>\n",
       "      <td>6569.519809</td>\n",
       "      <td>1731.212444</td>\n",
       "      <td>12.689049</td>\n",
       "      <td>3061.401195</td>\n",
       "      <td>246.115358</td>\n",
       "      <td>88.026341</td>\n",
       "      <td>NO</td>\n",
       "      <td>2</td>\n",
       "      <td>all_net</td>\n",
       "      <td>8.681143</td>\n",
       "      <td>1</td>\n",
       "      <td>1</td>\n",
       "      <td>midlle</td>\n",
       "      <td>167.070849</td>\n",
       "    </tr>\n",
       "    <tr>\n",
       "      <th>17</th>\n",
       "      <td>0000a45ed15492427df603217166f1f813a2cc83</td>\n",
       "      <td>H 15-18 month</td>\n",
       "      <td>6873.607128</td>\n",
       "      <td>7.469565</td>\n",
       "      <td>3983.202161</td>\n",
       "      <td>982.961080</td>\n",
       "      <td>12.689049</td>\n",
       "      <td>3061.401195</td>\n",
       "      <td>246.115358</td>\n",
       "      <td>88.026341</td>\n",
       "      <td>NO</td>\n",
       "      <td>5</td>\n",
       "      <td>all_net</td>\n",
       "      <td>8.681143</td>\n",
       "      <td>1</td>\n",
       "      <td>1</td>\n",
       "      <td>midlle</td>\n",
       "      <td>167.070849</td>\n",
       "    </tr>\n",
       "    <tr>\n",
       "      <th>21</th>\n",
       "      <td>0000b00bed6ad90fd35d1957f484f9e54990c714</td>\n",
       "      <td>I 18-21 month</td>\n",
       "      <td>521.715439</td>\n",
       "      <td>3.192475</td>\n",
       "      <td>5335.989832</td>\n",
       "      <td>2771.657061</td>\n",
       "      <td>12.689049</td>\n",
       "      <td>0.000000</td>\n",
       "      <td>246.115358</td>\n",
       "      <td>88.026341</td>\n",
       "      <td>NO</td>\n",
       "      <td>36</td>\n",
       "      <td>all_net</td>\n",
       "      <td>8.681143</td>\n",
       "      <td>1</td>\n",
       "      <td>1</td>\n",
       "      <td>midlle</td>\n",
       "      <td>167.070849</td>\n",
       "    </tr>\n",
       "    <tr>\n",
       "      <th>22</th>\n",
       "      <td>0000b4af921db374095a9e7ab87ee314522e4fe4</td>\n",
       "      <td>K &gt; 24 month</td>\n",
       "      <td>791.057399</td>\n",
       "      <td>8.651311</td>\n",
       "      <td>7542.140272</td>\n",
       "      <td>900.834376</td>\n",
       "      <td>12.689049</td>\n",
       "      <td>3061.401195</td>\n",
       "      <td>246.115358</td>\n",
       "      <td>88.026341</td>\n",
       "      <td>NO</td>\n",
       "      <td>4</td>\n",
       "      <td>all_net</td>\n",
       "      <td>8.681143</td>\n",
       "      <td>1</td>\n",
       "      <td>1</td>\n",
       "      <td>midlle</td>\n",
       "      <td>167.070849</td>\n",
       "    </tr>\n",
       "  </tbody>\n",
       "</table>\n",
       "</div>"
      ],
      "text/plain": [
       "                                     user_id         TENURE       MONTANT  \\\n",
       "1   00000cb4a5d760de88fecb38e2f71b7bec52e834  I 18-21 month   2023.861068   \n",
       "12  000068fe2aad763fb2667d253fa4c9e19e3b0636  G 12-15 month  10389.119623   \n",
       "17  0000a45ed15492427df603217166f1f813a2cc83  H 15-18 month   6873.607128   \n",
       "21  0000b00bed6ad90fd35d1957f484f9e54990c714  I 18-21 month    521.715439   \n",
       "22  0000b4af921db374095a9e7ab87ee314522e4fe4   K > 24 month    791.057399   \n",
       "\n",
       "    FREQUENCE_RECH      REVENUE  ARPU_SEGMENT  FREQUENCE  DATA_VOLUME  \\\n",
       "1         4.519954  2089.388269   2323.867485  12.689049  3061.401195   \n",
       "12       14.828186  6569.519809   1731.212444  12.689049  3061.401195   \n",
       "17        7.469565  3983.202161    982.961080  12.689049  3061.401195   \n",
       "21        3.192475  5335.989832   2771.657061  12.689049     0.000000   \n",
       "22        8.651311  7542.140272    900.834376  12.689049  3061.401195   \n",
       "\n",
       "        ON_NET     ORANGE MRG  REGULARITY TOP_PACK  FREQ_TOP_PACK  CHURN  \\\n",
       "1   246.115358  88.026341  NO           4  all_net       8.681143      1   \n",
       "12  246.115358  88.026341  NO           2  all_net       8.681143      1   \n",
       "17  246.115358  88.026341  NO           5  all_net       8.681143      1   \n",
       "21  246.115358  88.026341  NO          36  all_net       8.681143      1   \n",
       "22  246.115358  88.026341  NO           4  all_net       8.681143      1   \n",
       "\n",
       "    TOP_PACK_Imputed income_group   avg_calls  \n",
       "1                  1       midlle  167.070849  \n",
       "12                 1       midlle  167.070849  \n",
       "17                 1       midlle  167.070849  \n",
       "21                 1       midlle  167.070849  \n",
       "22                 1       midlle  167.070849  "
      ]
     },
     "execution_count": 44,
     "metadata": {},
     "output_type": "execute_result"
    }
   ],
   "source": [
    "df.head()"
   ]
  },
  {
   "cell_type": "markdown",
   "id": "df0fe8eb",
   "metadata": {},
   "source": [
    "## One hot encoding"
   ]
  },
  {
   "cell_type": "markdown",
   "id": "UKORgbXFEqKE",
   "metadata": {
    "id": "UKORgbXFEqKE"
   },
   "source": [
    "Let's make one hot encoding our categorical variables."
   ]
  },
  {
   "cell_type": "code",
   "execution_count": null,
   "id": "ee2c8bb1",
   "metadata": {
    "id": "ee2c8bb1"
   },
   "outputs": [],
   "source": [
    "df1 = pd.get_dummies(df, columns=['TENURE', 'TOP_PACK', 'income_group'])\n",
    "#get_dummies() converts categorical data into dummy or indicator variables."
   ]
  },
  {
   "cell_type": "code",
   "execution_count": null,
   "id": "953ebb71",
   "metadata": {
    "id": "953ebb71",
    "outputId": "c06dbfaf-46fd-45aa-a1ef-ea0cea93b874"
   },
   "outputs": [
    {
     "data": {
      "text/plain": [
       "Index(['user_id', 'MONTANT', 'FREQUENCE_RECH', 'REVENUE', 'ARPU_SEGMENT',\n",
       "       'FREQUENCE', 'DATA_VOLUME', 'ON_NET', 'ORANGE', 'REGULARITY',\n",
       "       'FREQ_TOP_PACK', 'CHURN', 'TOP_PACK_Imputed', 'avg_calls',\n",
       "       'TENURE_D 3-6 month', 'TENURE_E 6-9 month', 'TENURE_F 9-12 month',\n",
       "       'TENURE_G 12-15 month', 'TENURE_H 15-18 month', 'TENURE_I 18-21 month',\n",
       "       'TENURE_J 21-24 month', 'TENURE_K > 24 month', 'MRG_NO',\n",
       "       'TOP_PACK_all_net', 'TOP_PACK_data', 'TOP_PACK_mixt', 'TOP_PACK_on_net',\n",
       "       'TOP_PACK_others', 'income_group_low', 'income_group_midlle',\n",
       "       'income_group_high'],\n",
       "      dtype='object')"
      ]
     },
     "execution_count": 46,
     "metadata": {},
     "output_type": "execute_result"
    }
   ],
   "source": [
    "df1.columns"
   ]
  },
  {
   "cell_type": "code",
   "execution_count": null,
   "id": "uUTVakgtE_IR",
   "metadata": {
    "id": "uUTVakgtE_IR"
   },
   "outputs": [],
   "source": [
    "def derive_and_ohe(df):\n",
    "    df['income_group'] = pd.cut(df.REVENUE,\n",
    "                            bins=df.REVENUE.quantile([0.0, 0.3, 0.7, 1.0]),\n",
    "                            labels=['low', 'middle', 'high'])\n",
    "    df['avg_calls'] = (df.ON_NET + df.ORANGE) / 2\n",
    "    df = pd.get_dummies(df, columns=['TENURE', 'TOP_PACK', 'income_group'])\n",
    "\n",
    "    return df"
   ]
  },
  {
   "cell_type": "markdown",
   "id": "f9s45gt0FSrg",
   "metadata": {
    "id": "f9s45gt0FSrg"
   },
   "source": [
    "Let's normalize data and split into train and test sets."
   ]
  },
  {
   "cell_type": "markdown",
   "id": "15859915",
   "metadata": {},
   "source": [
    "## Data Preprocessing"
   ]
  },
  {
   "cell_type": "code",
   "execution_count": null,
   "id": "0bf41dcc",
   "metadata": {
    "id": "0bf41dcc"
   },
   "outputs": [],
   "source": [
    "Y = df1[\"CHURN\"]\n",
    "Xdf = df1.drop(columns = [\"CHURN\", \"user_id\"], axis=1)"
   ]
  },
  {
   "cell_type": "code",
   "execution_count": null,
   "id": "364a0d22",
   "metadata": {
    "id": "364a0d22"
   },
   "outputs": [],
   "source": [
    "from sklearn.preprocessing import StandardScaler\n",
    "\n",
    "numerical_columns = ['MONTANT', 'FREQUENCE_RECH', 'REVENUE', 'ARPU_SEGMENT',\n",
    "       'FREQUENCE', 'DATA_VOLUME', 'ON_NET', 'ORANGE', 'REGULARITY',\n",
    "       'FREQ_TOP_PACK', 'avg_calls']\n",
    "\n",
    "scaler = StandardScaler()\n",
    "scaler.fit(Xdf[numerical_columns])\n",
    "Xdf[numerical_columns] = scaler.transform(Xdf[numerical_columns])"
   ]
  },
  {
   "cell_type": "code",
   "execution_count": null,
   "id": "3bfa4c71",
   "metadata": {
    "id": "3bfa4c71",
    "outputId": "dc3a1084-2ff9-40cd-8d0b-64115a920a47"
   },
   "outputs": [
    {
     "data": {
      "text/html": [
       "<div>\n",
       "<style scoped>\n",
       "    .dataframe tbody tr th:only-of-type {\n",
       "        vertical-align: middle;\n",
       "    }\n",
       "\n",
       "    .dataframe tbody tr th {\n",
       "        vertical-align: top;\n",
       "    }\n",
       "\n",
       "    .dataframe thead th {\n",
       "        text-align: right;\n",
       "    }\n",
       "</style>\n",
       "<table border=\"1\" class=\"dataframe\">\n",
       "  <thead>\n",
       "    <tr style=\"text-align: right;\">\n",
       "      <th></th>\n",
       "      <th>MONTANT</th>\n",
       "      <th>FREQUENCE_RECH</th>\n",
       "      <th>REVENUE</th>\n",
       "      <th>ARPU_SEGMENT</th>\n",
       "      <th>FREQUENCE</th>\n",
       "      <th>DATA_VOLUME</th>\n",
       "      <th>ON_NET</th>\n",
       "      <th>ORANGE</th>\n",
       "      <th>REGULARITY</th>\n",
       "      <th>FREQ_TOP_PACK</th>\n",
       "      <th>...</th>\n",
       "      <th>TENURE_K &gt; 24 month</th>\n",
       "      <th>MRG_NO</th>\n",
       "      <th>TOP_PACK_all_net</th>\n",
       "      <th>TOP_PACK_data</th>\n",
       "      <th>TOP_PACK_mixt</th>\n",
       "      <th>TOP_PACK_on_net</th>\n",
       "      <th>TOP_PACK_others</th>\n",
       "      <th>income_group_low</th>\n",
       "      <th>income_group_midlle</th>\n",
       "      <th>income_group_high</th>\n",
       "    </tr>\n",
       "  </thead>\n",
       "  <tbody>\n",
       "    <tr>\n",
       "      <th>1</th>\n",
       "      <td>-0.669598</td>\n",
       "      <td>-0.670229</td>\n",
       "      <td>-0.639224</td>\n",
       "      <td>0.158756</td>\n",
       "      <td>-0.0</td>\n",
       "      <td>-0.000000</td>\n",
       "      <td>0.0</td>\n",
       "      <td>0.0</td>\n",
       "      <td>-0.727643</td>\n",
       "      <td>0.0</td>\n",
       "      <td>...</td>\n",
       "      <td>0</td>\n",
       "      <td>1</td>\n",
       "      <td>1</td>\n",
       "      <td>0</td>\n",
       "      <td>0</td>\n",
       "      <td>0</td>\n",
       "      <td>0</td>\n",
       "      <td>0</td>\n",
       "      <td>1</td>\n",
       "      <td>0</td>\n",
       "    </tr>\n",
       "    <tr>\n",
       "      <th>12</th>\n",
       "      <td>0.714313</td>\n",
       "      <td>0.240240</td>\n",
       "      <td>0.092173</td>\n",
       "      <td>-0.131824</td>\n",
       "      <td>-0.0</td>\n",
       "      <td>-0.000000</td>\n",
       "      <td>0.0</td>\n",
       "      <td>0.0</td>\n",
       "      <td>-0.821555</td>\n",
       "      <td>0.0</td>\n",
       "      <td>...</td>\n",
       "      <td>0</td>\n",
       "      <td>1</td>\n",
       "      <td>1</td>\n",
       "      <td>0</td>\n",
       "      <td>0</td>\n",
       "      <td>0</td>\n",
       "      <td>0</td>\n",
       "      <td>0</td>\n",
       "      <td>1</td>\n",
       "      <td>0</td>\n",
       "    </tr>\n",
       "    <tr>\n",
       "      <th>17</th>\n",
       "      <td>0.132722</td>\n",
       "      <td>-0.409706</td>\n",
       "      <td>-0.330052</td>\n",
       "      <td>-0.498694</td>\n",
       "      <td>-0.0</td>\n",
       "      <td>-0.000000</td>\n",
       "      <td>0.0</td>\n",
       "      <td>0.0</td>\n",
       "      <td>-0.680687</td>\n",
       "      <td>0.0</td>\n",
       "      <td>...</td>\n",
       "      <td>0</td>\n",
       "      <td>1</td>\n",
       "      <td>1</td>\n",
       "      <td>0</td>\n",
       "      <td>0</td>\n",
       "      <td>0</td>\n",
       "      <td>0</td>\n",
       "      <td>0</td>\n",
       "      <td>1</td>\n",
       "      <td>0</td>\n",
       "    </tr>\n",
       "    <tr>\n",
       "      <th>21</th>\n",
       "      <td>-0.918106</td>\n",
       "      <td>-0.787478</td>\n",
       "      <td>-0.109205</td>\n",
       "      <td>0.378309</td>\n",
       "      <td>-0.0</td>\n",
       "      <td>-0.378854</td>\n",
       "      <td>0.0</td>\n",
       "      <td>0.0</td>\n",
       "      <td>0.774948</td>\n",
       "      <td>0.0</td>\n",
       "      <td>...</td>\n",
       "      <td>0</td>\n",
       "      <td>1</td>\n",
       "      <td>1</td>\n",
       "      <td>0</td>\n",
       "      <td>0</td>\n",
       "      <td>0</td>\n",
       "      <td>0</td>\n",
       "      <td>0</td>\n",
       "      <td>1</td>\n",
       "      <td>0</td>\n",
       "    </tr>\n",
       "    <tr>\n",
       "      <th>22</th>\n",
       "      <td>-0.873547</td>\n",
       "      <td>-0.305329</td>\n",
       "      <td>0.250957</td>\n",
       "      <td>-0.538961</td>\n",
       "      <td>-0.0</td>\n",
       "      <td>-0.000000</td>\n",
       "      <td>0.0</td>\n",
       "      <td>0.0</td>\n",
       "      <td>-0.727643</td>\n",
       "      <td>0.0</td>\n",
       "      <td>...</td>\n",
       "      <td>1</td>\n",
       "      <td>1</td>\n",
       "      <td>1</td>\n",
       "      <td>0</td>\n",
       "      <td>0</td>\n",
       "      <td>0</td>\n",
       "      <td>0</td>\n",
       "      <td>0</td>\n",
       "      <td>1</td>\n",
       "      <td>0</td>\n",
       "    </tr>\n",
       "  </tbody>\n",
       "</table>\n",
       "<p>5 rows × 29 columns</p>\n",
       "</div>"
      ],
      "text/plain": [
       "     MONTANT  FREQUENCE_RECH   REVENUE  ARPU_SEGMENT  FREQUENCE  DATA_VOLUME  \\\n",
       "1  -0.669598       -0.670229 -0.639224      0.158756       -0.0    -0.000000   \n",
       "12  0.714313        0.240240  0.092173     -0.131824       -0.0    -0.000000   \n",
       "17  0.132722       -0.409706 -0.330052     -0.498694       -0.0    -0.000000   \n",
       "21 -0.918106       -0.787478 -0.109205      0.378309       -0.0    -0.378854   \n",
       "22 -0.873547       -0.305329  0.250957     -0.538961       -0.0    -0.000000   \n",
       "\n",
       "    ON_NET  ORANGE  REGULARITY  FREQ_TOP_PACK  ...  TENURE_K > 24 month  \\\n",
       "1      0.0     0.0   -0.727643            0.0  ...                    0   \n",
       "12     0.0     0.0   -0.821555            0.0  ...                    0   \n",
       "17     0.0     0.0   -0.680687            0.0  ...                    0   \n",
       "21     0.0     0.0    0.774948            0.0  ...                    0   \n",
       "22     0.0     0.0   -0.727643            0.0  ...                    1   \n",
       "\n",
       "    MRG_NO  TOP_PACK_all_net  TOP_PACK_data  TOP_PACK_mixt  TOP_PACK_on_net  \\\n",
       "1        1                 1              0              0                0   \n",
       "12       1                 1              0              0                0   \n",
       "17       1                 1              0              0                0   \n",
       "21       1                 1              0              0                0   \n",
       "22       1                 1              0              0                0   \n",
       "\n",
       "    TOP_PACK_others  income_group_low  income_group_midlle  income_group_high  \n",
       "1                 0                 0                    1                  0  \n",
       "12                0                 0                    1                  0  \n",
       "17                0                 0                    1                  0  \n",
       "21                0                 0                    1                  0  \n",
       "22                0                 0                    1                  0  \n",
       "\n",
       "[5 rows x 29 columns]"
      ]
     },
     "execution_count": 49,
     "metadata": {},
     "output_type": "execute_result"
    }
   ],
   "source": [
    "round(Xdf.head(), 6)"
   ]
  },
  {
   "cell_type": "code",
   "execution_count": null,
   "id": "f5422f52",
   "metadata": {
    "id": "f5422f52"
   },
   "outputs": [],
   "source": [
    "from sklearn.model_selection import train_test_split\n",
    "\n",
    "x_train, x_test,y_train, y_test = train_test_split(Xdf, Y, test_size = 0.2, random_state = 5, shuffle = True, stratify = Y)"
   ]
  },
  {
   "cell_type": "markdown",
   "id": "ouDIKF2DFyOf",
   "metadata": {
    "id": "ouDIKF2DFyOf"
   },
   "source": [
    "Among many machine learning algorithms, considering lack of time to try them all, and amount of data to train, we decided to use Gradient Boosting Classifier. Boosting grants power to machine learning models to improve their accuracy of prediction. Boosting algorithms are one of the most widely used algorithm in data science.\n",
    "\n",
    "Firstly we will train and test data without cross validation, with default hyperparamters. Later, we will train and test with GridSearch and choose best estimators and compare the results."
   ]
  },
  {
   "cell_type": "markdown",
   "id": "8229b93a",
   "metadata": {},
   "source": [
    "## Gradient Boosting Classifier"
   ]
  },
  {
   "cell_type": "code",
   "execution_count": null,
   "id": "b85fa062",
   "metadata": {
    "id": "b85fa062",
    "outputId": "14b2d2ab-e7a8-4c08-e691-bbf375e68cff"
   },
   "outputs": [
    {
     "data": {
      "text/plain": [
       "GradientBoostingClassifier()"
      ]
     },
     "execution_count": 51,
     "metadata": {},
     "output_type": "execute_result"
    }
   ],
   "source": [
    "from sklearn.ensemble import GradientBoostingClassifier\n",
    "\n",
    "model = GradientBoostingClassifier()\n",
    "model.fit(x_train, y_train)"
   ]
  },
  {
   "cell_type": "code",
   "execution_count": null,
   "id": "558da5e3",
   "metadata": {
    "id": "558da5e3"
   },
   "outputs": [],
   "source": [
    "y_pred = model.predict(x_test)"
   ]
  },
  {
   "cell_type": "code",
   "execution_count": null,
   "id": "675a071f",
   "metadata": {
    "id": "675a071f"
   },
   "outputs": [],
   "source": [
    "from sklearn.metrics import confusion_matrix, classification_report"
   ]
  },
  {
   "cell_type": "code",
   "execution_count": null,
   "id": "f95cf590",
   "metadata": {
    "id": "f95cf590",
    "outputId": "0ccbae2d-d7cf-45f3-b677-2e4b5b103613"
   },
   "outputs": [
    {
     "data": {
      "text/plain": [
       "array([[64186, 16611],\n",
       "       [11164, 69634]], dtype=int64)"
      ]
     },
     "execution_count": 54,
     "metadata": {},
     "output_type": "execute_result"
    }
   ],
   "source": [
    "cm = confusion_matrix(y_test, y_pred)\n",
    "#Compute confusion matrix to evaluate the accuracy of a classification. \n",
    "cm"
   ]
  },
  {
   "cell_type": "code",
   "execution_count": null,
   "id": "c4428ec7",
   "metadata": {
    "id": "2338747c",
    "outputId": "3977523d-5ba3-4789-88e6-7534eaa14798"
   },
   "outputs": [],
   "source": [
    "cr = classification_report(y_test, y_pred)\n",
    "print(cr)"
   ]
  },
  {
   "cell_type": "markdown",
   "id": "8a7efc57",
   "metadata": {},
   "source": [
    "### Gradient boosting classifier with GridSearchCV"
   ]
  },
  {
   "cell_type": "code",
   "execution_count": null,
   "id": "afca1e9b",
   "metadata": {
    "id": "afca1e9b",
    "outputId": "780d6185-ee5b-4c87-ea44-74fb98627018"
   },
   "outputs": [
    {
     "data": {
      "text/plain": [
       "GridSearchCV(cv=10, estimator=GradientBoostingClassifier(), n_jobs=-1,\n",
       "             param_grid={'learning_rate': [0.01, 0.025, 0.05, 0.075, 0.1, 0.15],\n",
       "                         'loss': ['deviance'], 'max_depth': [3, 5, 8],\n",
       "                         'n_estimators': [10]})"
      ]
     },
     "execution_count": 56,
     "metadata": {},
     "output_type": "execute_result"
    }
   ],
   "source": [
    "from sklearn.model_selection import GridSearchCV\n",
    "\n",
    "# It helps to loop through predefined hyperparameters and fit your estimator (model) on your training set. So, in the end, you can select the best\n",
    "# parameters from the listed hyperparameters.\n",
    "parameters = {\n",
    "    \"loss\":[\"deviance\"],\n",
    "    \"learning_rate\": [0.01, 0.025, 0.05, 0.075, 0.1, 0.15],\n",
    "    \"max_depth\":[3,5,8,10,12,15],\n",
    "    \"n_estimators\":[10]\n",
    "    }\n",
    "\n",
    "clf = GridSearchCV(GradientBoostingClassifier(), parameters, cv=10, n_jobs=-1)\n",
    "clf.fit(x_train, y_train)"
   ]
  },
  {
   "cell_type": "code",
   "execution_count": null,
   "id": "b4acab23",
   "metadata": {
    "id": "b4acab23",
    "outputId": "82663cd0-f890-4b97-a7c8-11fa51932bdc"
   },
   "outputs": [
    {
     "name": "stdout",
     "output_type": "stream",
     "text": [
      "{'learning_rate': 0.1, 'loss': 'deviance', 'max_depth': 8, 'n_estimators': 10}\n"
     ]
    }
   ],
   "source": [
    "print(clf.best_params_)"
   ]
  },
  {
   "cell_type": "code",
   "execution_count": null,
   "id": "2095e667",
   "metadata": {
    "id": "2095e667"
   },
   "outputs": [],
   "source": [
    "y_p = clf.best_estimator_.predict(x_test)"
   ]
  },
  {
   "cell_type": "code",
   "execution_count": null,
   "id": "7c20425c",
   "metadata": {
    "id": "7c20425c",
    "outputId": "b875fe59-c7d4-4f77-c9f3-a9794e6b8e7c"
   },
   "outputs": [
    {
     "data": {
      "text/plain": [
       "array([[63986, 16811],\n",
       "       [10885, 69913]], dtype=int64)"
      ]
     },
     "execution_count": 60,
     "metadata": {},
     "output_type": "execute_result"
    }
   ],
   "source": [
    "confusion_matrix(y_test, y_p)"
   ]
  },
  {
   "cell_type": "code",
   "execution_count": null,
   "id": "1fcac31c",
   "metadata": {
    "id": "1fcac31c",
    "outputId": "e67419b6-b3d2-477c-cdbc-bd802f0a5a6e"
   },
   "outputs": [
    {
     "name": "stdout",
     "output_type": "stream",
     "text": [
      "              precision    recall  f1-score   support\n",
      "\n",
      "           0       0.85      0.79      0.82     80797\n",
      "           1       0.81      0.87      0.83     80798\n",
      "\n",
      "    accuracy                           0.83    161595\n",
      "   macro avg       0.83      0.83      0.83    161595\n",
      "weighted avg       0.83      0.83      0.83    161595\n",
      "\n"
     ]
    }
   ],
   "source": [
    "print(classification_report(y_test, y_p))"
   ]
  },
  {
   "cell_type": "markdown",
   "id": "fA74x9jDGcN8",
   "metadata": {
    "id": "fA74x9jDGcN8"
   },
   "source": [
    "Well, after training, our hyperparameter tuned model did not give great results. It showed only slightly increase in recall.\n",
    "\n",
    "## XGBoost Classifier\n",
    "\n",
    "Nevertheless, let's try also XGBClassifier from xgboost library and see the results for XGBClassifier and its ROC AUC curve."
   ]
  },
  {
   "cell_type": "code",
   "execution_count": null,
   "id": "c70291b5",
   "metadata": {
    "id": "c70291b5",
    "outputId": "08144606-bd66-46b2-b74f-b389bebdaf6c"
   },
   "outputs": [
    {
     "name": "stderr",
     "output_type": "stream",
     "text": [
      "c:\\programs\\python39\\lib\\site-packages\\xgboost\\sklearn.py:1224: UserWarning: The use of label encoder in XGBClassifier is deprecated and will be removed in a future release. To remove this warning, do the following: 1) Pass option use_label_encoder=False when constructing XGBClassifier object; and 2) Encode your labels (y) as integers starting with 0, i.e. 0, 1, 2, ..., [num_class - 1].\n",
      "  warnings.warn(label_encoder_deprecation_msg, UserWarning)\n"
     ]
    },
    {
     "name": "stdout",
     "output_type": "stream",
     "text": [
      "[00:03:34] WARNING: C:/Users/Administrator/workspace/xgboost-win64_release_1.5.0/src/learner.cc:1115: Starting in XGBoost 1.3.0, the default evaluation metric used with the objective 'binary:logistic' was changed from 'error' to 'logloss'. Explicitly set eval_metric if you'd like to restore the old behavior.\n"
     ]
    },
    {
     "data": {
      "text/plain": [
       "XGBClassifier(base_score=0.5, booster='gbtree', colsample_bylevel=1,\n",
       "              colsample_bynode=1, colsample_bytree=1, enable_categorical=False,\n",
       "              gamma=0, gpu_id=-1, importance_type=None,\n",
       "              interaction_constraints='', learning_rate=0.300000012,\n",
       "              max_delta_step=0, max_depth=6, min_child_weight=1, missing=nan,\n",
       "              monotone_constraints='()', n_estimators=100, n_jobs=4,\n",
       "              num_parallel_tree=1, predictor='auto', random_state=0,\n",
       "              reg_alpha=0, reg_lambda=1, scale_pos_weight=1, subsample=1,\n",
       "              tree_method='exact', validate_parameters=1, verbosity=None)"
      ]
     },
     "execution_count": 65,
     "metadata": {},
     "output_type": "execute_result"
    }
   ],
   "source": [
    "from xgboost import XGBClassifier\n",
    "\n",
    "xgb = XGBClassifier()\n",
    "xgb.fit(x_train, y_train)"
   ]
  },
  {
   "cell_type": "code",
   "execution_count": null,
   "id": "176d24c5",
   "metadata": {
    "id": "176d24c5"
   },
   "outputs": [],
   "source": [
    "y_preds = xgb.predict(x_test)"
   ]
  },
  {
   "cell_type": "code",
   "execution_count": null,
   "id": "668a5bfb",
   "metadata": {
    "id": "668a5bfb",
    "outputId": "d2aaf607-1a04-4665-d8b5-4899e85b0254"
   },
   "outputs": [
    {
     "name": "stdout",
     "output_type": "stream",
     "text": [
      "              precision    recall  f1-score   support\n",
      "\n",
      "           0       0.86      0.79      0.82     80797\n",
      "           1       0.81      0.87      0.84     80798\n",
      "\n",
      "    accuracy                           0.83    161595\n",
      "   macro avg       0.83      0.83      0.83    161595\n",
      "weighted avg       0.83      0.83      0.83    161595\n",
      "\n"
     ]
    }
   ],
   "source": [
    "print(classification_report(y_test, y_preds))"
   ]
  },
  {
   "cell_type": "markdown",
   "id": "4DJ9kWg8G9V3",
   "metadata": {
    "id": "4DJ9kWg8G9V3"
   },
   "source": [
    "In general, XGBoost showed better result in recall and f1-score. But avarage ramains the same with Sklearn algorithm.\n",
    "\n",
    "Let's see the ROC AUC curve."
   ]
  },
  {
   "cell_type": "code",
   "execution_count": null,
   "id": "1f61ca3d",
   "metadata": {
    "id": "1f61ca3d"
   },
   "outputs": [],
   "source": [
    "from sklearn.metrics import roc_curve, roc_auc_score\n",
    "\n",
    "y_score = clf.predict_proba(x_test)[:,1]"
   ]
  },
  {
   "cell_type": "code",
   "execution_count": null,
   "id": "7c7be2b9",
   "metadata": {
    "id": "7c7be2b9"
   },
   "outputs": [],
   "source": [
    "false_positive_rate, true_positive_rate, threshold = roc_curve(y_test, y_score)"
   ]
  },
  {
   "cell_type": "code",
   "execution_count": null,
   "id": "cfa8115d",
   "metadata": {
    "id": "cfa8115d",
    "outputId": "9f65b69f-f482-4c50-fad8-06f03c4fb542"
   },
   "outputs": [
    {
     "name": "stdout",
     "output_type": "stream",
     "text": [
      "roc_auc_score for GBM:  0.9026479414322816\n"
     ]
    }
   ],
   "source": [
    "print('roc_auc_score for GBM: ', roc_auc_score(y_test, y_score))"
   ]
  },
  {
   "cell_type": "code",
   "execution_count": null,
   "id": "efec778e",
   "metadata": {
    "id": "efec778e",
    "outputId": "6b47618e-71f0-4f22-adf6-c02b8febc19a"
   },
   "outputs": [
    {
     "data": {
      "image/png": "[encoded data removed]",
      "text/plain": [
       "<Figure size 504x504 with 1 Axes>"
      ]
     },
     "metadata": {},
     "output_type": "display_data"
    }
   ],
   "source": [
    "plt.subplots(1, figsize=(7, 7))\n",
    "plt.title('Receiver Operating Characteristic')\n",
    "plt.plot(false_positive_rate, true_positive_rate)\n",
    "plt.plot([0, 1], ls=\"--\")\n",
    "plt.plot([0, 0], [1, 0] , c=\".7\"), plt.plot([1, 1] , c=\".7\")\n",
    "plt.ylabel('True Positive Rate')\n",
    "plt.xlabel('False Positive Rate')\n",
    "plt.show()"
   ]
  },
  {
   "cell_type": "markdown",
   "id": "FdgVKL1BHfIG",
   "metadata": {
    "id": "FdgVKL1BHfIG"
   },
   "source": [
    "Well it shows great results!\n",
    "\n",
    "While analyzing the results we can conclude that with accuracy of 83%, our model performed very well. In order to achieve we have manipulated our data with some tricks. Perhaps on real data it can work wors due to there are a lot of changes from original ones. It would be better to have less data with missing values. Nevertheless, we will upload our data for test set.\n",
    "\n",
    "## Inference on test set for "
   ]
  },
  {
   "cell_type": "code",
   "execution_count": null,
   "id": "35295086",
   "metadata": {
    "id": "35295086"
   },
   "outputs": [],
   "source": [
    "test = pd.read_csv('Test.csv')"
   ]
  },
  {
   "cell_type": "code",
   "execution_count": null,
   "id": "044ba3b3",
   "metadata": {
    "id": "044ba3b3",
    "outputId": "427d230b-d8a0-4d65-dcd0-89f24d4e9918"
   },
   "outputs": [
    {
     "data": {
      "text/html": [
       "<div>\n",
       "<style scoped>\n",
       "    .dataframe tbody tr th:only-of-type {\n",
       "        vertical-align: middle;\n",
       "    }\n",
       "\n",
       "    .dataframe tbody tr th {\n",
       "        vertical-align: top;\n",
       "    }\n",
       "\n",
       "    .dataframe thead th {\n",
       "        text-align: right;\n",
       "    }\n",
       "</style>\n",
       "<table border=\"1\" class=\"dataframe\">\n",
       "  <thead>\n",
       "    <tr style=\"text-align: right;\">\n",
       "      <th></th>\n",
       "      <th>user_id</th>\n",
       "      <th>REGION</th>\n",
       "      <th>TENURE</th>\n",
       "      <th>MONTANT</th>\n",
       "      <th>FREQUENCE_RECH</th>\n",
       "      <th>REVENUE</th>\n",
       "      <th>ARPU_SEGMENT</th>\n",
       "      <th>FREQUENCE</th>\n",
       "      <th>DATA_VOLUME</th>\n",
       "      <th>ON_NET</th>\n",
       "      <th>ORANGE</th>\n",
       "      <th>TIGO</th>\n",
       "      <th>ZONE1</th>\n",
       "      <th>ZONE2</th>\n",
       "      <th>MRG</th>\n",
       "      <th>REGULARITY</th>\n",
       "      <th>TOP_PACK</th>\n",
       "      <th>FREQ_TOP_PACK</th>\n",
       "    </tr>\n",
       "  </thead>\n",
       "  <tbody>\n",
       "    <tr>\n",
       "      <th>0</th>\n",
       "      <td>00001dbe00e56fc4b1c1b65dda63de2a5ece55f9</td>\n",
       "      <td>THIES</td>\n",
       "      <td>K &gt; 24 month</td>\n",
       "      <td>5000.0</td>\n",
       "      <td>5.0</td>\n",
       "      <td>5000.0</td>\n",
       "      <td>1667.0</td>\n",
       "      <td>5.0</td>\n",
       "      <td>NaN</td>\n",
       "      <td>378.0</td>\n",
       "      <td>11.0</td>\n",
       "      <td>5.0</td>\n",
       "      <td>NaN</td>\n",
       "      <td>NaN</td>\n",
       "      <td>NO</td>\n",
       "      <td>42</td>\n",
       "      <td>On-net 1000F=10MilF;10d</td>\n",
       "      <td>5.0</td>\n",
       "    </tr>\n",
       "    <tr>\n",
       "      <th>1</th>\n",
       "      <td>000055d41c8a62052dd426592e8a4a3342bf565d</td>\n",
       "      <td>NaN</td>\n",
       "      <td>I 18-21 month</td>\n",
       "      <td>300.0</td>\n",
       "      <td>2.0</td>\n",
       "      <td>326.0</td>\n",
       "      <td>109.0</td>\n",
       "      <td>3.0</td>\n",
       "      <td>397.0</td>\n",
       "      <td>NaN</td>\n",
       "      <td>0.0</td>\n",
       "      <td>NaN</td>\n",
       "      <td>NaN</td>\n",
       "      <td>NaN</td>\n",
       "      <td>NO</td>\n",
       "      <td>41</td>\n",
       "      <td>Data: 100 F=40MB,24H</td>\n",
       "      <td>1.0</td>\n",
       "    </tr>\n",
       "    <tr>\n",
       "      <th>2</th>\n",
       "      <td>000081dd3245e6869a4a9c574c7050e7bb84c2c8</td>\n",
       "      <td>DAKAR</td>\n",
       "      <td>K &gt; 24 month</td>\n",
       "      <td>3300.0</td>\n",
       "      <td>25.0</td>\n",
       "      <td>3400.0</td>\n",
       "      <td>1133.0</td>\n",
       "      <td>26.0</td>\n",
       "      <td>7150.0</td>\n",
       "      <td>0.0</td>\n",
       "      <td>2.0</td>\n",
       "      <td>5.0</td>\n",
       "      <td>NaN</td>\n",
       "      <td>NaN</td>\n",
       "      <td>NO</td>\n",
       "      <td>57</td>\n",
       "      <td>Data: 100 F=40MB,24H</td>\n",
       "      <td>22.0</td>\n",
       "    </tr>\n",
       "    <tr>\n",
       "      <th>3</th>\n",
       "      <td>0000b76d2145d9445d9ff6b65c9ebc4196c89337</td>\n",
       "      <td>NaN</td>\n",
       "      <td>K &gt; 24 month</td>\n",
       "      <td>NaN</td>\n",
       "      <td>NaN</td>\n",
       "      <td>NaN</td>\n",
       "      <td>NaN</td>\n",
       "      <td>NaN</td>\n",
       "      <td>NaN</td>\n",
       "      <td>NaN</td>\n",
       "      <td>NaN</td>\n",
       "      <td>NaN</td>\n",
       "      <td>NaN</td>\n",
       "      <td>NaN</td>\n",
       "      <td>NO</td>\n",
       "      <td>9</td>\n",
       "      <td>NaN</td>\n",
       "      <td>NaN</td>\n",
       "    </tr>\n",
       "    <tr>\n",
       "      <th>4</th>\n",
       "      <td>0000bae5480628cf8fe51ad84bcb39772fc79224</td>\n",
       "      <td>NaN</td>\n",
       "      <td>K &gt; 24 month</td>\n",
       "      <td>NaN</td>\n",
       "      <td>NaN</td>\n",
       "      <td>NaN</td>\n",
       "      <td>NaN</td>\n",
       "      <td>NaN</td>\n",
       "      <td>NaN</td>\n",
       "      <td>NaN</td>\n",
       "      <td>NaN</td>\n",
       "      <td>NaN</td>\n",
       "      <td>NaN</td>\n",
       "      <td>NaN</td>\n",
       "      <td>NO</td>\n",
       "      <td>10</td>\n",
       "      <td>NaN</td>\n",
       "      <td>NaN</td>\n",
       "    </tr>\n",
       "  </tbody>\n",
       "</table>\n",
       "</div>"
      ],
      "text/plain": [
       "                                    user_id REGION         TENURE  MONTANT  \\\n",
       "0  00001dbe00e56fc4b1c1b65dda63de2a5ece55f9  THIES   K > 24 month   5000.0   \n",
       "1  000055d41c8a62052dd426592e8a4a3342bf565d    NaN  I 18-21 month    300.0   \n",
       "2  000081dd3245e6869a4a9c574c7050e7bb84c2c8  DAKAR   K > 24 month   3300.0   \n",
       "3  0000b76d2145d9445d9ff6b65c9ebc4196c89337    NaN   K > 24 month      NaN   \n",
       "4  0000bae5480628cf8fe51ad84bcb39772fc79224    NaN   K > 24 month      NaN   \n",
       "\n",
       "   FREQUENCE_RECH  REVENUE  ARPU_SEGMENT  FREQUENCE  DATA_VOLUME  ON_NET  \\\n",
       "0             5.0   5000.0        1667.0        5.0          NaN   378.0   \n",
       "1             2.0    326.0         109.0        3.0        397.0     NaN   \n",
       "2            25.0   3400.0        1133.0       26.0       7150.0     0.0   \n",
       "3             NaN      NaN           NaN        NaN          NaN     NaN   \n",
       "4             NaN      NaN           NaN        NaN          NaN     NaN   \n",
       "\n",
       "   ORANGE  TIGO  ZONE1  ZONE2 MRG  REGULARITY                 TOP_PACK  \\\n",
       "0    11.0   5.0    NaN    NaN  NO          42  On-net 1000F=10MilF;10d   \n",
       "1     0.0   NaN    NaN    NaN  NO          41     Data: 100 F=40MB,24H   \n",
       "2     2.0   5.0    NaN    NaN  NO          57     Data: 100 F=40MB,24H   \n",
       "3     NaN   NaN    NaN    NaN  NO           9                      NaN   \n",
       "4     NaN   NaN    NaN    NaN  NO          10                      NaN   \n",
       "\n",
       "   FREQ_TOP_PACK  \n",
       "0            5.0  \n",
       "1            1.0  \n",
       "2           22.0  \n",
       "3            NaN  \n",
       "4            NaN  "
      ]
     },
     "execution_count": 117,
     "metadata": {},
     "output_type": "execute_result"
    }
   ],
   "source": [
    "test.head()"
   ]
  },
  {
   "cell_type": "code",
   "execution_count": null,
   "id": "d4113811",
   "metadata": {
    "id": "d4113811",
    "outputId": "fb5e5f73-d6ac-4efc-b473-63fbfc3fc3d7"
   },
   "outputs": [
    {
     "data": {
      "text/plain": [
       "(380127, 18)"
      ]
     },
     "execution_count": 118,
     "metadata": {},
     "output_type": "execute_result"
    }
   ],
   "source": [
    "test.shape"
   ]
  },
  {
   "cell_type": "code",
   "execution_count": null,
   "id": "f5d5b1c6",
   "metadata": {
    "id": "f5d5b1c6",
    "outputId": "13ebaca5-9e92-497f-85ed-69d80b46805f"
   },
   "outputs": [
    {
     "data": {
      "text/html": [
       "<div>\n",
       "<style scoped>\n",
       "    .dataframe tbody tr th:only-of-type {\n",
       "        vertical-align: middle;\n",
       "    }\n",
       "\n",
       "    .dataframe tbody tr th {\n",
       "        vertical-align: top;\n",
       "    }\n",
       "\n",
       "    .dataframe thead th {\n",
       "        text-align: right;\n",
       "    }\n",
       "</style>\n",
       "<table border=\"1\" class=\"dataframe\">\n",
       "  <thead>\n",
       "    <tr style=\"text-align: right;\">\n",
       "      <th></th>\n",
       "      <th>number_missing</th>\n",
       "      <th>percent_missing</th>\n",
       "    </tr>\n",
       "  </thead>\n",
       "  <tbody>\n",
       "    <tr>\n",
       "      <th>user_id</th>\n",
       "      <td>0</td>\n",
       "      <td>0.000000</td>\n",
       "    </tr>\n",
       "    <tr>\n",
       "      <th>REGION</th>\n",
       "      <td>149728</td>\n",
       "      <td>39.388941</td>\n",
       "    </tr>\n",
       "    <tr>\n",
       "      <th>TENURE</th>\n",
       "      <td>0</td>\n",
       "      <td>0.000000</td>\n",
       "    </tr>\n",
       "    <tr>\n",
       "      <th>MONTANT</th>\n",
       "      <td>133055</td>\n",
       "      <td>35.002775</td>\n",
       "    </tr>\n",
       "    <tr>\n",
       "      <th>FREQUENCE_RECH</th>\n",
       "      <td>133055</td>\n",
       "      <td>35.002775</td>\n",
       "    </tr>\n",
       "    <tr>\n",
       "      <th>REVENUE</th>\n",
       "      <td>127373</td>\n",
       "      <td>33.508012</td>\n",
       "    </tr>\n",
       "    <tr>\n",
       "      <th>ARPU_SEGMENT</th>\n",
       "      <td>127373</td>\n",
       "      <td>33.508012</td>\n",
       "    </tr>\n",
       "    <tr>\n",
       "      <th>FREQUENCE</th>\n",
       "      <td>127373</td>\n",
       "      <td>33.508012</td>\n",
       "    </tr>\n",
       "    <tr>\n",
       "      <th>DATA_VOLUME</th>\n",
       "      <td>187040</td>\n",
       "      <td>49.204608</td>\n",
       "    </tr>\n",
       "    <tr>\n",
       "      <th>ON_NET</th>\n",
       "      <td>138514</td>\n",
       "      <td>36.438874</td>\n",
       "    </tr>\n",
       "    <tr>\n",
       "      <th>ORANGE</th>\n",
       "      <td>157230</td>\n",
       "      <td>41.362492</td>\n",
       "    </tr>\n",
       "    <tr>\n",
       "      <th>TIGO</th>\n",
       "      <td>227001</td>\n",
       "      <td>59.717147</td>\n",
       "    </tr>\n",
       "    <tr>\n",
       "      <th>ZONE1</th>\n",
       "      <td>350266</td>\n",
       "      <td>92.144468</td>\n",
       "    </tr>\n",
       "    <tr>\n",
       "      <th>ZONE2</th>\n",
       "      <td>356051</td>\n",
       "      <td>93.666327</td>\n",
       "    </tr>\n",
       "    <tr>\n",
       "      <th>MRG</th>\n",
       "      <td>0</td>\n",
       "      <td>0.000000</td>\n",
       "    </tr>\n",
       "    <tr>\n",
       "      <th>REGULARITY</th>\n",
       "      <td>0</td>\n",
       "      <td>0.000000</td>\n",
       "    </tr>\n",
       "    <tr>\n",
       "      <th>TOP_PACK</th>\n",
       "      <td>158779</td>\n",
       "      <td>41.769987</td>\n",
       "    </tr>\n",
       "    <tr>\n",
       "      <th>FREQ_TOP_PACK</th>\n",
       "      <td>158779</td>\n",
       "      <td>41.769987</td>\n",
       "    </tr>\n",
       "  </tbody>\n",
       "</table>\n",
       "</div>"
      ],
      "text/plain": [
       "                number_missing  percent_missing\n",
       "user_id                      0         0.000000\n",
       "REGION                  149728        39.388941\n",
       "TENURE                       0         0.000000\n",
       "MONTANT                 133055        35.002775\n",
       "FREQUENCE_RECH          133055        35.002775\n",
       "REVENUE                 127373        33.508012\n",
       "ARPU_SEGMENT            127373        33.508012\n",
       "FREQUENCE               127373        33.508012\n",
       "DATA_VOLUME             187040        49.204608\n",
       "ON_NET                  138514        36.438874\n",
       "ORANGE                  157230        41.362492\n",
       "TIGO                    227001        59.717147\n",
       "ZONE1                   350266        92.144468\n",
       "ZONE2                   356051        93.666327\n",
       "MRG                          0         0.000000\n",
       "REGULARITY                   0         0.000000\n",
       "TOP_PACK                158779        41.769987\n",
       "FREQ_TOP_PACK           158779        41.769987"
      ]
     },
     "execution_count": 119,
     "metadata": {},
     "output_type": "execute_result"
    }
   ],
   "source": [
    "number_missing = test.isnull().sum()\n",
    "percent_missing = test.isnull().sum() * 100 / len(test)\n",
    "missing_value_df = pd.DataFrame({'number_missing': number_missing,\n",
    "                                 'percent_missing': percent_missing})\n",
    "\n",
    "missing_value_df"
   ]
  },
  {
   "cell_type": "code",
   "execution_count": null,
   "id": "b68efb12",
   "metadata": {
    "id": "b68efb12",
    "outputId": "95065256-d6dd-4f90-e82f-9b936ca34d2b"
   },
   "outputs": [
    {
     "name": "stdout",
     "output_type": "stream",
     "text": [
      "REGION \n",
      "\n",
      "DAKAR          90615\n",
      "THIES          31743\n",
      "SAINT-LOUIS    21369\n",
      "LOUGA          17405\n",
      "KAOLACK        16970\n",
      "DIOURBEL       11692\n",
      "TAMBACOUNDA     9819\n",
      "KAFFRINE        7754\n",
      "KOLDA           6805\n",
      "FATICK          6360\n",
      "MATAM           5232\n",
      "ZIGUINCHOR      3902\n",
      "SEDHIOU          543\n",
      "KEDOUGOU         190\n",
      "Name: REGION, dtype: int64\n",
      "\n",
      "TENURE \n",
      "\n",
      "K > 24 month     360350\n",
      "I 18-21 month      8153\n",
      "H 15-18 month      4640\n",
      "G 12-15 month      2676\n",
      "J 21-24 month      2215\n",
      "F 9-12 month       1654\n",
      "E 6-9 month         298\n",
      "D 3-6 month         141\n",
      "Name: TENURE, dtype: int64\n",
      "\n",
      "TOP_PACK \n",
      "\n",
      "All-net 500F=2000F;5d             56038\n",
      "On net 200F=Unlimited _call24H    27187\n",
      "Data:490F=1GB,7d                  20257\n",
      "Data: 100 F=40MB,24H              15053\n",
      "Mixt 250F=Unlimited_call24H       11960\n",
      "                                  ...  \n",
      "EVC_Jokko_Weekly                      1\n",
      "EVC_1000=6000 F                       1\n",
      "EVC_JOKKO30                           1\n",
      "EVC_PACK_2.2Go                        1\n",
      "WIFI_ Family _10MBPS                  1\n",
      "Name: TOP_PACK, Length: 102, dtype: int64\n",
      "\n"
     ]
    }
   ],
   "source": [
    "categorical = ['REGION', 'TENURE', 'TOP_PACK']\n",
    "\n",
    "for i in categorical:\n",
    "    print(i, '\\n')\n",
    "    print(test[i].value_counts())\n",
    "    print('')"
   ]
  },
  {
   "cell_type": "code",
   "execution_count": null,
   "id": "3c5817dd",
   "metadata": {
    "id": "3c5817dd",
    "outputId": "09199950-784c-4a29-ba1c-82fa70aaafde"
   },
   "outputs": [
    {
     "data": {
      "text/html": [
       "<div>\n",
       "<style scoped>\n",
       "    .dataframe tbody tr th:only-of-type {\n",
       "        vertical-align: middle;\n",
       "    }\n",
       "\n",
       "    .dataframe tbody tr th {\n",
       "        vertical-align: top;\n",
       "    }\n",
       "\n",
       "    .dataframe thead th {\n",
       "        text-align: right;\n",
       "    }\n",
       "</style>\n",
       "<table border=\"1\" class=\"dataframe\">\n",
       "  <thead>\n",
       "    <tr style=\"text-align: right;\">\n",
       "      <th></th>\n",
       "      <th>user_id</th>\n",
       "      <th>TENURE</th>\n",
       "      <th>MONTANT</th>\n",
       "      <th>FREQUENCE_RECH</th>\n",
       "      <th>REVENUE</th>\n",
       "      <th>ARPU_SEGMENT</th>\n",
       "      <th>FREQUENCE</th>\n",
       "      <th>DATA_VOLUME</th>\n",
       "      <th>ON_NET</th>\n",
       "      <th>ORANGE</th>\n",
       "      <th>MRG</th>\n",
       "      <th>REGULARITY</th>\n",
       "      <th>TOP_PACK</th>\n",
       "      <th>FREQ_TOP_PACK</th>\n",
       "    </tr>\n",
       "  </thead>\n",
       "  <tbody>\n",
       "    <tr>\n",
       "      <th>0</th>\n",
       "      <td>00001dbe00e56fc4b1c1b65dda63de2a5ece55f9</td>\n",
       "      <td>K &gt; 24 month</td>\n",
       "      <td>5000.0</td>\n",
       "      <td>5.0</td>\n",
       "      <td>5000.0</td>\n",
       "      <td>1667.0</td>\n",
       "      <td>5.0</td>\n",
       "      <td>NaN</td>\n",
       "      <td>378.0</td>\n",
       "      <td>11.0</td>\n",
       "      <td>NO</td>\n",
       "      <td>42</td>\n",
       "      <td>On-net 1000F=10MilF;10d</td>\n",
       "      <td>5.0</td>\n",
       "    </tr>\n",
       "    <tr>\n",
       "      <th>1</th>\n",
       "      <td>000055d41c8a62052dd426592e8a4a3342bf565d</td>\n",
       "      <td>I 18-21 month</td>\n",
       "      <td>300.0</td>\n",
       "      <td>2.0</td>\n",
       "      <td>326.0</td>\n",
       "      <td>109.0</td>\n",
       "      <td>3.0</td>\n",
       "      <td>397.0</td>\n",
       "      <td>NaN</td>\n",
       "      <td>0.0</td>\n",
       "      <td>NO</td>\n",
       "      <td>41</td>\n",
       "      <td>Data: 100 F=40MB,24H</td>\n",
       "      <td>1.0</td>\n",
       "    </tr>\n",
       "    <tr>\n",
       "      <th>2</th>\n",
       "      <td>000081dd3245e6869a4a9c574c7050e7bb84c2c8</td>\n",
       "      <td>K &gt; 24 month</td>\n",
       "      <td>3300.0</td>\n",
       "      <td>25.0</td>\n",
       "      <td>3400.0</td>\n",
       "      <td>1133.0</td>\n",
       "      <td>26.0</td>\n",
       "      <td>7150.0</td>\n",
       "      <td>0.0</td>\n",
       "      <td>2.0</td>\n",
       "      <td>NO</td>\n",
       "      <td>57</td>\n",
       "      <td>Data: 100 F=40MB,24H</td>\n",
       "      <td>22.0</td>\n",
       "    </tr>\n",
       "    <tr>\n",
       "      <th>3</th>\n",
       "      <td>0000b76d2145d9445d9ff6b65c9ebc4196c89337</td>\n",
       "      <td>K &gt; 24 month</td>\n",
       "      <td>NaN</td>\n",
       "      <td>NaN</td>\n",
       "      <td>NaN</td>\n",
       "      <td>NaN</td>\n",
       "      <td>NaN</td>\n",
       "      <td>NaN</td>\n",
       "      <td>NaN</td>\n",
       "      <td>NaN</td>\n",
       "      <td>NO</td>\n",
       "      <td>9</td>\n",
       "      <td>NaN</td>\n",
       "      <td>NaN</td>\n",
       "    </tr>\n",
       "    <tr>\n",
       "      <th>4</th>\n",
       "      <td>0000bae5480628cf8fe51ad84bcb39772fc79224</td>\n",
       "      <td>K &gt; 24 month</td>\n",
       "      <td>NaN</td>\n",
       "      <td>NaN</td>\n",
       "      <td>NaN</td>\n",
       "      <td>NaN</td>\n",
       "      <td>NaN</td>\n",
       "      <td>NaN</td>\n",
       "      <td>NaN</td>\n",
       "      <td>NaN</td>\n",
       "      <td>NO</td>\n",
       "      <td>10</td>\n",
       "      <td>NaN</td>\n",
       "      <td>NaN</td>\n",
       "    </tr>\n",
       "  </tbody>\n",
       "</table>\n",
       "</div>"
      ],
      "text/plain": [
       "                                    user_id         TENURE  MONTANT  \\\n",
       "0  00001dbe00e56fc4b1c1b65dda63de2a5ece55f9   K > 24 month   5000.0   \n",
       "1  000055d41c8a62052dd426592e8a4a3342bf565d  I 18-21 month    300.0   \n",
       "2  000081dd3245e6869a4a9c574c7050e7bb84c2c8   K > 24 month   3300.0   \n",
       "3  0000b76d2145d9445d9ff6b65c9ebc4196c89337   K > 24 month      NaN   \n",
       "4  0000bae5480628cf8fe51ad84bcb39772fc79224   K > 24 month      NaN   \n",
       "\n",
       "   FREQUENCE_RECH  REVENUE  ARPU_SEGMENT  FREQUENCE  DATA_VOLUME  ON_NET  \\\n",
       "0             5.0   5000.0        1667.0        5.0          NaN   378.0   \n",
       "1             2.0    326.0         109.0        3.0        397.0     NaN   \n",
       "2            25.0   3400.0        1133.0       26.0       7150.0     0.0   \n",
       "3             NaN      NaN           NaN        NaN          NaN     NaN   \n",
       "4             NaN      NaN           NaN        NaN          NaN     NaN   \n",
       "\n",
       "   ORANGE MRG  REGULARITY                 TOP_PACK  FREQ_TOP_PACK  \n",
       "0    11.0  NO          42  On-net 1000F=10MilF;10d            5.0  \n",
       "1     0.0  NO          41     Data: 100 F=40MB,24H            1.0  \n",
       "2     2.0  NO          57     Data: 100 F=40MB,24H           22.0  \n",
       "3     NaN  NO           9                      NaN            NaN  \n",
       "4     NaN  NO          10                      NaN            NaN  "
      ]
     },
     "execution_count": 121,
     "metadata": {},
     "output_type": "execute_result"
    }
   ],
   "source": [
    "test.drop(['REGION', 'TIGO', 'ZONE1', 'ZONE2', ], axis=1, inplace=True)\n",
    "test.head()"
   ]
  },
  {
   "cell_type": "code",
   "execution_count": null,
   "id": "bbeb998c",
   "metadata": {
    "id": "bbeb998c"
   },
   "outputs": [],
   "source": [
    "index = test[test.MONTANT.isna()].index\n",
    "value = abs(np.random.normal(\n",
    "    loc=test.MONTANT.mean(), scale=test.MONTANT.std(), size=test.MONTANT.isna().sum()))\n",
    "\n",
    "test.MONTANT.fillna(pd.Series(value, index=index), inplace=True)"
   ]
  },
  {
   "cell_type": "code",
   "execution_count": null,
   "id": "82dc54fc",
   "metadata": {
    "id": "82dc54fc"
   },
   "outputs": [],
   "source": [
    "index = test[test.FREQUENCE_RECH.isna()].index\n",
    "value = abs(np.random.normal(\n",
    "    loc=test.FREQUENCE_RECH.mean(), scale=test.FREQUENCE_RECH.std(), size=test.FREQUENCE_RECH.isna().sum()))\n",
    "\n",
    "test.FREQUENCE_RECH.fillna(pd.Series(value, index=index), inplace=True)"
   ]
  },
  {
   "cell_type": "code",
   "execution_count": null,
   "id": "dd58fe51",
   "metadata": {
    "id": "dd58fe51"
   },
   "outputs": [],
   "source": [
    "index = test[test.REVENUE.isna()].index\n",
    "value = abs(np.random.normal(\n",
    "    loc=test.REVENUE.mean(), scale=test.REVENUE.std(), size=test.REVENUE.isna().sum()))\n",
    "\n",
    "test.REVENUE.fillna(pd.Series(value, index=index), inplace=True)"
   ]
  },
  {
   "cell_type": "code",
   "execution_count": null,
   "id": "558ec957",
   "metadata": {
    "id": "558ec957"
   },
   "outputs": [],
   "source": [
    "index = test[test.ARPU_SEGMENT.isna()].index\n",
    "value = abs(np.random.normal(\n",
    "    loc=test.ARPU_SEGMENT.mean(), scale=test.ARPU_SEGMENT.std(), size=test.ARPU_SEGMENT.isna().sum()))\n",
    "\n",
    "test.ARPU_SEGMENT.fillna(pd.Series(value, index=index), inplace=True)"
   ]
  },
  {
   "cell_type": "code",
   "execution_count": null,
   "id": "b34d0492",
   "metadata": {
    "id": "b34d0492"
   },
   "outputs": [],
   "source": [
    "test.FREQUENCE.fillna(test.FREQUENCE.mean(), inplace=True)\n",
    "test.DATA_VOLUME.fillna(test.DATA_VOLUME.mean(), inplace=True)\n",
    "test.ON_NET.fillna(test.ON_NET.mean(), inplace=True)\n",
    "test.ORANGE.fillna(test.ORANGE.mean(), inplace=True)\n",
    "test.FREQ_TOP_PACK.fillna(test.FREQ_TOP_PACK.mean(), inplace=True)"
   ]
  },
  {
   "cell_type": "code",
   "execution_count": null,
   "id": "afac6ae4",
   "metadata": {
    "id": "afac6ae4"
   },
   "outputs": [],
   "source": [
    "# from https://medium.com/analytics-vidhya/ways-to-handle-categorical-column-missing-data-its-implementations-15dc4a56893\n",
    "\n",
    "def impute_nan_add_vairable(DataFrame,ColName):    \n",
    "    #1. add new column and replace if category is null then 1 else 0\n",
    "    DataFrame[ColName+\"_Imputed\"] =   np.where(DataFrame[ColName].isnull(),1,0)\n",
    "    \n",
    "    # 2. Take most occured category in that vairable (.mode())\n",
    "    \n",
    "    Mode_Category = DataFrame[ColName].mode()[0]\n",
    "    \n",
    "    ## 2.1 Replace NAN values with most occured category in actual vairable\n",
    "    \n",
    "    DataFrame[ColName].fillna(Mode_Category,inplace=True)\n",
    "    \n",
    "    \n",
    "impute_nan_add_vairable(test, 'TOP_PACK')"
   ]
  },
  {
   "cell_type": "code",
   "execution_count": null,
   "id": "49efa700",
   "metadata": {
    "id": "49efa700",
    "outputId": "2740bd96-834a-4e2a-a90f-aa233c8e56db"
   },
   "outputs": [
    {
     "data": {
      "text/plain": [
       "(380127, 15)"
      ]
     },
     "execution_count": 128,
     "metadata": {},
     "output_type": "execute_result"
    }
   ],
   "source": [
    "test.shape"
   ]
  },
  {
   "cell_type": "code",
   "execution_count": null,
   "id": "1a63edc9",
   "metadata": {
    "id": "1a63edc9",
    "outputId": "9e5b4027-7e05-4424-882f-03f4cc2ac238"
   },
   "outputs": [
    {
     "data": {
      "text/html": [
       "<div>\n",
       "<style scoped>\n",
       "    .dataframe tbody tr th:only-of-type {\n",
       "        vertical-align: middle;\n",
       "    }\n",
       "\n",
       "    .dataframe tbody tr th {\n",
       "        vertical-align: top;\n",
       "    }\n",
       "\n",
       "    .dataframe thead th {\n",
       "        text-align: right;\n",
       "    }\n",
       "</style>\n",
       "<table border=\"1\" class=\"dataframe\">\n",
       "  <thead>\n",
       "    <tr style=\"text-align: right;\">\n",
       "      <th></th>\n",
       "      <th>MONTANT</th>\n",
       "      <th>FREQUENCE_RECH</th>\n",
       "      <th>REVENUE</th>\n",
       "      <th>ARPU_SEGMENT</th>\n",
       "      <th>FREQUENCE</th>\n",
       "      <th>DATA_VOLUME</th>\n",
       "      <th>ON_NET</th>\n",
       "      <th>ORANGE</th>\n",
       "      <th>REGULARITY</th>\n",
       "      <th>FREQ_TOP_PACK</th>\n",
       "      <th>TOP_PACK_Imputed</th>\n",
       "    </tr>\n",
       "  </thead>\n",
       "  <tbody>\n",
       "    <tr>\n",
       "      <th>count</th>\n",
       "      <td>380127.000000</td>\n",
       "      <td>380127.000000</td>\n",
       "      <td>380127.000000</td>\n",
       "      <td>380127.000000</td>\n",
       "      <td>380127.000000</td>\n",
       "      <td>380127.000000</td>\n",
       "      <td>380127.000000</td>\n",
       "      <td>380127.000000</td>\n",
       "      <td>380127.000000</td>\n",
       "      <td>380127.000000</td>\n",
       "      <td>380127.000000</td>\n",
       "    </tr>\n",
       "    <tr>\n",
       "      <th>mean</th>\n",
       "      <td>6151.200854</td>\n",
       "      <td>12.503028</td>\n",
       "      <td>6120.074636</td>\n",
       "      <td>2035.877015</td>\n",
       "      <td>13.957963</td>\n",
       "      <td>3346.095454</td>\n",
       "      <td>278.806310</td>\n",
       "      <td>95.193008</td>\n",
       "      <td>28.081699</td>\n",
       "      <td>9.261584</td>\n",
       "      <td>0.417700</td>\n",
       "    </tr>\n",
       "    <tr>\n",
       "      <th>std</th>\n",
       "      <td>6587.030222</td>\n",
       "      <td>12.324588</td>\n",
       "      <td>6678.835910</td>\n",
       "      <td>2224.999947</td>\n",
       "      <td>11.948155</td>\n",
       "      <td>8554.386283</td>\n",
       "      <td>697.000448</td>\n",
       "      <td>156.175430</td>\n",
       "      <td>22.289094</td>\n",
       "      <td>9.362221</td>\n",
       "      <td>0.493181</td>\n",
       "    </tr>\n",
       "    <tr>\n",
       "      <th>min</th>\n",
       "      <td>0.050741</td>\n",
       "      <td>0.000048</td>\n",
       "      <td>0.030244</td>\n",
       "      <td>0.000000</td>\n",
       "      <td>1.000000</td>\n",
       "      <td>0.000000</td>\n",
       "      <td>0.000000</td>\n",
       "      <td>0.000000</td>\n",
       "      <td>1.000000</td>\n",
       "      <td>1.000000</td>\n",
       "      <td>0.000000</td>\n",
       "    </tr>\n",
       "    <tr>\n",
       "      <th>25%</th>\n",
       "      <td>1500.000000</td>\n",
       "      <td>3.000000</td>\n",
       "      <td>1448.000000</td>\n",
       "      <td>481.946933</td>\n",
       "      <td>6.000000</td>\n",
       "      <td>232.000000</td>\n",
       "      <td>12.000000</td>\n",
       "      <td>20.000000</td>\n",
       "      <td>6.000000</td>\n",
       "      <td>4.000000</td>\n",
       "      <td>0.000000</td>\n",
       "    </tr>\n",
       "    <tr>\n",
       "      <th>50%</th>\n",
       "      <td>4194.606882</td>\n",
       "      <td>8.970974</td>\n",
       "      <td>4087.633128</td>\n",
       "      <td>1353.870707</td>\n",
       "      <td>13.957963</td>\n",
       "      <td>3346.095454</td>\n",
       "      <td>212.000000</td>\n",
       "      <td>95.193008</td>\n",
       "      <td>24.000000</td>\n",
       "      <td>9.261584</td>\n",
       "      <td>0.000000</td>\n",
       "    </tr>\n",
       "    <tr>\n",
       "      <th>75%</th>\n",
       "      <td>8827.301778</td>\n",
       "      <td>18.000000</td>\n",
       "      <td>8801.451069</td>\n",
       "      <td>2931.754617</td>\n",
       "      <td>13.957963</td>\n",
       "      <td>3346.095454</td>\n",
       "      <td>278.806310</td>\n",
       "      <td>95.193008</td>\n",
       "      <td>51.000000</td>\n",
       "      <td>9.261584</td>\n",
       "      <td>1.000000</td>\n",
       "    </tr>\n",
       "    <tr>\n",
       "      <th>max</th>\n",
       "      <td>201500.000000</td>\n",
       "      <td>146.000000</td>\n",
       "      <td>200965.000000</td>\n",
       "      <td>66988.000000</td>\n",
       "      <td>91.000000</td>\n",
       "      <td>977796.000000</td>\n",
       "      <td>26786.000000</td>\n",
       "      <td>6345.000000</td>\n",
       "      <td>62.000000</td>\n",
       "      <td>390.000000</td>\n",
       "      <td>1.000000</td>\n",
       "    </tr>\n",
       "  </tbody>\n",
       "</table>\n",
       "</div>"
      ],
      "text/plain": [
       "             MONTANT  FREQUENCE_RECH        REVENUE   ARPU_SEGMENT  \\\n",
       "count  380127.000000   380127.000000  380127.000000  380127.000000   \n",
       "mean     6151.200854       12.503028    6120.074636    2035.877015   \n",
       "std      6587.030222       12.324588    6678.835910    2224.999947   \n",
       "min         0.050741        0.000048       0.030244       0.000000   \n",
       "25%      1500.000000        3.000000    1448.000000     481.946933   \n",
       "50%      4194.606882        8.970974    4087.633128    1353.870707   \n",
       "75%      8827.301778       18.000000    8801.451069    2931.754617   \n",
       "max    201500.000000      146.000000  200965.000000   66988.000000   \n",
       "\n",
       "           FREQUENCE    DATA_VOLUME         ON_NET         ORANGE  \\\n",
       "count  380127.000000  380127.000000  380127.000000  380127.000000   \n",
       "mean       13.957963    3346.095454     278.806310      95.193008   \n",
       "std        11.948155    8554.386283     697.000448     156.175430   \n",
       "min         1.000000       0.000000       0.000000       0.000000   \n",
       "25%         6.000000     232.000000      12.000000      20.000000   \n",
       "50%        13.957963    3346.095454     212.000000      95.193008   \n",
       "75%        13.957963    3346.095454     278.806310      95.193008   \n",
       "max        91.000000  977796.000000   26786.000000    6345.000000   \n",
       "\n",
       "          REGULARITY  FREQ_TOP_PACK  TOP_PACK_Imputed  \n",
       "count  380127.000000  380127.000000     380127.000000  \n",
       "mean       28.081699       9.261584          0.417700  \n",
       "std        22.289094       9.362221          0.493181  \n",
       "min         1.000000       1.000000          0.000000  \n",
       "25%         6.000000       4.000000          0.000000  \n",
       "50%        24.000000       9.261584          0.000000  \n",
       "75%        51.000000       9.261584          1.000000  \n",
       "max        62.000000     390.000000          1.000000  "
      ]
     },
     "execution_count": 129,
     "metadata": {},
     "output_type": "execute_result"
    }
   ],
   "source": [
    "test.describe()"
   ]
  },
  {
   "cell_type": "code",
   "execution_count": null,
   "id": "4b705ddd",
   "metadata": {
    "id": "4b705ddd",
    "outputId": "0f19522f-7b6a-452a-c40f-718e2f6622e3"
   },
   "outputs": [
    {
     "data": {
      "text/plain": [
       "user_id             0\n",
       "TENURE              0\n",
       "MONTANT             0\n",
       "FREQUENCE_RECH      0\n",
       "REVENUE             0\n",
       "ARPU_SEGMENT        0\n",
       "FREQUENCE           0\n",
       "DATA_VOLUME         0\n",
       "ON_NET              0\n",
       "ORANGE              0\n",
       "MRG                 0\n",
       "REGULARITY          0\n",
       "TOP_PACK            0\n",
       "FREQ_TOP_PACK       0\n",
       "TOP_PACK_Imputed    0\n",
       "dtype: int64"
      ]
     },
     "execution_count": 130,
     "metadata": {},
     "output_type": "execute_result"
    }
   ],
   "source": [
    "test.isnull().sum()"
   ]
  },
  {
   "cell_type": "code",
   "execution_count": null,
   "id": "87385bf0",
   "metadata": {
    "id": "87385bf0",
    "outputId": "7f76bede-10be-490f-f046-d5b9454bee80"
   },
   "outputs": [
    {
     "name": "stdout",
     "output_type": "stream",
     "text": [
      "TENURE \n",
      "\n",
      "K > 24 month     360350\n",
      "I 18-21 month      8153\n",
      "H 15-18 month      4640\n",
      "G 12-15 month      2676\n",
      "J 21-24 month      2215\n",
      "F 9-12 month       1654\n",
      "E 6-9 month         298\n",
      "D 3-6 month         141\n",
      "Name: TENURE, dtype: int64\n",
      "\n",
      "TOP_PACK \n",
      "\n",
      "All-net 500F=2000F;5d             214817\n",
      "On net 200F=Unlimited _call24H     27187\n",
      "Data:490F=1GB,7d                   20257\n",
      "Data: 100 F=40MB,24H               15053\n",
      "Mixt 250F=Unlimited_call24H        11960\n",
      "                                   ...  \n",
      "EVC_Jokko_Weekly                       1\n",
      "EVC_1000=6000 F                        1\n",
      "EVC_JOKKO30                            1\n",
      "EVC_PACK_2.2Go                         1\n",
      "WIFI_ Family _10MBPS                   1\n",
      "Name: TOP_PACK, Length: 102, dtype: int64\n",
      "\n"
     ]
    }
   ],
   "source": [
    "categorical = ['TENURE', 'TOP_PACK']\n",
    "\n",
    "for i in categorical:\n",
    "    print(i, '\\n')\n",
    "    print(test[i].value_counts())\n",
    "    print('')"
   ]
  },
  {
   "cell_type": "code",
   "execution_count": null,
   "id": "c4222a7c",
   "metadata": {
    "id": "c4222a7c"
   },
   "outputs": [],
   "source": [
    "all_net = test[test.TOP_PACK.map(lambda x: x.lower().startswith('all'))]\n",
    "on_net = test[test.TOP_PACK.map(lambda x: x.lower().startswith('on'))]\n",
    "data = test[test.TOP_PACK.map(lambda x: x.lower().startswith('data'))]\n",
    "mixt = test[test.TOP_PACK.map(lambda x: x.lower().startswith('mixt'))]"
   ]
  },
  {
   "cell_type": "code",
   "execution_count": null,
   "id": "38c83e1e",
   "metadata": {
    "id": "38c83e1e",
    "outputId": "73c8817d-ed93-4e4d-9449-06d47ed1a548"
   },
   "outputs": [
    {
     "name": "stdout",
     "output_type": "stream",
     "text": [
      "['All-net 500F=2000F;5d' 'All-net 500F =2000F_AllNet_Unlimited'\n",
      " 'All-net 1000F=(3000F On+3000F Off);5d' 'All-net 600F= 3000F ;5d'\n",
      " 'All-net 1000=5000;5d' 'All-net 500F=1250F_AllNet_1250_Onnet;48h'\n",
      " 'All-net 300=600;2d' 'All-net 5000= 20000off+20000on;30d'\n",
      " 'All-net 500F=4000F ; 5d']\n",
      "['On-net 1000F=10MilF;10d' 'On net 200F=Unlimited _call24H'\n",
      " 'On-net 500=4000,10d' 'On-net 200F=60mn;1d' 'On-net 300F=1800F;3d'\n",
      " 'On-net 500F_FNF;3d' 'On net 200F= 3000F_10Mo ;24H'\n",
      " 'On-net 2000f_One_Month_100H; 30d']\n",
      "['Data: 100 F=40MB,24H' 'Data:490F=1GB,7d' 'Data: 200 F=100MB,24H'\n",
      " 'Data:1000F=2GB,30d' 'Data:3000F=10GB,30d' 'Data:200F=Unlimited,24H'\n",
      " 'Data:1000F=5GB,7d' 'Data:300F=100MB,2d' 'Data:DailyCycle_Pilot_1.5GB'\n",
      " 'Data:500F=2GB,24H' 'Data:1500F=3GB,30D' 'Data:700F=1.5GB,7d'\n",
      " 'Data:50F=30MB_24H' 'Data:150F=SPPackage1,24H' 'DataPack_Incoming'\n",
      " 'Data:30Go_V 30_Days' 'Data:700F=SPPackage1,7d'\n",
      " 'Data:1500F=SPPackage1,30d' 'Data: 490F=Night,00H-08H'\n",
      " 'Data: 200F=1GB,24H' 'Data_EVC_2Go24H']\n",
      "['MIXT:500F= 2500F on net _2500F off net;2d' 'Mixt 250F=Unlimited_call24H'\n",
      " 'MIXT: 200mnoff net _unl on net _5Go;30d'\n",
      " 'MIXT: 390F=04HOn-net_400SMS_400 Mo;4h\\t'\n",
      " 'MIXT: 590F=02H_On-net_200SMS_200 Mo;24h\\t\\t'\n",
      " 'MIXT:1000F=4250 Off net _ 4250F On net _100Mo; 5d'\n",
      " 'Mixt : 500F=2500Fonnet_2500Foffnet ;5d'\n",
      " 'MIXT: 5000F=80Konnet_20Koffnet_250Mo;30d\\t\\t'\n",
      " 'MIXT:10000F=10hAllnet_3Go_1h_Zone3;30d\\t\\t'\n",
      " 'MIXT: 4900F= 10H on net_1,5Go ;30d'\n",
      " 'MIXT: 500F=75(SMS, ONNET, Mo)_1000FAllNet;24h\\t\\t']\n"
     ]
    }
   ],
   "source": [
    "print(all_net.TOP_PACK.unique())\n",
    "print(on_net.TOP_PACK.unique())\n",
    "print(data.TOP_PACK.unique())\n",
    "print(mixt.TOP_PACK.unique())"
   ]
  },
  {
   "cell_type": "code",
   "execution_count": null,
   "id": "c190902c",
   "metadata": {
    "id": "c190902c",
    "outputId": "f1c97133-940c-4892-ce99-6a778ded9524"
   },
   "outputs": [
    {
     "data": {
      "text/html": [
       "<div>\n",
       "<style scoped>\n",
       "    .dataframe tbody tr th:only-of-type {\n",
       "        vertical-align: middle;\n",
       "    }\n",
       "\n",
       "    .dataframe tbody tr th {\n",
       "        vertical-align: top;\n",
       "    }\n",
       "\n",
       "    .dataframe thead th {\n",
       "        text-align: right;\n",
       "    }\n",
       "</style>\n",
       "<table border=\"1\" class=\"dataframe\">\n",
       "  <thead>\n",
       "    <tr style=\"text-align: right;\">\n",
       "      <th></th>\n",
       "      <th>user_id</th>\n",
       "      <th>TENURE</th>\n",
       "      <th>MONTANT</th>\n",
       "      <th>FREQUENCE_RECH</th>\n",
       "      <th>REVENUE</th>\n",
       "      <th>ARPU_SEGMENT</th>\n",
       "      <th>FREQUENCE</th>\n",
       "      <th>DATA_VOLUME</th>\n",
       "      <th>ON_NET</th>\n",
       "      <th>ORANGE</th>\n",
       "      <th>MRG</th>\n",
       "      <th>REGULARITY</th>\n",
       "      <th>TOP_PACK</th>\n",
       "      <th>FREQ_TOP_PACK</th>\n",
       "      <th>TOP_PACK_Imputed</th>\n",
       "    </tr>\n",
       "  </thead>\n",
       "  <tbody>\n",
       "    <tr>\n",
       "      <th>0</th>\n",
       "      <td>00001dbe00e56fc4b1c1b65dda63de2a5ece55f9</td>\n",
       "      <td>K &gt; 24 month</td>\n",
       "      <td>5000.000000</td>\n",
       "      <td>5.000000</td>\n",
       "      <td>5000.000000</td>\n",
       "      <td>1667.000000</td>\n",
       "      <td>5.000000</td>\n",
       "      <td>3346.095454</td>\n",
       "      <td>378.00000</td>\n",
       "      <td>11.000000</td>\n",
       "      <td>NO</td>\n",
       "      <td>42</td>\n",
       "      <td>on_net</td>\n",
       "      <td>5.000000</td>\n",
       "      <td>0</td>\n",
       "    </tr>\n",
       "    <tr>\n",
       "      <th>1</th>\n",
       "      <td>000055d41c8a62052dd426592e8a4a3342bf565d</td>\n",
       "      <td>I 18-21 month</td>\n",
       "      <td>300.000000</td>\n",
       "      <td>2.000000</td>\n",
       "      <td>326.000000</td>\n",
       "      <td>109.000000</td>\n",
       "      <td>3.000000</td>\n",
       "      <td>397.000000</td>\n",
       "      <td>278.80631</td>\n",
       "      <td>0.000000</td>\n",
       "      <td>NO</td>\n",
       "      <td>41</td>\n",
       "      <td>data</td>\n",
       "      <td>1.000000</td>\n",
       "      <td>0</td>\n",
       "    </tr>\n",
       "    <tr>\n",
       "      <th>2</th>\n",
       "      <td>000081dd3245e6869a4a9c574c7050e7bb84c2c8</td>\n",
       "      <td>K &gt; 24 month</td>\n",
       "      <td>3300.000000</td>\n",
       "      <td>25.000000</td>\n",
       "      <td>3400.000000</td>\n",
       "      <td>1133.000000</td>\n",
       "      <td>26.000000</td>\n",
       "      <td>7150.000000</td>\n",
       "      <td>0.00000</td>\n",
       "      <td>2.000000</td>\n",
       "      <td>NO</td>\n",
       "      <td>57</td>\n",
       "      <td>data</td>\n",
       "      <td>22.000000</td>\n",
       "      <td>0</td>\n",
       "    </tr>\n",
       "    <tr>\n",
       "      <th>3</th>\n",
       "      <td>0000b76d2145d9445d9ff6b65c9ebc4196c89337</td>\n",
       "      <td>K &gt; 24 month</td>\n",
       "      <td>5906.790947</td>\n",
       "      <td>13.733785</td>\n",
       "      <td>1544.108004</td>\n",
       "      <td>2195.903244</td>\n",
       "      <td>13.957963</td>\n",
       "      <td>3346.095454</td>\n",
       "      <td>278.80631</td>\n",
       "      <td>95.193008</td>\n",
       "      <td>NO</td>\n",
       "      <td>9</td>\n",
       "      <td>all_net</td>\n",
       "      <td>9.261584</td>\n",
       "      <td>1</td>\n",
       "    </tr>\n",
       "    <tr>\n",
       "      <th>4</th>\n",
       "      <td>0000bae5480628cf8fe51ad84bcb39772fc79224</td>\n",
       "      <td>K &gt; 24 month</td>\n",
       "      <td>4676.694097</td>\n",
       "      <td>40.572803</td>\n",
       "      <td>6074.013862</td>\n",
       "      <td>1941.223364</td>\n",
       "      <td>13.957963</td>\n",
       "      <td>3346.095454</td>\n",
       "      <td>278.80631</td>\n",
       "      <td>95.193008</td>\n",
       "      <td>NO</td>\n",
       "      <td>10</td>\n",
       "      <td>all_net</td>\n",
       "      <td>9.261584</td>\n",
       "      <td>1</td>\n",
       "    </tr>\n",
       "  </tbody>\n",
       "</table>\n",
       "</div>"
      ],
      "text/plain": [
       "                                    user_id         TENURE      MONTANT  \\\n",
       "0  00001dbe00e56fc4b1c1b65dda63de2a5ece55f9   K > 24 month  5000.000000   \n",
       "1  000055d41c8a62052dd426592e8a4a3342bf565d  I 18-21 month   300.000000   \n",
       "2  000081dd3245e6869a4a9c574c7050e7bb84c2c8   K > 24 month  3300.000000   \n",
       "3  0000b76d2145d9445d9ff6b65c9ebc4196c89337   K > 24 month  5906.790947   \n",
       "4  0000bae5480628cf8fe51ad84bcb39772fc79224   K > 24 month  4676.694097   \n",
       "\n",
       "   FREQUENCE_RECH      REVENUE  ARPU_SEGMENT  FREQUENCE  DATA_VOLUME  \\\n",
       "0        5.000000  5000.000000   1667.000000   5.000000  3346.095454   \n",
       "1        2.000000   326.000000    109.000000   3.000000   397.000000   \n",
       "2       25.000000  3400.000000   1133.000000  26.000000  7150.000000   \n",
       "3       13.733785  1544.108004   2195.903244  13.957963  3346.095454   \n",
       "4       40.572803  6074.013862   1941.223364  13.957963  3346.095454   \n",
       "\n",
       "      ON_NET     ORANGE MRG  REGULARITY TOP_PACK  FREQ_TOP_PACK  \\\n",
       "0  378.00000  11.000000  NO          42   on_net       5.000000   \n",
       "1  278.80631   0.000000  NO          41     data       1.000000   \n",
       "2    0.00000   2.000000  NO          57     data      22.000000   \n",
       "3  278.80631  95.193008  NO           9  all_net       9.261584   \n",
       "4  278.80631  95.193008  NO          10  all_net       9.261584   \n",
       "\n",
       "   TOP_PACK_Imputed  \n",
       "0                 0  \n",
       "1                 0  \n",
       "2                 0  \n",
       "3                 1  \n",
       "4                 1  "
      ]
     },
     "execution_count": 134,
     "metadata": {},
     "output_type": "execute_result"
    }
   ],
   "source": [
    "test = test.replace(to_replace=all_net.TOP_PACK.unique(), value='all_net')\n",
    "test = test.replace(to_replace=on_net.TOP_PACK.unique(), value='on_net')\n",
    "test = test.replace(to_replace=data.TOP_PACK.unique(), value='data')\n",
    "test = test.replace(to_replace=mixt.TOP_PACK.unique(), value='mixt')\n",
    "\n",
    "test.head()"
   ]
  },
  {
   "cell_type": "code",
   "execution_count": null,
   "id": "9928db1d",
   "metadata": {
    "id": "9928db1d",
    "outputId": "77d8a8a4-4136-4282-ccb4-41e037dcbcda"
   },
   "outputs": [
    {
     "data": {
      "text/plain": [
       "Index(['all_net', 'data', 'on_net', 'mixt', 'Jokko_Daily',\n",
       "       'IVR Echat_Daily_50F', 'VAS(IVR_Radio_Daily)', 'Twter_U2opia_Daily',\n",
       "       'Twter_U2opia_Weekly', '200=Unlimited1Day', 'Jokko_promo',\n",
       "       'Facebook_MIX_2D', 'Jokko_Monthly', 'Pilot_Youth4_490',\n",
       "       'CVM_on-net bundle 500=5000', 'MROMO_TIMWES_OneDAY',\n",
       "       'MROMO_TIMWES_RENEW', 'WIFI_Family_2MBPS', 'New_YAKALMA_4_ALL',\n",
       "       'Yewouleen_PKG', 'YMGX 100=1 hour FNF, 24H/1 month',\n",
       "       'Twter_U2opia_Monthly', 'Internat: 1000F_Zone_1;24H\\t\\t',\n",
       "       'Pilot_Youth1_290', 'SUPERMAGIK_5000', 'SUPERMAGIK_1000',\n",
       "       'FNF2 ( JAPPANTE)', 'Jokko_Weekly', 'WIFI_ Family _4MBPS',\n",
       "       'EVC_500=2000F', '500=Unlimited3Day', 'IVR Echat_Weekly_200F',\n",
       "       'FIFA_TS_daily', 'Staff_CPE_Rent', 'VAS(IVR_Radio_Monthly)',\n",
       "       '200F=10mnOnNetValid1H', 'TelmunCRBT_daily', 'EVC_100Mo',\n",
       "       'Incoming_Bonus_woma', 'CVM_200f=400MB',\n",
       "       'Internat: 1000F_Zone_3;24h\\t\\t', 'Internat: 2000F_Zone_2;24H\\t\\t',\n",
       "       '1000=Unlimited7Day', 'VAS(IVR_Radio_Weekly)', 'pack_chinguitel_24h',\n",
       "       'FNF_Youth_ESN', 'IVR Echat_Monthly_500F', '305155009',\n",
       "       'NEW_CLIR_PERMANENT_LIBERTE_MOBILE', '301765007', 'pilot_offer6',\n",
       "       'Postpaid FORFAIT 10H Package', 'EVC_Jokko_Weekly', 'EVC_1000=6000 F',\n",
       "       'EVC_JOKKO30', 'EVC_PACK_2.2Go', 'WIFI_ Family _10MBPS'],\n",
       "      dtype='object')"
      ]
     },
     "execution_count": 137,
     "metadata": {},
     "output_type": "execute_result"
    }
   ],
   "source": [
    "test.TOP_PACK.value_counts().index"
   ]
  },
  {
   "cell_type": "code",
   "execution_count": null,
   "id": "4f2857ec",
   "metadata": {
    "id": "4f2857ec"
   },
   "outputs": [],
   "source": [
    "test = test.replace(to_replace=test.TOP_PACK.value_counts().index[4:], value='others')"
   ]
  },
  {
   "cell_type": "code",
   "execution_count": null,
   "id": "26a73118",
   "metadata": {
    "id": "26a73118",
    "outputId": "6fdea18a-bbb4-4ac3-b2a1-4d5f7f5e4357"
   },
   "outputs": [
    {
     "data": {
      "text/plain": [
       "all_net    227143\n",
       "data        63812\n",
       "on_net      40699\n",
       "mixt        27919\n",
       "others      20554\n",
       "Name: TOP_PACK, dtype: int64"
      ]
     },
     "execution_count": 140,
     "metadata": {},
     "output_type": "execute_result"
    }
   ],
   "source": [
    "test.TOP_PACK.value_counts()"
   ]
  },
  {
   "cell_type": "code",
   "execution_count": null,
   "id": "3b27333f",
   "metadata": {
    "id": "3b27333f"
   },
   "outputs": [],
   "source": [
    "test['income_group'] = pd.cut(test.REVENUE,\n",
    "                            bins=test.REVENUE.quantile([0.0, 0.3, 0.7, 1.0]),\n",
    "                            labels=['low', 'midlle', 'high'])"
   ]
  },
  {
   "cell_type": "code",
   "execution_count": null,
   "id": "76f3cc2c",
   "metadata": {
    "id": "76f3cc2c",
    "outputId": "bfde0c66-3f3c-4df8-a631-54c6a33a1dad"
   },
   "outputs": [
    {
     "data": {
      "text/plain": [
       "midlle    152051\n",
       "high      114038\n",
       "low       114037\n",
       "Name: income_group, dtype: int64"
      ]
     },
     "execution_count": 142,
     "metadata": {},
     "output_type": "execute_result"
    }
   ],
   "source": [
    "test.income_group.value_counts()"
   ]
  },
  {
   "cell_type": "code",
   "execution_count": null,
   "id": "de81d9cb",
   "metadata": {
    "id": "de81d9cb"
   },
   "outputs": [],
   "source": [
    "test['avg_calls'] = (test.ON_NET + test.ORANGE) / 2"
   ]
  },
  {
   "cell_type": "code",
   "execution_count": null,
   "id": "36cd3623",
   "metadata": {
    "id": "36cd3623",
    "outputId": "61e6c2db-a641-4b42-b5d3-2fa12b7c054f"
   },
   "outputs": [
    {
     "data": {
      "text/html": [
       "<div>\n",
       "<style scoped>\n",
       "    .dataframe tbody tr th:only-of-type {\n",
       "        vertical-align: middle;\n",
       "    }\n",
       "\n",
       "    .dataframe tbody tr th {\n",
       "        vertical-align: top;\n",
       "    }\n",
       "\n",
       "    .dataframe thead th {\n",
       "        text-align: right;\n",
       "    }\n",
       "</style>\n",
       "<table border=\"1\" class=\"dataframe\">\n",
       "  <thead>\n",
       "    <tr style=\"text-align: right;\">\n",
       "      <th></th>\n",
       "      <th>user_id</th>\n",
       "      <th>TENURE</th>\n",
       "      <th>MONTANT</th>\n",
       "      <th>FREQUENCE_RECH</th>\n",
       "      <th>REVENUE</th>\n",
       "      <th>ARPU_SEGMENT</th>\n",
       "      <th>FREQUENCE</th>\n",
       "      <th>DATA_VOLUME</th>\n",
       "      <th>ON_NET</th>\n",
       "      <th>ORANGE</th>\n",
       "      <th>MRG</th>\n",
       "      <th>REGULARITY</th>\n",
       "      <th>TOP_PACK</th>\n",
       "      <th>FREQ_TOP_PACK</th>\n",
       "      <th>TOP_PACK_Imputed</th>\n",
       "      <th>income_group</th>\n",
       "      <th>avg_calls</th>\n",
       "    </tr>\n",
       "  </thead>\n",
       "  <tbody>\n",
       "    <tr>\n",
       "      <th>0</th>\n",
       "      <td>00001dbe00e56fc4b1c1b65dda63de2a5ece55f9</td>\n",
       "      <td>K &gt; 24 month</td>\n",
       "      <td>5000.000000</td>\n",
       "      <td>5.000000</td>\n",
       "      <td>5000.000000</td>\n",
       "      <td>1667.000000</td>\n",
       "      <td>5.000000</td>\n",
       "      <td>3346.095454</td>\n",
       "      <td>378.00000</td>\n",
       "      <td>11.000000</td>\n",
       "      <td>NO</td>\n",
       "      <td>42</td>\n",
       "      <td>on_net</td>\n",
       "      <td>5.000000</td>\n",
       "      <td>0</td>\n",
       "      <td>midlle</td>\n",
       "      <td>194.500000</td>\n",
       "    </tr>\n",
       "    <tr>\n",
       "      <th>1</th>\n",
       "      <td>000055d41c8a62052dd426592e8a4a3342bf565d</td>\n",
       "      <td>I 18-21 month</td>\n",
       "      <td>300.000000</td>\n",
       "      <td>2.000000</td>\n",
       "      <td>326.000000</td>\n",
       "      <td>109.000000</td>\n",
       "      <td>3.000000</td>\n",
       "      <td>397.000000</td>\n",
       "      <td>278.80631</td>\n",
       "      <td>0.000000</td>\n",
       "      <td>NO</td>\n",
       "      <td>41</td>\n",
       "      <td>data</td>\n",
       "      <td>1.000000</td>\n",
       "      <td>0</td>\n",
       "      <td>low</td>\n",
       "      <td>139.403155</td>\n",
       "    </tr>\n",
       "    <tr>\n",
       "      <th>2</th>\n",
       "      <td>000081dd3245e6869a4a9c574c7050e7bb84c2c8</td>\n",
       "      <td>K &gt; 24 month</td>\n",
       "      <td>3300.000000</td>\n",
       "      <td>25.000000</td>\n",
       "      <td>3400.000000</td>\n",
       "      <td>1133.000000</td>\n",
       "      <td>26.000000</td>\n",
       "      <td>7150.000000</td>\n",
       "      <td>0.00000</td>\n",
       "      <td>2.000000</td>\n",
       "      <td>NO</td>\n",
       "      <td>57</td>\n",
       "      <td>data</td>\n",
       "      <td>22.000000</td>\n",
       "      <td>0</td>\n",
       "      <td>midlle</td>\n",
       "      <td>1.000000</td>\n",
       "    </tr>\n",
       "    <tr>\n",
       "      <th>3</th>\n",
       "      <td>0000b76d2145d9445d9ff6b65c9ebc4196c89337</td>\n",
       "      <td>K &gt; 24 month</td>\n",
       "      <td>5906.790947</td>\n",
       "      <td>13.733785</td>\n",
       "      <td>1544.108004</td>\n",
       "      <td>2195.903244</td>\n",
       "      <td>13.957963</td>\n",
       "      <td>3346.095454</td>\n",
       "      <td>278.80631</td>\n",
       "      <td>95.193008</td>\n",
       "      <td>NO</td>\n",
       "      <td>9</td>\n",
       "      <td>all_net</td>\n",
       "      <td>9.261584</td>\n",
       "      <td>1</td>\n",
       "      <td>low</td>\n",
       "      <td>186.999659</td>\n",
       "    </tr>\n",
       "    <tr>\n",
       "      <th>4</th>\n",
       "      <td>0000bae5480628cf8fe51ad84bcb39772fc79224</td>\n",
       "      <td>K &gt; 24 month</td>\n",
       "      <td>4676.694097</td>\n",
       "      <td>40.572803</td>\n",
       "      <td>6074.013862</td>\n",
       "      <td>1941.223364</td>\n",
       "      <td>13.957963</td>\n",
       "      <td>3346.095454</td>\n",
       "      <td>278.80631</td>\n",
       "      <td>95.193008</td>\n",
       "      <td>NO</td>\n",
       "      <td>10</td>\n",
       "      <td>all_net</td>\n",
       "      <td>9.261584</td>\n",
       "      <td>1</td>\n",
       "      <td>midlle</td>\n",
       "      <td>186.999659</td>\n",
       "    </tr>\n",
       "  </tbody>\n",
       "</table>\n",
       "</div>"
      ],
      "text/plain": [
       "                                    user_id         TENURE      MONTANT  \\\n",
       "0  00001dbe00e56fc4b1c1b65dda63de2a5ece55f9   K > 24 month  5000.000000   \n",
       "1  000055d41c8a62052dd426592e8a4a3342bf565d  I 18-21 month   300.000000   \n",
       "2  000081dd3245e6869a4a9c574c7050e7bb84c2c8   K > 24 month  3300.000000   \n",
       "3  0000b76d2145d9445d9ff6b65c9ebc4196c89337   K > 24 month  5906.790947   \n",
       "4  0000bae5480628cf8fe51ad84bcb39772fc79224   K > 24 month  4676.694097   \n",
       "\n",
       "   FREQUENCE_RECH      REVENUE  ARPU_SEGMENT  FREQUENCE  DATA_VOLUME  \\\n",
       "0        5.000000  5000.000000   1667.000000   5.000000  3346.095454   \n",
       "1        2.000000   326.000000    109.000000   3.000000   397.000000   \n",
       "2       25.000000  3400.000000   1133.000000  26.000000  7150.000000   \n",
       "3       13.733785  1544.108004   2195.903244  13.957963  3346.095454   \n",
       "4       40.572803  6074.013862   1941.223364  13.957963  3346.095454   \n",
       "\n",
       "      ON_NET     ORANGE MRG  REGULARITY TOP_PACK  FREQ_TOP_PACK  \\\n",
       "0  378.00000  11.000000  NO          42   on_net       5.000000   \n",
       "1  278.80631   0.000000  NO          41     data       1.000000   \n",
       "2    0.00000   2.000000  NO          57     data      22.000000   \n",
       "3  278.80631  95.193008  NO           9  all_net       9.261584   \n",
       "4  278.80631  95.193008  NO          10  all_net       9.261584   \n",
       "\n",
       "   TOP_PACK_Imputed income_group   avg_calls  \n",
       "0                 0       midlle  194.500000  \n",
       "1                 0          low  139.403155  \n",
       "2                 0       midlle    1.000000  \n",
       "3                 1          low  186.999659  \n",
       "4                 1       midlle  186.999659  "
      ]
     },
     "execution_count": 144,
     "metadata": {},
     "output_type": "execute_result"
    }
   ],
   "source": [
    "test.head()"
   ]
  },
  {
   "cell_type": "code",
   "execution_count": null,
   "id": "dc674300",
   "metadata": {
    "id": "dc674300"
   },
   "outputs": [],
   "source": [
    "test1 = pd.get_dummies(test, columns=['TENURE', 'MRG', 'TOP_PACK', 'income_group'])"
   ]
  },
  {
   "cell_type": "code",
   "execution_count": null,
   "id": "91c911b8",
   "metadata": {
    "id": "91c911b8",
    "outputId": "57248284-e13e-4e06-d2ae-1d731f69bc5a"
   },
   "outputs": [
    {
     "data": {
      "text/plain": [
       "Index(['user_id', 'MONTANT', 'FREQUENCE_RECH', 'REVENUE', 'ARPU_SEGMENT',\n",
       "       'FREQUENCE', 'DATA_VOLUME', 'ON_NET', 'ORANGE', 'REGULARITY',\n",
       "       'FREQ_TOP_PACK', 'TOP_PACK_Imputed', 'avg_calls', 'TENURE_D 3-6 month',\n",
       "       'TENURE_E 6-9 month', 'TENURE_F 9-12 month', 'TENURE_G 12-15 month',\n",
       "       'TENURE_H 15-18 month', 'TENURE_I 18-21 month', 'TENURE_J 21-24 month',\n",
       "       'TENURE_K > 24 month', 'MRG_NO', 'TOP_PACK_all_net', 'TOP_PACK_data',\n",
       "       'TOP_PACK_mixt', 'TOP_PACK_on_net', 'TOP_PACK_others',\n",
       "       'income_group_low', 'income_group_midlle', 'income_group_high'],\n",
       "      dtype='object')"
      ]
     },
     "execution_count": 146,
     "metadata": {},
     "output_type": "execute_result"
    }
   ],
   "source": [
    "test1.columns"
   ]
  },
  {
   "cell_type": "code",
   "execution_count": null,
   "id": "5fa909df",
   "metadata": {
    "id": "5fa909df"
   },
   "outputs": [],
   "source": [
    "scaler = StandardScaler()\n",
    "scaler.fit(test1[numerical_columns])\n",
    "test1[numerical_columns] = scaler.transform(test1[numerical_columns])"
   ]
  },
  {
   "cell_type": "code",
   "execution_count": null,
   "id": "c7437d38",
   "metadata": {
    "id": "c7437d38",
    "outputId": "745dca75-8d41-4e68-9ae8-5160bbd89652"
   },
   "outputs": [
    {
     "data": {
      "text/html": [
       "<div>\n",
       "<style scoped>\n",
       "    .dataframe tbody tr th:only-of-type {\n",
       "        vertical-align: middle;\n",
       "    }\n",
       "\n",
       "    .dataframe tbody tr th {\n",
       "        vertical-align: top;\n",
       "    }\n",
       "\n",
       "    .dataframe thead th {\n",
       "        text-align: right;\n",
       "    }\n",
       "</style>\n",
       "<table border=\"1\" class=\"dataframe\">\n",
       "  <thead>\n",
       "    <tr style=\"text-align: right;\">\n",
       "      <th></th>\n",
       "      <th>user_id</th>\n",
       "      <th>MONTANT</th>\n",
       "      <th>FREQUENCE_RECH</th>\n",
       "      <th>REVENUE</th>\n",
       "      <th>ARPU_SEGMENT</th>\n",
       "      <th>FREQUENCE</th>\n",
       "      <th>DATA_VOLUME</th>\n",
       "      <th>ON_NET</th>\n",
       "      <th>ORANGE</th>\n",
       "      <th>REGULARITY</th>\n",
       "      <th>...</th>\n",
       "      <th>TENURE_K &gt; 24 month</th>\n",
       "      <th>MRG_NO</th>\n",
       "      <th>TOP_PACK_all_net</th>\n",
       "      <th>TOP_PACK_data</th>\n",
       "      <th>TOP_PACK_mixt</th>\n",
       "      <th>TOP_PACK_on_net</th>\n",
       "      <th>TOP_PACK_others</th>\n",
       "      <th>income_group_low</th>\n",
       "      <th>income_group_midlle</th>\n",
       "      <th>income_group_high</th>\n",
       "    </tr>\n",
       "  </thead>\n",
       "  <tbody>\n",
       "    <tr>\n",
       "      <th>0</th>\n",
       "      <td>00001dbe00e56fc4b1c1b65dda63de2a5ece55f9</td>\n",
       "      <td>-0.174768</td>\n",
       "      <td>-0.608786</td>\n",
       "      <td>-0.167705</td>\n",
       "      <td>-0.165788</td>\n",
       "      <td>-0.749737</td>\n",
       "      <td>0.000000</td>\n",
       "      <td>0.142315</td>\n",
       "      <td>-0.539093</td>\n",
       "      <td>0.624445</td>\n",
       "      <td>...</td>\n",
       "      <td>1</td>\n",
       "      <td>1</td>\n",
       "      <td>0</td>\n",
       "      <td>0</td>\n",
       "      <td>0</td>\n",
       "      <td>1</td>\n",
       "      <td>0</td>\n",
       "      <td>0</td>\n",
       "      <td>1</td>\n",
       "      <td>0</td>\n",
       "    </tr>\n",
       "    <tr>\n",
       "      <th>1</th>\n",
       "      <td>000055d41c8a62052dd426592e8a4a3342bf565d</td>\n",
       "      <td>-0.888292</td>\n",
       "      <td>-0.852202</td>\n",
       "      <td>-0.867529</td>\n",
       "      <td>-0.866013</td>\n",
       "      <td>-0.917127</td>\n",
       "      <td>-0.344747</td>\n",
       "      <td>0.000000</td>\n",
       "      <td>-0.609527</td>\n",
       "      <td>0.579580</td>\n",
       "      <td>...</td>\n",
       "      <td>0</td>\n",
       "      <td>1</td>\n",
       "      <td>0</td>\n",
       "      <td>1</td>\n",
       "      <td>0</td>\n",
       "      <td>0</td>\n",
       "      <td>0</td>\n",
       "      <td>1</td>\n",
       "      <td>0</td>\n",
       "      <td>0</td>\n",
       "    </tr>\n",
       "    <tr>\n",
       "      <th>2</th>\n",
       "      <td>000081dd3245e6869a4a9c574c7050e7bb84c2c8</td>\n",
       "      <td>-0.432851</td>\n",
       "      <td>1.013988</td>\n",
       "      <td>-0.407268</td>\n",
       "      <td>-0.405788</td>\n",
       "      <td>1.007859</td>\n",
       "      <td>0.444674</td>\n",
       "      <td>-0.400009</td>\n",
       "      <td>-0.596721</td>\n",
       "      <td>1.297421</td>\n",
       "      <td>...</td>\n",
       "      <td>1</td>\n",
       "      <td>1</td>\n",
       "      <td>0</td>\n",
       "      <td>1</td>\n",
       "      <td>0</td>\n",
       "      <td>0</td>\n",
       "      <td>0</td>\n",
       "      <td>0</td>\n",
       "      <td>1</td>\n",
       "      <td>0</td>\n",
       "    </tr>\n",
       "    <tr>\n",
       "      <th>3</th>\n",
       "      <td>0000b76d2145d9445d9ff6b65c9ebc4196c89337</td>\n",
       "      <td>-0.037105</td>\n",
       "      <td>0.099862</td>\n",
       "      <td>-0.685145</td>\n",
       "      <td>0.071922</td>\n",
       "      <td>0.000000</td>\n",
       "      <td>0.000000</td>\n",
       "      <td>0.000000</td>\n",
       "      <td>0.000000</td>\n",
       "      <td>-0.856101</td>\n",
       "      <td>...</td>\n",
       "      <td>1</td>\n",
       "      <td>1</td>\n",
       "      <td>1</td>\n",
       "      <td>0</td>\n",
       "      <td>0</td>\n",
       "      <td>0</td>\n",
       "      <td>0</td>\n",
       "      <td>1</td>\n",
       "      <td>0</td>\n",
       "      <td>0</td>\n",
       "    </tr>\n",
       "    <tr>\n",
       "      <th>4</th>\n",
       "      <td>0000bae5480628cf8fe51ad84bcb39772fc79224</td>\n",
       "      <td>-0.223850</td>\n",
       "      <td>2.277546</td>\n",
       "      <td>-0.006897</td>\n",
       "      <td>-0.042541</td>\n",
       "      <td>0.000000</td>\n",
       "      <td>0.000000</td>\n",
       "      <td>0.000000</td>\n",
       "      <td>0.000000</td>\n",
       "      <td>-0.811236</td>\n",
       "      <td>...</td>\n",
       "      <td>1</td>\n",
       "      <td>1</td>\n",
       "      <td>1</td>\n",
       "      <td>0</td>\n",
       "      <td>0</td>\n",
       "      <td>0</td>\n",
       "      <td>0</td>\n",
       "      <td>0</td>\n",
       "      <td>1</td>\n",
       "      <td>0</td>\n",
       "    </tr>\n",
       "  </tbody>\n",
       "</table>\n",
       "<p>5 rows × 30 columns</p>\n",
       "</div>"
      ],
      "text/plain": [
       "                                    user_id   MONTANT  FREQUENCE_RECH  \\\n",
       "0  00001dbe00e56fc4b1c1b65dda63de2a5ece55f9 -0.174768       -0.608786   \n",
       "1  000055d41c8a62052dd426592e8a4a3342bf565d -0.888292       -0.852202   \n",
       "2  000081dd3245e6869a4a9c574c7050e7bb84c2c8 -0.432851        1.013988   \n",
       "3  0000b76d2145d9445d9ff6b65c9ebc4196c89337 -0.037105        0.099862   \n",
       "4  0000bae5480628cf8fe51ad84bcb39772fc79224 -0.223850        2.277546   \n",
       "\n",
       "    REVENUE  ARPU_SEGMENT  FREQUENCE  DATA_VOLUME    ON_NET    ORANGE  \\\n",
       "0 -0.167705     -0.165788  -0.749737     0.000000  0.142315 -0.539093   \n",
       "1 -0.867529     -0.866013  -0.917127    -0.344747  0.000000 -0.609527   \n",
       "2 -0.407268     -0.405788   1.007859     0.444674 -0.400009 -0.596721   \n",
       "3 -0.685145      0.071922   0.000000     0.000000  0.000000  0.000000   \n",
       "4 -0.006897     -0.042541   0.000000     0.000000  0.000000  0.000000   \n",
       "\n",
       "   REGULARITY  ...  TENURE_K > 24 month  MRG_NO  TOP_PACK_all_net  \\\n",
       "0    0.624445  ...                    1       1                 0   \n",
       "1    0.579580  ...                    0       1                 0   \n",
       "2    1.297421  ...                    1       1                 0   \n",
       "3   -0.856101  ...                    1       1                 1   \n",
       "4   -0.811236  ...                    1       1                 1   \n",
       "\n",
       "   TOP_PACK_data  TOP_PACK_mixt  TOP_PACK_on_net  TOP_PACK_others  \\\n",
       "0              0              0                1                0   \n",
       "1              1              0                0                0   \n",
       "2              1              0                0                0   \n",
       "3              0              0                0                0   \n",
       "4              0              0                0                0   \n",
       "\n",
       "   income_group_low  income_group_midlle  income_group_high  \n",
       "0                 0                    1                  0  \n",
       "1                 1                    0                  0  \n",
       "2                 0                    1                  0  \n",
       "3                 1                    0                  0  \n",
       "4                 0                    1                  0  \n",
       "\n",
       "[5 rows x 30 columns]"
      ]
     },
     "execution_count": 148,
     "metadata": {},
     "output_type": "execute_result"
    }
   ],
   "source": [
    "round(test1.head(), 6)"
   ]
  },
  {
   "cell_type": "code",
   "execution_count": null,
   "id": "f71f2a77",
   "metadata": {
    "id": "f71f2a77",
    "outputId": "c72ceabf-12a4-4966-b64d-5b1aeac27584"
   },
   "outputs": [
    {
     "data": {
      "text/html": [
       "<div>\n",
       "<style scoped>\n",
       "    .dataframe tbody tr th:only-of-type {\n",
       "        vertical-align: middle;\n",
       "    }\n",
       "\n",
       "    .dataframe tbody tr th {\n",
       "        vertical-align: top;\n",
       "    }\n",
       "\n",
       "    .dataframe thead th {\n",
       "        text-align: right;\n",
       "    }\n",
       "</style>\n",
       "<table border=\"1\" class=\"dataframe\">\n",
       "  <thead>\n",
       "    <tr style=\"text-align: right;\">\n",
       "      <th></th>\n",
       "      <th>MONTANT</th>\n",
       "      <th>FREQUENCE_RECH</th>\n",
       "      <th>REVENUE</th>\n",
       "      <th>ARPU_SEGMENT</th>\n",
       "      <th>FREQUENCE</th>\n",
       "      <th>DATA_VOLUME</th>\n",
       "      <th>ON_NET</th>\n",
       "      <th>ORANGE</th>\n",
       "      <th>REGULARITY</th>\n",
       "      <th>FREQ_TOP_PACK</th>\n",
       "      <th>...</th>\n",
       "      <th>TENURE_K &gt; 24 month</th>\n",
       "      <th>MRG_NO</th>\n",
       "      <th>TOP_PACK_all_net</th>\n",
       "      <th>TOP_PACK_data</th>\n",
       "      <th>TOP_PACK_mixt</th>\n",
       "      <th>TOP_PACK_on_net</th>\n",
       "      <th>TOP_PACK_others</th>\n",
       "      <th>income_group_low</th>\n",
       "      <th>income_group_midlle</th>\n",
       "      <th>income_group_high</th>\n",
       "    </tr>\n",
       "  </thead>\n",
       "  <tbody>\n",
       "    <tr>\n",
       "      <th>0</th>\n",
       "      <td>-0.174768</td>\n",
       "      <td>-0.608786</td>\n",
       "      <td>-0.167705</td>\n",
       "      <td>-0.165788</td>\n",
       "      <td>-7.497371e-01</td>\n",
       "      <td>5.315962e-17</td>\n",
       "      <td>1.423153e-01</td>\n",
       "      <td>-0.539093</td>\n",
       "      <td>0.624445</td>\n",
       "      <td>-4.551900e-01</td>\n",
       "      <td>...</td>\n",
       "      <td>1</td>\n",
       "      <td>1</td>\n",
       "      <td>0</td>\n",
       "      <td>0</td>\n",
       "      <td>0</td>\n",
       "      <td>1</td>\n",
       "      <td>0</td>\n",
       "      <td>0</td>\n",
       "      <td>1</td>\n",
       "      <td>0</td>\n",
       "    </tr>\n",
       "    <tr>\n",
       "      <th>1</th>\n",
       "      <td>-0.888292</td>\n",
       "      <td>-0.852202</td>\n",
       "      <td>-0.867529</td>\n",
       "      <td>-0.866013</td>\n",
       "      <td>-9.171272e-01</td>\n",
       "      <td>-3.447470e-01</td>\n",
       "      <td>8.155446e-17</td>\n",
       "      <td>-0.609527</td>\n",
       "      <td>0.579580</td>\n",
       "      <td>-8.824396e-01</td>\n",
       "      <td>...</td>\n",
       "      <td>0</td>\n",
       "      <td>1</td>\n",
       "      <td>0</td>\n",
       "      <td>1</td>\n",
       "      <td>0</td>\n",
       "      <td>0</td>\n",
       "      <td>0</td>\n",
       "      <td>1</td>\n",
       "      <td>0</td>\n",
       "      <td>0</td>\n",
       "    </tr>\n",
       "    <tr>\n",
       "      <th>2</th>\n",
       "      <td>-0.432851</td>\n",
       "      <td>1.013988</td>\n",
       "      <td>-0.407268</td>\n",
       "      <td>-0.405788</td>\n",
       "      <td>1.007859e+00</td>\n",
       "      <td>4.446736e-01</td>\n",
       "      <td>-4.000093e-01</td>\n",
       "      <td>-0.596721</td>\n",
       "      <td>1.297421</td>\n",
       "      <td>1.360621e+00</td>\n",
       "      <td>...</td>\n",
       "      <td>1</td>\n",
       "      <td>1</td>\n",
       "      <td>0</td>\n",
       "      <td>1</td>\n",
       "      <td>0</td>\n",
       "      <td>0</td>\n",
       "      <td>0</td>\n",
       "      <td>0</td>\n",
       "      <td>1</td>\n",
       "      <td>0</td>\n",
       "    </tr>\n",
       "    <tr>\n",
       "      <th>3</th>\n",
       "      <td>-0.037105</td>\n",
       "      <td>0.099862</td>\n",
       "      <td>-0.685145</td>\n",
       "      <td>0.071922</td>\n",
       "      <td>4.460168e-16</td>\n",
       "      <td>5.315962e-17</td>\n",
       "      <td>8.155446e-17</td>\n",
       "      <td>0.000000</td>\n",
       "      <td>-0.856101</td>\n",
       "      <td>-1.897369e-16</td>\n",
       "      <td>...</td>\n",
       "      <td>1</td>\n",
       "      <td>1</td>\n",
       "      <td>1</td>\n",
       "      <td>0</td>\n",
       "      <td>0</td>\n",
       "      <td>0</td>\n",
       "      <td>0</td>\n",
       "      <td>1</td>\n",
       "      <td>0</td>\n",
       "      <td>0</td>\n",
       "    </tr>\n",
       "    <tr>\n",
       "      <th>4</th>\n",
       "      <td>-0.223850</td>\n",
       "      <td>2.277546</td>\n",
       "      <td>-0.006897</td>\n",
       "      <td>-0.042541</td>\n",
       "      <td>4.460168e-16</td>\n",
       "      <td>5.315962e-17</td>\n",
       "      <td>8.155446e-17</td>\n",
       "      <td>0.000000</td>\n",
       "      <td>-0.811236</td>\n",
       "      <td>-1.897369e-16</td>\n",
       "      <td>...</td>\n",
       "      <td>1</td>\n",
       "      <td>1</td>\n",
       "      <td>1</td>\n",
       "      <td>0</td>\n",
       "      <td>0</td>\n",
       "      <td>0</td>\n",
       "      <td>0</td>\n",
       "      <td>0</td>\n",
       "      <td>1</td>\n",
       "      <td>0</td>\n",
       "    </tr>\n",
       "  </tbody>\n",
       "</table>\n",
       "<p>5 rows × 29 columns</p>\n",
       "</div>"
      ],
      "text/plain": [
       "    MONTANT  FREQUENCE_RECH   REVENUE  ARPU_SEGMENT     FREQUENCE  \\\n",
       "0 -0.174768       -0.608786 -0.167705     -0.165788 -7.497371e-01   \n",
       "1 -0.888292       -0.852202 -0.867529     -0.866013 -9.171272e-01   \n",
       "2 -0.432851        1.013988 -0.407268     -0.405788  1.007859e+00   \n",
       "3 -0.037105        0.099862 -0.685145      0.071922  4.460168e-16   \n",
       "4 -0.223850        2.277546 -0.006897     -0.042541  4.460168e-16   \n",
       "\n",
       "    DATA_VOLUME        ON_NET    ORANGE  REGULARITY  FREQ_TOP_PACK  ...  \\\n",
       "0  5.315962e-17  1.423153e-01 -0.539093    0.624445  -4.551900e-01  ...   \n",
       "1 -3.447470e-01  8.155446e-17 -0.609527    0.579580  -8.824396e-01  ...   \n",
       "2  4.446736e-01 -4.000093e-01 -0.596721    1.297421   1.360621e+00  ...   \n",
       "3  5.315962e-17  8.155446e-17  0.000000   -0.856101  -1.897369e-16  ...   \n",
       "4  5.315962e-17  8.155446e-17  0.000000   -0.811236  -1.897369e-16  ...   \n",
       "\n",
       "   TENURE_K > 24 month  MRG_NO  TOP_PACK_all_net  TOP_PACK_data  \\\n",
       "0                    1       1                 0              0   \n",
       "1                    0       1                 0              1   \n",
       "2                    1       1                 0              1   \n",
       "3                    1       1                 1              0   \n",
       "4                    1       1                 1              0   \n",
       "\n",
       "   TOP_PACK_mixt  TOP_PACK_on_net  TOP_PACK_others  income_group_low  \\\n",
       "0              0                1                0                 0   \n",
       "1              0                0                0                 1   \n",
       "2              0                0                0                 0   \n",
       "3              0                0                0                 1   \n",
       "4              0                0                0                 0   \n",
       "\n",
       "   income_group_midlle  income_group_high  \n",
       "0                    1                  0  \n",
       "1                    0                  0  \n",
       "2                    1                  0  \n",
       "3                    0                  0  \n",
       "4                    1                  0  \n",
       "\n",
       "[5 rows x 29 columns]"
      ]
     },
     "execution_count": 150,
     "metadata": {},
     "output_type": "execute_result"
    }
   ],
   "source": [
    "to_test = test1.drop(['user_id'], axis=1)\n",
    "#The drop() function is used to drop specified labels from rows or columns.\n",
    "to_test.head()"
   ]
  },
  {
   "cell_type": "code",
   "execution_count": null,
   "id": "49d4c78d",
   "metadata": {
    "id": "49d4c78d"
   },
   "outputs": [],
   "source": [
    "predictions = clf.best_estimator_.predict(to_test)"
   ]
  },
  {
   "cell_type": "code",
   "execution_count": null,
   "id": "b3b0ac4c",
   "metadata": {
    "id": "b3b0ac4c",
    "outputId": "ec1e7505-495a-4eb5-b8ad-743561cf37ad"
   },
   "outputs": [
    {
     "data": {
      "text/html": [
       "<div>\n",
       "<style scoped>\n",
       "    .dataframe tbody tr th:only-of-type {\n",
       "        vertical-align: middle;\n",
       "    }\n",
       "\n",
       "    .dataframe tbody tr th {\n",
       "        vertical-align: top;\n",
       "    }\n",
       "\n",
       "    .dataframe thead th {\n",
       "        text-align: right;\n",
       "    }\n",
       "</style>\n",
       "<table border=\"1\" class=\"dataframe\">\n",
       "  <thead>\n",
       "    <tr style=\"text-align: right;\">\n",
       "      <th></th>\n",
       "      <th>user_id</th>\n",
       "      <th>prediction</th>\n",
       "    </tr>\n",
       "  </thead>\n",
       "  <tbody>\n",
       "    <tr>\n",
       "      <th>0</th>\n",
       "      <td>00001dbe00e56fc4b1c1b65dda63de2a5ece55f9</td>\n",
       "      <td>0</td>\n",
       "    </tr>\n",
       "    <tr>\n",
       "      <th>1</th>\n",
       "      <td>000055d41c8a62052dd426592e8a4a3342bf565d</td>\n",
       "      <td>0</td>\n",
       "    </tr>\n",
       "    <tr>\n",
       "      <th>2</th>\n",
       "      <td>000081dd3245e6869a4a9c574c7050e7bb84c2c8</td>\n",
       "      <td>0</td>\n",
       "    </tr>\n",
       "    <tr>\n",
       "      <th>3</th>\n",
       "      <td>0000b76d2145d9445d9ff6b65c9ebc4196c89337</td>\n",
       "      <td>1</td>\n",
       "    </tr>\n",
       "    <tr>\n",
       "      <th>4</th>\n",
       "      <td>0000bae5480628cf8fe51ad84bcb39772fc79224</td>\n",
       "      <td>1</td>\n",
       "    </tr>\n",
       "  </tbody>\n",
       "</table>\n",
       "</div>"
      ],
      "text/plain": [
       "                                    user_id  prediction\n",
       "0  00001dbe00e56fc4b1c1b65dda63de2a5ece55f9           0\n",
       "1  000055d41c8a62052dd426592e8a4a3342bf565d           0\n",
       "2  000081dd3245e6869a4a9c574c7050e7bb84c2c8           0\n",
       "3  0000b76d2145d9445d9ff6b65c9ebc4196c89337           1\n",
       "4  0000bae5480628cf8fe51ad84bcb39772fc79224           1"
      ]
     },
     "execution_count": 159,
     "metadata": {},
     "output_type": "execute_result"
    }
   ],
   "source": [
    "submission = pd.DataFrame(zip(test1['user_id'], predictions), columns=['user_id', 'prediction'])\n",
    "submission.head()"
   ]
  },
  {
   "cell_type": "code",
   "execution_count": null,
   "id": "e32099a5",
   "metadata": {
    "id": "e32099a5",
    "outputId": "35f27a79-1e95-4c94-d67d-bae347f5da54"
   },
   "outputs": [
    {
     "data": {
      "text/plain": [
       "0    218706\n",
       "1    161421\n",
       "Name: prediction, dtype: int64"
      ]
     },
     "execution_count": 161,
     "metadata": {},
     "output_type": "execute_result"
    }
   ],
   "source": [
    "submission.prediction.value_counts()"
   ]
  },
  {
   "cell_type": "code",
   "execution_count": null,
   "id": "56aa1dbc",
   "metadata": {
    "id": "56aa1dbc"
   },
   "outputs": [],
   "source": [
    "submission.to_csv('submission.csv', index=False)"
   ]
  }
 ],
 "metadata": {
  "colab": {
   "collapsed_sections": [],
   "name": "project_updated.ipynb",
   "provenance": []
  },
  "kernelspec": {
   "display_name": "Python 3 (ipykernel)",
   "language": "python",
   "name": "python3"
  },
  "language_info": {
   "codemirror_mode": {
    "name": "ipython",
    "version": 3
   },
   "file_extension": ".py",
   "mimetype": "text/x-python",
   "name": "python",
   "nbconvert_exporter": "python",
   "pygments_lexer": "ipython3",
   "version": "3.9.7"
  }
 },
 "nbformat": 4,
 "nbformat_minor": 5
}
